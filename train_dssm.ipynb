{
  "cells": [
    {
      "cell_type": "markdown",
      "id": "b4d7fc4a",
      "metadata": {},
      "source": [
        "# Imports"
      ]
    },
    {
      "cell_type": "code",
      "execution_count": 1,
      "id": "dfe607a4",
      "metadata": {
        "colab": {
          "base_uri": "https://localhost:8080/"
        },
        "id": "dfe607a4",
        "outputId": "3d00d132-a571-481f-a73a-6bd5e46f2946"
      },
      "outputs": [
        {
          "name": "stderr",
          "output_type": "stream",
          "text": [
            "/tmp/ipykernel_500066/2455143542.py:21: TqdmExperimentalWarning: Using `tqdm.autonotebook.tqdm` in notebook mode. Use `tqdm.tqdm` instead to force console mode (e.g. in jupyter console)\n",
            "  from tqdm.autonotebook import tqdm, trange\n"
          ]
        }
      ],
      "source": [
        "import pandas as pd\n",
        "import numpy as np\n",
        "import torch\n",
        "from torch import Tensor\n",
        "import torch.nn as nn\n",
        "import torch.nn.functional as F\n",
        "import torch.utils.data as td\n",
        "# from torchmetrics.retrieval.ndcg import RetrievalNormalizedDCG\n",
        "\n",
        "from sklearn.preprocessing import MultiLabelBinarizer\n",
        "# from sklearn.metrics import ndcg_score\n",
        "\n",
        "import shutil\n",
        "import time\n",
        "import gc\n",
        "from pathlib import Path\n",
        "import ast\n",
        "import typing as tp\n",
        "import random\n",
        "from collections import Counter\n",
        "from tqdm.autonotebook import tqdm, trange\n",
        "import wandb\n",
        "import warnings\n",
        "from joblib import Parallel, delayed\n",
        "from math import log2\n",
        "\n",
        "torch.multiprocessing.set_start_method('fork', force=True)\n",
        "warnings.filterwarnings(\"ignore\", category=DeprecationWarning)\n",
        "np.random.seed(31337)"
      ]
    },
    {
      "cell_type": "code",
      "execution_count": 2,
      "id": "WsStNnYsl-TH",
      "metadata": {
        "id": "WsStNnYsl-TH"
      },
      "outputs": [],
      "source": [
        "from typing import Callable, Literal\n",
        "import numpy as np\n",
        "import torch\n",
        "\n",
        "\n",
        "class EarlyStopping:\n",
        "    \"\"\"Early stops the training if validation loss doesn't improve after a given patience.\"\"\"\n",
        "    def __init__(self,\n",
        "                 patience: int = 7,\n",
        "                 threshold = 0,\n",
        "                 threshold_mode: Literal['rel', 'abs'] = 'abs',\n",
        "                 verbose: bool = False,\n",
        "                 path: str = 'checkpoint.pt',\n",
        "                 trace_func: Callable = print\n",
        "                 ):\n",
        "        \"\"\"\n",
        "        Args:\n",
        "            patience (int): How long to wait after last time validation loss improved.\n",
        "                            Default: 7\n",
        "            verbose (bool): If True, prints a message for each validation loss improvement.\n",
        "                            Default: False\n",
        "            delta (float): Minimum change in the monitored quantity to qualify as an improvement.\n",
        "                            Default: 0\n",
        "            path (str): Path for the checkpoint to be saved to.\n",
        "                            Default: 'checkpoint.pt'\n",
        "            trace_func (function): trace print function.\n",
        "                            Default: print\n",
        "        \"\"\"\n",
        "        self.patience = patience\n",
        "        self.verbose = verbose\n",
        "        self.threshold_mode = threshold_mode\n",
        "        self.counter = 0\n",
        "        self.best_val_loss = None\n",
        "        self.early_stop = False\n",
        "        self.val_loss_min = np.inf\n",
        "        self.threshold = threshold\n",
        "        self.path = path\n",
        "        self.trace_func = trace_func\n",
        "\n",
        "    def _significant_improvement(self, val_loss) -> bool:\n",
        "        if self.threshold_mode == 'abs':\n",
        "            return self.best_val_loss - val_loss > self.threshold\n",
        "        else:\n",
        "            return (self.best_val_loss - val_loss) / self.best_val_loss > self.threshold\n",
        "\n",
        "    def __call__(self, val_loss, model):\n",
        "        # Check if validation loss is nan\n",
        "        if np.isnan(val_loss):\n",
        "            self.trace_func(\"Validation loss is NaN. Ignoring this epoch.\")\n",
        "            return\n",
        "\n",
        "        if self.best_val_loss is None:\n",
        "            self.best_val_loss = val_loss\n",
        "            # self.save_checkpoint(val_loss, model)\n",
        "        elif self._significant_improvement(val_loss):\n",
        "            self.best_val_loss = val_loss\n",
        "            # self.save_checkpoint(val_loss, model)\n",
        "            self.counter = 0  # Reset counter since improvement occurred\n",
        "        else:\n",
        "            # No significant improvement\n",
        "            self.counter += 1\n",
        "            self.trace_func(f'EarlyStopping counter: {self.counter} out of {self.patience}')\n",
        "            if self.counter >= self.patience:\n",
        "                self.early_stop = True\n",
        "\n",
        "    def save_checkpoint(self, val_loss: float, model: torch.nn.Module):\n",
        "        '''Saves model when validation loss decreases.'''\n",
        "        if self.verbose:\n",
        "            self.trace_func(f'Validation loss decreased ({self.val_loss_min:.6f} --> {val_loss:.6f}).  Saving model ...')\n",
        "        torch.save(model.state_dict(), self.path)\n",
        "        self.val_loss_min = val_loss"
      ]
    },
    {
      "cell_type": "markdown",
      "id": "1cff51fc",
      "metadata": {
        "id": "1cff51fc"
      },
      "source": [
        "# Preprocessing"
      ]
    },
    {
      "cell_type": "code",
      "execution_count": 3,
      "id": "027640d8",
      "metadata": {
        "id": "027640d8"
      },
      "outputs": [],
      "source": [
        "# folder = Path(\"/content/\")\n",
        "folder = Path(\"data/data_kion\")\n",
        "users_df = pd.read_csv(folder / \"users_processed.csv\")\n",
        "items_df = pd.read_csv(folder / \"items_processed.csv\")\n",
        "interactions_df = pd.read_csv(folder / \"interactions_processed.csv\")"
      ]
    },
    {
      "cell_type": "markdown",
      "id": "f7725269",
      "metadata": {
        "id": "f7725269"
      },
      "source": [
        "## Users preprocessing"
      ]
    },
    {
      "cell_type": "code",
      "execution_count": 4,
      "id": "8105d667",
      "metadata": {
        "colab": {
          "base_uri": "https://localhost:8080/",
          "height": 206
        },
        "id": "8105d667",
        "outputId": "d3b03fbf-183f-4172-9a6b-6e998d987c83"
      },
      "outputs": [
        {
          "data": {
            "text/html": [
              "<div>\n",
              "<style scoped>\n",
              "    .dataframe tbody tr th:only-of-type {\n",
              "        vertical-align: middle;\n",
              "    }\n",
              "\n",
              "    .dataframe tbody tr th {\n",
              "        vertical-align: top;\n",
              "    }\n",
              "\n",
              "    .dataframe thead th {\n",
              "        text-align: right;\n",
              "    }\n",
              "</style>\n",
              "<table border=\"1\" class=\"dataframe\">\n",
              "  <thead>\n",
              "    <tr style=\"text-align: right;\">\n",
              "      <th></th>\n",
              "      <th>user_id</th>\n",
              "      <th>age</th>\n",
              "      <th>income</th>\n",
              "      <th>sex</th>\n",
              "      <th>kids_flg</th>\n",
              "    </tr>\n",
              "  </thead>\n",
              "  <tbody>\n",
              "    <tr>\n",
              "      <th>0</th>\n",
              "      <td>973171</td>\n",
              "      <td>age_25_34</td>\n",
              "      <td>income_60_90</td>\n",
              "      <td>M</td>\n",
              "      <td>True</td>\n",
              "    </tr>\n",
              "    <tr>\n",
              "      <th>1</th>\n",
              "      <td>962099</td>\n",
              "      <td>age_18_24</td>\n",
              "      <td>income_20_40</td>\n",
              "      <td>M</td>\n",
              "      <td>False</td>\n",
              "    </tr>\n",
              "    <tr>\n",
              "      <th>2</th>\n",
              "      <td>1047345</td>\n",
              "      <td>age_45_54</td>\n",
              "      <td>income_40_60</td>\n",
              "      <td>F</td>\n",
              "      <td>False</td>\n",
              "    </tr>\n",
              "    <tr>\n",
              "      <th>3</th>\n",
              "      <td>721985</td>\n",
              "      <td>age_45_54</td>\n",
              "      <td>income_20_40</td>\n",
              "      <td>F</td>\n",
              "      <td>False</td>\n",
              "    </tr>\n",
              "    <tr>\n",
              "      <th>4</th>\n",
              "      <td>704055</td>\n",
              "      <td>age_35_44</td>\n",
              "      <td>income_60_90</td>\n",
              "      <td>F</td>\n",
              "      <td>False</td>\n",
              "    </tr>\n",
              "  </tbody>\n",
              "</table>\n",
              "</div>"
            ],
            "text/plain": [
              "   user_id        age        income sex  kids_flg\n",
              "0   973171  age_25_34  income_60_90   M      True\n",
              "1   962099  age_18_24  income_20_40   M     False\n",
              "2  1047345  age_45_54  income_40_60   F     False\n",
              "3   721985  age_45_54  income_20_40   F     False\n",
              "4   704055  age_35_44  income_60_90   F     False"
            ]
          },
          "execution_count": 4,
          "metadata": {},
          "output_type": "execute_result"
        }
      ],
      "source": [
        "users_df.head()"
      ]
    },
    {
      "cell_type": "markdown",
      "id": "1421d4ed",
      "metadata": {
        "id": "1421d4ed"
      },
      "source": [
        "Закодируем возраст и доход числами (по возрастанию от 0), а тем юзерам, у которых они неизвестны, заполним их медианой (категорией, в которую попадает медиана среднего по диапазонам категорий)."
      ]
    },
    {
      "cell_type": "code",
      "execution_count": 5,
      "id": "66ec3e9f",
      "metadata": {
        "colab": {
          "base_uri": "https://localhost:8080/"
        },
        "id": "66ec3e9f",
        "outputId": "7bca78e4-8c8e-4101-f0e1-acc720f3bba0"
      },
      "outputs": [
        {
          "data": {
            "text/plain": [
              "({'age_18_24': 0,\n",
              "  'age_25_34': 1,\n",
              "  'age_35_44': 2,\n",
              "  'age_45_54': 3,\n",
              "  'age_55_64': 4,\n",
              "  'age_65_inf': 5,\n",
              "  'age_unknown': 2},\n",
              " {'income_0_20': 0,\n",
              "  'income_20_40': 1,\n",
              "  'income_40_60': 2,\n",
              "  'income_60_90': 3,\n",
              "  'income_90_150': 4,\n",
              "  'income_150_inf': 5,\n",
              "  'income_unknown': 1},\n",
              " {'M': -1, 'sex_unknown': 0, 'F': 1})"
            ]
          },
          "execution_count": 5,
          "metadata": {},
          "output_type": "execute_result"
        }
      ],
      "source": [
        "sorted_age_categories = sorted(users_df['age'].unique(), key=lambda s: float(s.split('_')[1] if len(s.split('_')) == 3 else np.inf))\n",
        "age_mapper = {age: id for id, age in enumerate(sorted_age_categories)}\n",
        "median_age = users_df[users_df['age'] != 'age_unknown']['age'].map(lambda s: (float(s.split('_')[2] if float(s.split('_')[2]) < np.inf else s.split('_')[1]) + float(s.split('_')[1])) / 2).median()\n",
        "age_fill_value = None\n",
        "for age_cat in sorted_age_categories:\n",
        "    low, high = age_cat.split('_')[1:]\n",
        "    if int(low) < median_age < int(high):\n",
        "        age_fill_value = age_cat\n",
        "        break\n",
        "age_mapper['age_unknown'] = age_mapper[age_fill_value]\n",
        "\n",
        "sorted_income_categories = sorted(users_df['income'].unique(), key=lambda s: float(s.split('_')[1] if len(s.split('_')) == 3 else np.inf))\n",
        "income_mapper = {income: id for id, income in enumerate(sorted_income_categories)}\n",
        "median_income = users_df[users_df['income'] != 'income_unknown']['income'].map(lambda s: (float(s.split('_')[2] if float(s.split('_')[2]) < np.inf else s.split('_')[1]) + float(s.split('_')[1])) / 2).median()\n",
        "income_fill_value = None\n",
        "for income_cat in sorted_income_categories:\n",
        "    low, high = income_cat.split('_')[1:]\n",
        "    if int(low) < median_income < int(high):\n",
        "        income_fill_value = income_cat\n",
        "        break\n",
        "income_mapper['income_unknown'] = income_mapper[income_fill_value]\n",
        "income_mapper\n",
        "\n",
        "sex_mapper = {'M': -1, 'sex_unknown': 0, 'F': 1}\n",
        "\n",
        "age_mapper, income_mapper, sex_mapper"
      ]
    },
    {
      "cell_type": "code",
      "execution_count": 6,
      "id": "c3cca6b7",
      "metadata": {
        "colab": {
          "base_uri": "https://localhost:8080/",
          "height": 206
        },
        "id": "c3cca6b7",
        "outputId": "c9419d4f-2b6b-49b9-fbd6-d854cc05d45a"
      },
      "outputs": [
        {
          "data": {
            "text/html": [
              "<div>\n",
              "<style scoped>\n",
              "    .dataframe tbody tr th:only-of-type {\n",
              "        vertical-align: middle;\n",
              "    }\n",
              "\n",
              "    .dataframe tbody tr th {\n",
              "        vertical-align: top;\n",
              "    }\n",
              "\n",
              "    .dataframe thead th {\n",
              "        text-align: right;\n",
              "    }\n",
              "</style>\n",
              "<table border=\"1\" class=\"dataframe\">\n",
              "  <thead>\n",
              "    <tr style=\"text-align: right;\">\n",
              "      <th></th>\n",
              "      <th>user_id</th>\n",
              "      <th>age</th>\n",
              "      <th>income</th>\n",
              "      <th>sex</th>\n",
              "      <th>kids_flg</th>\n",
              "    </tr>\n",
              "  </thead>\n",
              "  <tbody>\n",
              "    <tr>\n",
              "      <th>0</th>\n",
              "      <td>973171</td>\n",
              "      <td>1</td>\n",
              "      <td>3</td>\n",
              "      <td>-1</td>\n",
              "      <td>1</td>\n",
              "    </tr>\n",
              "    <tr>\n",
              "      <th>1</th>\n",
              "      <td>962099</td>\n",
              "      <td>0</td>\n",
              "      <td>1</td>\n",
              "      <td>-1</td>\n",
              "      <td>0</td>\n",
              "    </tr>\n",
              "    <tr>\n",
              "      <th>2</th>\n",
              "      <td>1047345</td>\n",
              "      <td>3</td>\n",
              "      <td>2</td>\n",
              "      <td>1</td>\n",
              "      <td>0</td>\n",
              "    </tr>\n",
              "    <tr>\n",
              "      <th>3</th>\n",
              "      <td>721985</td>\n",
              "      <td>3</td>\n",
              "      <td>1</td>\n",
              "      <td>1</td>\n",
              "      <td>0</td>\n",
              "    </tr>\n",
              "    <tr>\n",
              "      <th>4</th>\n",
              "      <td>704055</td>\n",
              "      <td>2</td>\n",
              "      <td>3</td>\n",
              "      <td>1</td>\n",
              "      <td>0</td>\n",
              "    </tr>\n",
              "  </tbody>\n",
              "</table>\n",
              "</div>"
            ],
            "text/plain": [
              "   user_id  age  income  sex  kids_flg\n",
              "0   973171    1       3   -1         1\n",
              "1   962099    0       1   -1         0\n",
              "2  1047345    3       2    1         0\n",
              "3   721985    3       1    1         0\n",
              "4   704055    2       3    1         0"
            ]
          },
          "execution_count": 6,
          "metadata": {},
          "output_type": "execute_result"
        }
      ],
      "source": [
        "users_df['age'] = users_df['age'].map(age_mapper)\n",
        "users_df['income'] = users_df['income'].map(income_mapper)\n",
        "users_df['sex'] = users_df['sex'].map(sex_mapper)\n",
        "users_df['kids_flg'] = users_df['kids_flg']\n",
        "users_df = users_df.astype(np.int32)\n",
        "users_df.head()"
      ]
    },
    {
      "cell_type": "code",
      "execution_count": 7,
      "id": "9d8f2a28",
      "metadata": {
        "colab": {
          "base_uri": "https://localhost:8080/"
        },
        "id": "9d8f2a28",
        "outputId": "5b9c5e08-1c02-433f-fb47-e4a9e1ff21c8"
      },
      "outputs": [
        {
          "name": "stdout",
          "output_type": "stream",
          "text": [
            "<class 'pandas.core.frame.DataFrame'>\n",
            "RangeIndex: 840197 entries, 0 to 840196\n",
            "Data columns (total 5 columns):\n",
            " #   Column    Non-Null Count   Dtype\n",
            "---  ------    --------------   -----\n",
            " 0   user_id   840197 non-null  int32\n",
            " 1   age       840197 non-null  int32\n",
            " 2   income    840197 non-null  int32\n",
            " 3   sex       840197 non-null  int32\n",
            " 4   kids_flg  840197 non-null  int32\n",
            "dtypes: int32(5)\n",
            "memory usage: 16.0 MB\n"
          ]
        }
      ],
      "source": [
        "users_df.info(verbose=True)"
      ]
    },
    {
      "cell_type": "markdown",
      "id": "c10240e3",
      "metadata": {
        "id": "c10240e3"
      },
      "source": [
        "## Items preprocessing"
      ]
    },
    {
      "cell_type": "code",
      "execution_count": 8,
      "id": "611475b9",
      "metadata": {
        "id": "611475b9"
      },
      "outputs": [],
      "source": [
        "items_df['genres'] = items_df['genres'].map(ast.literal_eval)\n",
        "items_df['countries'] = items_df['countries'].map(lambda s: list(set(s.split(', '))))"
      ]
    },
    {
      "cell_type": "code",
      "execution_count": 9,
      "id": "e7949c6f",
      "metadata": {
        "colab": {
          "base_uri": "https://localhost:8080/",
          "height": 608
        },
        "id": "e7949c6f",
        "outputId": "4805c135-4b93-4ddb-d0f3-aee3f4b56d61"
      },
      "outputs": [
        {
          "data": {
            "text/html": [
              "<div>\n",
              "<style scoped>\n",
              "    .dataframe tbody tr th:only-of-type {\n",
              "        vertical-align: middle;\n",
              "    }\n",
              "\n",
              "    .dataframe tbody tr th {\n",
              "        vertical-align: top;\n",
              "    }\n",
              "\n",
              "    .dataframe thead th {\n",
              "        text-align: right;\n",
              "    }\n",
              "</style>\n",
              "<table border=\"1\" class=\"dataframe\">\n",
              "  <thead>\n",
              "    <tr style=\"text-align: right;\">\n",
              "      <th></th>\n",
              "      <th>item_id</th>\n",
              "      <th>content_type</th>\n",
              "      <th>title</th>\n",
              "      <th>title_orig</th>\n",
              "      <th>genres</th>\n",
              "      <th>countries</th>\n",
              "      <th>for_kids</th>\n",
              "      <th>age_rating</th>\n",
              "      <th>studios</th>\n",
              "      <th>directors</th>\n",
              "      <th>actors</th>\n",
              "      <th>description</th>\n",
              "      <th>keywords</th>\n",
              "      <th>release_year_cat</th>\n",
              "    </tr>\n",
              "  </thead>\n",
              "  <tbody>\n",
              "    <tr>\n",
              "      <th>0</th>\n",
              "      <td>10711</td>\n",
              "      <td>film</td>\n",
              "      <td>поговори с ней</td>\n",
              "      <td>Hable con ella</td>\n",
              "      <td>[драмы, детективы, мелодрамы]</td>\n",
              "      <td>[испания]</td>\n",
              "      <td>False</td>\n",
              "      <td>16</td>\n",
              "      <td>unknown</td>\n",
              "      <td>педро альмодовар</td>\n",
              "      <td>Адольфо Фернандес, Ана Фернандес, Дарио Гранди...</td>\n",
              "      <td>Мелодрама легендарного Педро Альмодовара «Пого...</td>\n",
              "      <td>Поговори, ней, 2002, Испания, друзья, любовь, ...</td>\n",
              "      <td>2000_2010</td>\n",
              "    </tr>\n",
              "    <tr>\n",
              "      <th>1</th>\n",
              "      <td>2508</td>\n",
              "      <td>film</td>\n",
              "      <td>голые перцы</td>\n",
              "      <td>Search Party</td>\n",
              "      <td>[приключения, комедии]</td>\n",
              "      <td>[сша]</td>\n",
              "      <td>False</td>\n",
              "      <td>16</td>\n",
              "      <td>unknown</td>\n",
              "      <td>скот армстронг</td>\n",
              "      <td>Адам Палли, Брайан Хаски, Дж.Б. Смув, Джейсон ...</td>\n",
              "      <td>Уморительная современная комедия на популярную...</td>\n",
              "      <td>Голые, перцы, 2014, США, друзья, свадьбы, прео...</td>\n",
              "      <td>2010_2020</td>\n",
              "    </tr>\n",
              "    <tr>\n",
              "      <th>2</th>\n",
              "      <td>10716</td>\n",
              "      <td>film</td>\n",
              "      <td>тактическая сила</td>\n",
              "      <td>Tactical Force</td>\n",
              "      <td>[криминал, триллеры, боевики, комедии]</td>\n",
              "      <td>[канада]</td>\n",
              "      <td>False</td>\n",
              "      <td>16</td>\n",
              "      <td>unknown</td>\n",
              "      <td>адам п. калтраро</td>\n",
              "      <td>Адриан Холмс, Даррен Шалави, Джерри Вассерман,...</td>\n",
              "      <td>Профессиональный рестлер Стив Остин («Все или ...</td>\n",
              "      <td>Тактическая, сила, 2011, Канада, бандиты, ганг...</td>\n",
              "      <td>2010_2020</td>\n",
              "    </tr>\n",
              "    <tr>\n",
              "      <th>3</th>\n",
              "      <td>7868</td>\n",
              "      <td>film</td>\n",
              "      <td>45 лет</td>\n",
              "      <td>45 Years</td>\n",
              "      <td>[драмы, мелодрамы]</td>\n",
              "      <td>[великобритания]</td>\n",
              "      <td>False</td>\n",
              "      <td>16</td>\n",
              "      <td>unknown</td>\n",
              "      <td>эндрю хэй</td>\n",
              "      <td>Александра Риддлстон-Барретт, Джеральдин Джейм...</td>\n",
              "      <td>Шарлотта Рэмплинг, Том Кортни, Джеральдин Джей...</td>\n",
              "      <td>45, лет, 2015, Великобритания, брак, жизнь, лю...</td>\n",
              "      <td>2010_2020</td>\n",
              "    </tr>\n",
              "    <tr>\n",
              "      <th>4</th>\n",
              "      <td>16268</td>\n",
              "      <td>film</td>\n",
              "      <td>все решает мгновение</td>\n",
              "      <td>NaN</td>\n",
              "      <td>[драмы, спорт, мелодрамы]</td>\n",
              "      <td>[ссср]</td>\n",
              "      <td>False</td>\n",
              "      <td>12</td>\n",
              "      <td>ленфильм</td>\n",
              "      <td>виктор садовский</td>\n",
              "      <td>Александр Абдулов, Александр Демьяненко, Алекс...</td>\n",
              "      <td>Расчетливая чаровница из советского кинохита «...</td>\n",
              "      <td>Все, решает, мгновение, 1978, СССР, сильные, ж...</td>\n",
              "      <td>1970_1980</td>\n",
              "    </tr>\n",
              "  </tbody>\n",
              "</table>\n",
              "</div>"
            ],
            "text/plain": [
              "   item_id content_type                 title      title_orig  \\\n",
              "0    10711         film        поговори с ней  Hable con ella   \n",
              "1     2508         film           голые перцы    Search Party   \n",
              "2    10716         film      тактическая сила  Tactical Force   \n",
              "3     7868         film                45 лет        45 Years   \n",
              "4    16268         film  все решает мгновение             NaN   \n",
              "\n",
              "                                   genres         countries  for_kids  \\\n",
              "0           [драмы, детективы, мелодрамы]         [испания]     False   \n",
              "1                  [приключения, комедии]             [сша]     False   \n",
              "2  [криминал, триллеры, боевики, комедии]          [канада]     False   \n",
              "3                      [драмы, мелодрамы]  [великобритания]     False   \n",
              "4               [драмы, спорт, мелодрамы]            [ссср]     False   \n",
              "\n",
              "   age_rating   studios         directors  \\\n",
              "0          16   unknown  педро альмодовар   \n",
              "1          16   unknown    скот армстронг   \n",
              "2          16   unknown  адам п. калтраро   \n",
              "3          16   unknown         эндрю хэй   \n",
              "4          12  ленфильм  виктор садовский   \n",
              "\n",
              "                                              actors  \\\n",
              "0  Адольфо Фернандес, Ана Фернандес, Дарио Гранди...   \n",
              "1  Адам Палли, Брайан Хаски, Дж.Б. Смув, Джейсон ...   \n",
              "2  Адриан Холмс, Даррен Шалави, Джерри Вассерман,...   \n",
              "3  Александра Риддлстон-Барретт, Джеральдин Джейм...   \n",
              "4  Александр Абдулов, Александр Демьяненко, Алекс...   \n",
              "\n",
              "                                         description  \\\n",
              "0  Мелодрама легендарного Педро Альмодовара «Пого...   \n",
              "1  Уморительная современная комедия на популярную...   \n",
              "2  Профессиональный рестлер Стив Остин («Все или ...   \n",
              "3  Шарлотта Рэмплинг, Том Кортни, Джеральдин Джей...   \n",
              "4  Расчетливая чаровница из советского кинохита «...   \n",
              "\n",
              "                                            keywords release_year_cat  \n",
              "0  Поговори, ней, 2002, Испания, друзья, любовь, ...        2000_2010  \n",
              "1  Голые, перцы, 2014, США, друзья, свадьбы, прео...        2010_2020  \n",
              "2  Тактическая, сила, 2011, Канада, бандиты, ганг...        2010_2020  \n",
              "3  45, лет, 2015, Великобритания, брак, жизнь, лю...        2010_2020  \n",
              "4  Все, решает, мгновение, 1978, СССР, сильные, ж...        1970_1980  "
            ]
          },
          "execution_count": 9,
          "metadata": {},
          "output_type": "execute_result"
        }
      ],
      "source": [
        "items_df.head()"
      ]
    },
    {
      "cell_type": "code",
      "execution_count": 10,
      "id": "65eb9d70",
      "metadata": {
        "colab": {
          "base_uri": "https://localhost:8080/"
        },
        "id": "65eb9d70",
        "outputId": "9cc0c668-4e6d-4a63-b0cb-8c5a689c497f"
      },
      "outputs": [
        {
          "data": {
            "text/plain": [
              "Index(['item_id', 'content_type', 'title', 'title_orig', 'genres', 'countries',\n",
              "       'for_kids', 'age_rating', 'studios', 'directors', 'actors',\n",
              "       'description', 'keywords', 'release_year_cat'],\n",
              "      dtype='object')"
            ]
          },
          "execution_count": 10,
          "metadata": {},
          "output_type": "execute_result"
        }
      ],
      "source": [
        "items_df.columns"
      ]
    },
    {
      "cell_type": "markdown",
      "id": "e3a92321",
      "metadata": {
        "id": "e3a92321"
      },
      "source": [
        "Закодируем жанры (отдельный бинарный столбец для каждого жанра)"
      ]
    },
    {
      "cell_type": "code",
      "execution_count": 11,
      "id": "4699f139",
      "metadata": {
        "colab": {
          "base_uri": "https://localhost:8080/",
          "height": 637
        },
        "id": "4699f139",
        "outputId": "353a81b3-d470-4a9d-a97b-7c8f9798b433"
      },
      "outputs": [
        {
          "data": {
            "text/html": [
              "<div>\n",
              "<style scoped>\n",
              "    .dataframe tbody tr th:only-of-type {\n",
              "        vertical-align: middle;\n",
              "    }\n",
              "\n",
              "    .dataframe tbody tr th {\n",
              "        vertical-align: top;\n",
              "    }\n",
              "\n",
              "    .dataframe thead th {\n",
              "        text-align: right;\n",
              "    }\n",
              "</style>\n",
              "<table border=\"1\" class=\"dataframe\">\n",
              "  <thead>\n",
              "    <tr style=\"text-align: right;\">\n",
              "      <th></th>\n",
              "      <th>item_id</th>\n",
              "      <th>content_type</th>\n",
              "      <th>title</th>\n",
              "      <th>title_orig</th>\n",
              "      <th>for_kids</th>\n",
              "      <th>age_rating</th>\n",
              "      <th>directors</th>\n",
              "      <th>actors</th>\n",
              "      <th>description</th>\n",
              "      <th>keywords</th>\n",
              "      <th>...</th>\n",
              "      <th>country_хорватия</th>\n",
              "      <th>country_чехия</th>\n",
              "      <th>country_чили</th>\n",
              "      <th>country_швейцария</th>\n",
              "      <th>country_швеция</th>\n",
              "      <th>country_эквадор</th>\n",
              "      <th>country_эстония</th>\n",
              "      <th>country_юар</th>\n",
              "      <th>country_югославия</th>\n",
              "      <th>country_япония</th>\n",
              "    </tr>\n",
              "  </thead>\n",
              "  <tbody>\n",
              "    <tr>\n",
              "      <th>0</th>\n",
              "      <td>10711</td>\n",
              "      <td>film</td>\n",
              "      <td>поговори с ней</td>\n",
              "      <td>Hable con ella</td>\n",
              "      <td>False</td>\n",
              "      <td>16</td>\n",
              "      <td>педро альмодовар</td>\n",
              "      <td>Адольфо Фернандес, Ана Фернандес, Дарио Гранди...</td>\n",
              "      <td>Мелодрама легендарного Педро Альмодовара «Пого...</td>\n",
              "      <td>Поговори, ней, 2002, Испания, друзья, любовь, ...</td>\n",
              "      <td>...</td>\n",
              "      <td>0</td>\n",
              "      <td>0</td>\n",
              "      <td>0</td>\n",
              "      <td>0</td>\n",
              "      <td>0</td>\n",
              "      <td>0</td>\n",
              "      <td>0</td>\n",
              "      <td>0</td>\n",
              "      <td>0</td>\n",
              "      <td>0</td>\n",
              "    </tr>\n",
              "    <tr>\n",
              "      <th>1</th>\n",
              "      <td>2508</td>\n",
              "      <td>film</td>\n",
              "      <td>голые перцы</td>\n",
              "      <td>Search Party</td>\n",
              "      <td>False</td>\n",
              "      <td>16</td>\n",
              "      <td>скот армстронг</td>\n",
              "      <td>Адам Палли, Брайан Хаски, Дж.Б. Смув, Джейсон ...</td>\n",
              "      <td>Уморительная современная комедия на популярную...</td>\n",
              "      <td>Голые, перцы, 2014, США, друзья, свадьбы, прео...</td>\n",
              "      <td>...</td>\n",
              "      <td>0</td>\n",
              "      <td>0</td>\n",
              "      <td>0</td>\n",
              "      <td>0</td>\n",
              "      <td>0</td>\n",
              "      <td>0</td>\n",
              "      <td>0</td>\n",
              "      <td>0</td>\n",
              "      <td>0</td>\n",
              "      <td>0</td>\n",
              "    </tr>\n",
              "    <tr>\n",
              "      <th>2</th>\n",
              "      <td>10716</td>\n",
              "      <td>film</td>\n",
              "      <td>тактическая сила</td>\n",
              "      <td>Tactical Force</td>\n",
              "      <td>False</td>\n",
              "      <td>16</td>\n",
              "      <td>адам п. калтраро</td>\n",
              "      <td>Адриан Холмс, Даррен Шалави, Джерри Вассерман,...</td>\n",
              "      <td>Профессиональный рестлер Стив Остин («Все или ...</td>\n",
              "      <td>Тактическая, сила, 2011, Канада, бандиты, ганг...</td>\n",
              "      <td>...</td>\n",
              "      <td>0</td>\n",
              "      <td>0</td>\n",
              "      <td>0</td>\n",
              "      <td>0</td>\n",
              "      <td>0</td>\n",
              "      <td>0</td>\n",
              "      <td>0</td>\n",
              "      <td>0</td>\n",
              "      <td>0</td>\n",
              "      <td>0</td>\n",
              "    </tr>\n",
              "    <tr>\n",
              "      <th>3</th>\n",
              "      <td>7868</td>\n",
              "      <td>film</td>\n",
              "      <td>45 лет</td>\n",
              "      <td>45 Years</td>\n",
              "      <td>False</td>\n",
              "      <td>16</td>\n",
              "      <td>эндрю хэй</td>\n",
              "      <td>Александра Риддлстон-Барретт, Джеральдин Джейм...</td>\n",
              "      <td>Шарлотта Рэмплинг, Том Кортни, Джеральдин Джей...</td>\n",
              "      <td>45, лет, 2015, Великобритания, брак, жизнь, лю...</td>\n",
              "      <td>...</td>\n",
              "      <td>0</td>\n",
              "      <td>0</td>\n",
              "      <td>0</td>\n",
              "      <td>0</td>\n",
              "      <td>0</td>\n",
              "      <td>0</td>\n",
              "      <td>0</td>\n",
              "      <td>0</td>\n",
              "      <td>0</td>\n",
              "      <td>0</td>\n",
              "    </tr>\n",
              "    <tr>\n",
              "      <th>4</th>\n",
              "      <td>16268</td>\n",
              "      <td>film</td>\n",
              "      <td>все решает мгновение</td>\n",
              "      <td>NaN</td>\n",
              "      <td>False</td>\n",
              "      <td>12</td>\n",
              "      <td>виктор садовский</td>\n",
              "      <td>Александр Абдулов, Александр Демьяненко, Алекс...</td>\n",
              "      <td>Расчетливая чаровница из советского кинохита «...</td>\n",
              "      <td>Все, решает, мгновение, 1978, СССР, сильные, ж...</td>\n",
              "      <td>...</td>\n",
              "      <td>0</td>\n",
              "      <td>0</td>\n",
              "      <td>0</td>\n",
              "      <td>0</td>\n",
              "      <td>0</td>\n",
              "      <td>0</td>\n",
              "      <td>0</td>\n",
              "      <td>0</td>\n",
              "      <td>0</td>\n",
              "      <td>0</td>\n",
              "    </tr>\n",
              "  </tbody>\n",
              "</table>\n",
              "<p>5 rows × 131 columns</p>\n",
              "</div>"
            ],
            "text/plain": [
              "   item_id content_type                 title      title_orig  for_kids  \\\n",
              "0    10711         film        поговори с ней  Hable con ella     False   \n",
              "1     2508         film           голые перцы    Search Party     False   \n",
              "2    10716         film      тактическая сила  Tactical Force     False   \n",
              "3     7868         film                45 лет        45 Years     False   \n",
              "4    16268         film  все решает мгновение             NaN     False   \n",
              "\n",
              "   age_rating         directors  \\\n",
              "0          16  педро альмодовар   \n",
              "1          16    скот армстронг   \n",
              "2          16  адам п. калтраро   \n",
              "3          16         эндрю хэй   \n",
              "4          12  виктор садовский   \n",
              "\n",
              "                                              actors  \\\n",
              "0  Адольфо Фернандес, Ана Фернандес, Дарио Гранди...   \n",
              "1  Адам Палли, Брайан Хаски, Дж.Б. Смув, Джейсон ...   \n",
              "2  Адриан Холмс, Даррен Шалави, Джерри Вассерман,...   \n",
              "3  Александра Риддлстон-Барретт, Джеральдин Джейм...   \n",
              "4  Александр Абдулов, Александр Демьяненко, Алекс...   \n",
              "\n",
              "                                         description  \\\n",
              "0  Мелодрама легендарного Педро Альмодовара «Пого...   \n",
              "1  Уморительная современная комедия на популярную...   \n",
              "2  Профессиональный рестлер Стив Остин («Все или ...   \n",
              "3  Шарлотта Рэмплинг, Том Кортни, Джеральдин Джей...   \n",
              "4  Расчетливая чаровница из советского кинохита «...   \n",
              "\n",
              "                                            keywords  ... country_хорватия  \\\n",
              "0  Поговори, ней, 2002, Испания, друзья, любовь, ...  ...                0   \n",
              "1  Голые, перцы, 2014, США, друзья, свадьбы, прео...  ...                0   \n",
              "2  Тактическая, сила, 2011, Канада, бандиты, ганг...  ...                0   \n",
              "3  45, лет, 2015, Великобритания, брак, жизнь, лю...  ...                0   \n",
              "4  Все, решает, мгновение, 1978, СССР, сильные, ж...  ...                0   \n",
              "\n",
              "   country_чехия  country_чили  country_швейцария  country_швеция  \\\n",
              "0              0             0                  0               0   \n",
              "1              0             0                  0               0   \n",
              "2              0             0                  0               0   \n",
              "3              0             0                  0               0   \n",
              "4              0             0                  0               0   \n",
              "\n",
              "   country_эквадор  country_эстония  country_юар  country_югославия  \\\n",
              "0                0                0            0                  0   \n",
              "1                0                0            0                  0   \n",
              "2                0                0            0                  0   \n",
              "3                0                0            0                  0   \n",
              "4                0                0            0                  0   \n",
              "\n",
              "   country_япония  \n",
              "0               0  \n",
              "1               0  \n",
              "2               0  \n",
              "3               0  \n",
              "4               0  \n",
              "\n",
              "[5 rows x 131 columns]"
            ]
          },
          "execution_count": 11,
          "metadata": {},
          "output_type": "execute_result"
        }
      ],
      "source": [
        "genres_mlb = MultiLabelBinarizer()\n",
        "genres_one_hot = pd.DataFrame(genres_mlb.fit_transform(items_df['genres']),\n",
        "                              columns=list(map(lambda s: f'genre_{s}', genres_mlb.classes_)),\n",
        "                              index=items_df.index,\n",
        "                              dtype=np.int32)\n",
        "countries_mlb = MultiLabelBinarizer()\n",
        "countries_one_hot = pd.DataFrame(countries_mlb.fit_transform(items_df['countries']),\n",
        "                                 columns=list(map(lambda s: f'country_{s}', countries_mlb.classes_)),\n",
        "                                 index=items_df.index,\n",
        "                                 dtype=np.int32)\n",
        "items_df = pd.concat([items_df, genres_one_hot, countries_one_hot], axis=1).drop(columns=['genres', 'genre_no_genre', 'studios', 'countries'])\n",
        "items_df.head()"
      ]
    },
    {
      "cell_type": "markdown",
      "id": "a73f8d56",
      "metadata": {
        "id": "a73f8d56"
      },
      "source": [
        "И так же, как с юзерами, закодируем числами категориальные фичи (которых по одному значению на строку)"
      ]
    },
    {
      "cell_type": "code",
      "execution_count": 12,
      "id": "fcf045f7",
      "metadata": {
        "colab": {
          "base_uri": "https://localhost:8080/"
        },
        "id": "fcf045f7",
        "outputId": "e0215033-d56c-4054-f11c-3ae4867eaf53"
      },
      "outputs": [
        {
          "data": {
            "text/plain": [
              "({'film': 0, 'series': 1},\n",
              " {np.int64(0): 0,\n",
              "  np.int64(6): 1,\n",
              "  np.int64(12): 2,\n",
              "  np.int64(16): 3,\n",
              "  np.int64(18): 4,\n",
              "  np.int64(21): 5},\n",
              " {'inf_1920': 0,\n",
              "  '1920_1930': 1,\n",
              "  '1930_1940': 2,\n",
              "  '1940_1950': 3,\n",
              "  '1950_1960': 4,\n",
              "  '1960_1970': 5,\n",
              "  '1970_1980': 6,\n",
              "  '1980_1990': 7,\n",
              "  '1990_2000': 8,\n",
              "  '2000_2010': 9,\n",
              "  '2010_2020': 10,\n",
              "  '2020_inf': 11})"
            ]
          },
          "execution_count": 12,
          "metadata": {},
          "output_type": "execute_result"
        }
      ],
      "source": [
        "content_type_mapper = {'film': 0, 'series': 1}\n",
        "age_rating_mapper = {v: id for id, v in enumerate(sorted(items_df['age_rating'].unique()))}\n",
        "release_year_cat_mapper = {y: id for id, y in enumerate(sorted(items_df['release_year_cat'].unique(), key=lambda s: float(s.split('_')[1])))}\n",
        "content_type_mapper, age_rating_mapper, release_year_cat_mapper"
      ]
    },
    {
      "cell_type": "code",
      "execution_count": 13,
      "id": "99506396",
      "metadata": {
        "colab": {
          "base_uri": "https://localhost:8080/",
          "height": 255
        },
        "id": "99506396",
        "outputId": "72aad38f-cb49-43b6-e27b-f1e48041091d"
      },
      "outputs": [
        {
          "data": {
            "text/html": [
              "<div>\n",
              "<style scoped>\n",
              "    .dataframe tbody tr th:only-of-type {\n",
              "        vertical-align: middle;\n",
              "    }\n",
              "\n",
              "    .dataframe tbody tr th {\n",
              "        vertical-align: top;\n",
              "    }\n",
              "\n",
              "    .dataframe thead th {\n",
              "        text-align: right;\n",
              "    }\n",
              "</style>\n",
              "<table border=\"1\" class=\"dataframe\">\n",
              "  <thead>\n",
              "    <tr style=\"text-align: right;\">\n",
              "      <th></th>\n",
              "      <th>item_id</th>\n",
              "      <th>content_type</th>\n",
              "      <th>for_kids</th>\n",
              "      <th>age_rating</th>\n",
              "      <th>release_year_cat</th>\n",
              "      <th>genre_аниме</th>\n",
              "      <th>genre_биография</th>\n",
              "      <th>genre_боевики</th>\n",
              "      <th>genre_военные</th>\n",
              "      <th>genre_детективы</th>\n",
              "      <th>...</th>\n",
              "      <th>country_хорватия</th>\n",
              "      <th>country_чехия</th>\n",
              "      <th>country_чили</th>\n",
              "      <th>country_швейцария</th>\n",
              "      <th>country_швеция</th>\n",
              "      <th>country_эквадор</th>\n",
              "      <th>country_эстония</th>\n",
              "      <th>country_юар</th>\n",
              "      <th>country_югославия</th>\n",
              "      <th>country_япония</th>\n",
              "    </tr>\n",
              "  </thead>\n",
              "  <tbody>\n",
              "    <tr>\n",
              "      <th>0</th>\n",
              "      <td>10711</td>\n",
              "      <td>0</td>\n",
              "      <td>0</td>\n",
              "      <td>3</td>\n",
              "      <td>9</td>\n",
              "      <td>0</td>\n",
              "      <td>0</td>\n",
              "      <td>0</td>\n",
              "      <td>0</td>\n",
              "      <td>1</td>\n",
              "      <td>...</td>\n",
              "      <td>0</td>\n",
              "      <td>0</td>\n",
              "      <td>0</td>\n",
              "      <td>0</td>\n",
              "      <td>0</td>\n",
              "      <td>0</td>\n",
              "      <td>0</td>\n",
              "      <td>0</td>\n",
              "      <td>0</td>\n",
              "      <td>0</td>\n",
              "    </tr>\n",
              "    <tr>\n",
              "      <th>1</th>\n",
              "      <td>2508</td>\n",
              "      <td>0</td>\n",
              "      <td>0</td>\n",
              "      <td>3</td>\n",
              "      <td>10</td>\n",
              "      <td>0</td>\n",
              "      <td>0</td>\n",
              "      <td>0</td>\n",
              "      <td>0</td>\n",
              "      <td>0</td>\n",
              "      <td>...</td>\n",
              "      <td>0</td>\n",
              "      <td>0</td>\n",
              "      <td>0</td>\n",
              "      <td>0</td>\n",
              "      <td>0</td>\n",
              "      <td>0</td>\n",
              "      <td>0</td>\n",
              "      <td>0</td>\n",
              "      <td>0</td>\n",
              "      <td>0</td>\n",
              "    </tr>\n",
              "    <tr>\n",
              "      <th>2</th>\n",
              "      <td>10716</td>\n",
              "      <td>0</td>\n",
              "      <td>0</td>\n",
              "      <td>3</td>\n",
              "      <td>10</td>\n",
              "      <td>0</td>\n",
              "      <td>0</td>\n",
              "      <td>1</td>\n",
              "      <td>0</td>\n",
              "      <td>0</td>\n",
              "      <td>...</td>\n",
              "      <td>0</td>\n",
              "      <td>0</td>\n",
              "      <td>0</td>\n",
              "      <td>0</td>\n",
              "      <td>0</td>\n",
              "      <td>0</td>\n",
              "      <td>0</td>\n",
              "      <td>0</td>\n",
              "      <td>0</td>\n",
              "      <td>0</td>\n",
              "    </tr>\n",
              "    <tr>\n",
              "      <th>3</th>\n",
              "      <td>7868</td>\n",
              "      <td>0</td>\n",
              "      <td>0</td>\n",
              "      <td>3</td>\n",
              "      <td>10</td>\n",
              "      <td>0</td>\n",
              "      <td>0</td>\n",
              "      <td>0</td>\n",
              "      <td>0</td>\n",
              "      <td>0</td>\n",
              "      <td>...</td>\n",
              "      <td>0</td>\n",
              "      <td>0</td>\n",
              "      <td>0</td>\n",
              "      <td>0</td>\n",
              "      <td>0</td>\n",
              "      <td>0</td>\n",
              "      <td>0</td>\n",
              "      <td>0</td>\n",
              "      <td>0</td>\n",
              "      <td>0</td>\n",
              "    </tr>\n",
              "    <tr>\n",
              "      <th>4</th>\n",
              "      <td>16268</td>\n",
              "      <td>0</td>\n",
              "      <td>0</td>\n",
              "      <td>2</td>\n",
              "      <td>6</td>\n",
              "      <td>0</td>\n",
              "      <td>0</td>\n",
              "      <td>0</td>\n",
              "      <td>0</td>\n",
              "      <td>0</td>\n",
              "      <td>...</td>\n",
              "      <td>0</td>\n",
              "      <td>0</td>\n",
              "      <td>0</td>\n",
              "      <td>0</td>\n",
              "      <td>0</td>\n",
              "      <td>0</td>\n",
              "      <td>0</td>\n",
              "      <td>0</td>\n",
              "      <td>0</td>\n",
              "      <td>0</td>\n",
              "    </tr>\n",
              "  </tbody>\n",
              "</table>\n",
              "<p>5 rows × 125 columns</p>\n",
              "</div>"
            ],
            "text/plain": [
              "   item_id  content_type  for_kids  age_rating  release_year_cat  genre_аниме  \\\n",
              "0    10711             0         0           3                 9            0   \n",
              "1     2508             0         0           3                10            0   \n",
              "2    10716             0         0           3                10            0   \n",
              "3     7868             0         0           3                10            0   \n",
              "4    16268             0         0           2                 6            0   \n",
              "\n",
              "   genre_биография  genre_боевики  genre_военные  genre_детективы  ...  \\\n",
              "0                0              0              0                1  ...   \n",
              "1                0              0              0                0  ...   \n",
              "2                0              1              0                0  ...   \n",
              "3                0              0              0                0  ...   \n",
              "4                0              0              0                0  ...   \n",
              "\n",
              "   country_хорватия  country_чехия  country_чили  country_швейцария  \\\n",
              "0                 0              0             0                  0   \n",
              "1                 0              0             0                  0   \n",
              "2                 0              0             0                  0   \n",
              "3                 0              0             0                  0   \n",
              "4                 0              0             0                  0   \n",
              "\n",
              "   country_швеция  country_эквадор  country_эстония  country_юар  \\\n",
              "0               0                0                0            0   \n",
              "1               0                0                0            0   \n",
              "2               0                0                0            0   \n",
              "3               0                0                0            0   \n",
              "4               0                0                0            0   \n",
              "\n",
              "   country_югославия  country_япония  \n",
              "0                  0               0  \n",
              "1                  0               0  \n",
              "2                  0               0  \n",
              "3                  0               0  \n",
              "4                  0               0  \n",
              "\n",
              "[5 rows x 125 columns]"
            ]
          },
          "execution_count": 13,
          "metadata": {},
          "output_type": "execute_result"
        }
      ],
      "source": [
        "items_df['for_kids'] = items_df['for_kids'].astype(np.int32)\n",
        "items_df['age_rating'] = items_df['age_rating'].map(age_rating_mapper).astype(np.int32)\n",
        "items_df['content_type'] = items_df['content_type'].map(content_type_mapper).astype(np.int32)\n",
        "items_df['release_year_cat'] = items_df['release_year_cat'].map(release_year_cat_mapper).astype(np.int32)\n",
        "items_df = items_df.drop(columns=['title', 'title_orig', 'directors', 'actors', 'description', 'keywords']).astype(np.int32)\n",
        "\n",
        "items_df.head()"
      ]
    },
    {
      "cell_type": "code",
      "execution_count": 14,
      "id": "9c202d31",
      "metadata": {
        "colab": {
          "base_uri": "https://localhost:8080/"
        },
        "id": "9c202d31",
        "outputId": "f2f4c63c-ef70-4415-ddc2-cebab2776521"
      },
      "outputs": [
        {
          "name": "stdout",
          "output_type": "stream",
          "text": [
            "<class 'pandas.core.frame.DataFrame'>\n",
            "RangeIndex: 15963 entries, 0 to 15962\n",
            "Data columns (total 125 columns):\n",
            " #    Column                    Dtype\n",
            "---   ------                    -----\n",
            " 0    item_id                   int32\n",
            " 1    content_type              int32\n",
            " 2    for_kids                  int32\n",
            " 3    age_rating                int32\n",
            " 4    release_year_cat          int32\n",
            " 5    genre_аниме               int32\n",
            " 6    genre_биография           int32\n",
            " 7    genre_боевики             int32\n",
            " 8    genre_военные             int32\n",
            " 9    genre_детективы           int32\n",
            " 10   genre_детские             int32\n",
            " 11   genre_для взрослых        int32\n",
            " 12   genre_документальное      int32\n",
            " 13   genre_драмы               int32\n",
            " 14   genre_исторические        int32\n",
            " 15   genre_комедии             int32\n",
            " 16   genre_короткометражные    int32\n",
            " 17   genre_криминал            int32\n",
            " 18   genre_мелодрамы           int32\n",
            " 19   genre_музыка              int32\n",
            " 20   genre_мультфильмы         int32\n",
            " 21   genre_мюзиклы             int32\n",
            " 22   genre_познавательные      int32\n",
            " 23   genre_приключения         int32\n",
            " 24   genre_про животных        int32\n",
            " 25   genre_развлекательные     int32\n",
            " 26   genre_семейное            int32\n",
            " 27   genre_спорт               int32\n",
            " 28   genre_триллеры            int32\n",
            " 29   genre_ужасы               int32\n",
            " 30   genre_фантастика          int32\n",
            " 31   genre_фитнес              int32\n",
            " 32   genre_фэнтези             int32\n",
            " 33   genre_хочу всё знать      int32\n",
            " 34   country_австралия         int32\n",
            " 35   country_австрия           int32\n",
            " 36   country_азербайджан       int32\n",
            " 37   country_албания           int32\n",
            " 38   country_алжир             int32\n",
            " 39   country_аргентина         int32\n",
            " 40   country_армения           int32\n",
            " 41   country_беларусь          int32\n",
            " 42   country_бельгия           int32\n",
            " 43   country_болгария          int32\n",
            " 44   country_бразилия          int32\n",
            " 45   country_великобритания    int32\n",
            " 46   country_венгрия           int32\n",
            " 47   country_венесуэла         int32\n",
            " 48   country_вьетнам           int32\n",
            " 49   country_германия          int32\n",
            " 50   country_гонконг           int32\n",
            " 51   country_греция            int32\n",
            " 52   country_грузия            int32\n",
            " 53   country_дания             int32\n",
            " 54   country_египет            int32\n",
            " 55   country_замбия            int32\n",
            " 56   country_израиль           int32\n",
            " 57   country_индия             int32\n",
            " 58   country_индонезия         int32\n",
            " 59   country_иордания          int32\n",
            " 60   country_иран              int32\n",
            " 61   country_ирландия          int32\n",
            " 62   country_исландия          int32\n",
            " 63   country_испания           int32\n",
            " 64   country_италия            int32\n",
            " 65   country_казахстан         int32\n",
            " 66   country_камбоджа          int32\n",
            " 67   country_канада            int32\n",
            " 68   country_кения             int32\n",
            " 69   country_кипр              int32\n",
            " 70   country_киргизия          int32\n",
            " 71   country_китай             int32\n",
            " 72   country_колумбия          int32\n",
            " 73   country_коста-рика        int32\n",
            " 74   country_куба              int32\n",
            " 75   country_латвия            int32\n",
            " 76   country_ливан             int32\n",
            " 77   country_литва             int32\n",
            " 78   country_люксембург        int32\n",
            " 79   country_маврикий          int32\n",
            " 80   country_македония         int32\n",
            " 81   country_малайзия          int32\n",
            " 82   country_мальта            int32\n",
            " 83   country_марокко           int32\n",
            " 84   country_мексика           int32\n",
            " 85   country_молдова           int32\n",
            " 86   country_нидерланды        int32\n",
            " 87   country_новая зеландия    int32\n",
            " 88   country_норвегия          int32\n",
            " 89   country_оаэ               int32\n",
            " 90   country_парагвай          int32\n",
            " 91   country_перу              int32\n",
            " 92   country_польша            int32\n",
            " 93   country_португалия        int32\n",
            " 94   country_пуэрто-рико       int32\n",
            " 95   country_республика корея  int32\n",
            " 96   country_россия            int32\n",
            " 97   country_румыния           int32\n",
            " 98   country_сенегал           int32\n",
            " 99   country_сербия            int32\n",
            " 100  country_сингапур          int32\n",
            " 101  country_словакия          int32\n",
            " 102  country_словения          int32\n",
            " 103  country_ссср              int32\n",
            " 104  country_сша               int32\n",
            " 105  country_таиланд           int32\n",
            " 106  country_тайвань           int32\n",
            " 107  country_тунис             int32\n",
            " 108  country_турция            int32\n",
            " 109  country_узбекистан        int32\n",
            " 110  country_украина           int32\n",
            " 111  country_уругвай           int32\n",
            " 112  country_филиппины         int32\n",
            " 113  country_финляндия         int32\n",
            " 114  country_франция           int32\n",
            " 115  country_хорватия          int32\n",
            " 116  country_чехия             int32\n",
            " 117  country_чили              int32\n",
            " 118  country_швейцария         int32\n",
            " 119  country_швеция            int32\n",
            " 120  country_эквадор           int32\n",
            " 121  country_эстония           int32\n",
            " 122  country_юар               int32\n",
            " 123  country_югославия         int32\n",
            " 124  country_япония            int32\n",
            "dtypes: int32(125)\n",
            "memory usage: 7.6 MB\n"
          ]
        }
      ],
      "source": [
        "items_df.info(verbose=True)"
      ]
    },
    {
      "cell_type": "code",
      "execution_count": 15,
      "id": "fb3870d5",
      "metadata": {
        "id": "fb3870d5"
      },
      "outputs": [],
      "source": [
        "ITEMS_NUM_CAT_FEATURES = 4\n",
        "ITEMS_NUM_GENRE_FEATURES = len([g for g in items_df.columns if g.startswith('genre_')])"
      ]
    },
    {
      "cell_type": "markdown",
      "id": "0f14cc94",
      "metadata": {
        "id": "0f14cc94"
      },
      "source": [
        "## Interactions preprocessing"
      ]
    },
    {
      "cell_type": "code",
      "execution_count": 16,
      "id": "433ce447",
      "metadata": {
        "colab": {
          "base_uri": "https://localhost:8080/",
          "height": 206
        },
        "id": "433ce447",
        "outputId": "1d654047-a11a-466f-b6bf-0c1f616177bc"
      },
      "outputs": [
        {
          "data": {
            "text/html": [
              "<div>\n",
              "<style scoped>\n",
              "    .dataframe tbody tr th:only-of-type {\n",
              "        vertical-align: middle;\n",
              "    }\n",
              "\n",
              "    .dataframe tbody tr th {\n",
              "        vertical-align: top;\n",
              "    }\n",
              "\n",
              "    .dataframe thead th {\n",
              "        text-align: right;\n",
              "    }\n",
              "</style>\n",
              "<table border=\"1\" class=\"dataframe\">\n",
              "  <thead>\n",
              "    <tr style=\"text-align: right;\">\n",
              "      <th></th>\n",
              "      <th>user_id</th>\n",
              "      <th>item_id</th>\n",
              "      <th>last_watch_dt</th>\n",
              "      <th>total_dur</th>\n",
              "      <th>watched_pct</th>\n",
              "    </tr>\n",
              "  </thead>\n",
              "  <tbody>\n",
              "    <tr>\n",
              "      <th>0</th>\n",
              "      <td>176549</td>\n",
              "      <td>9506</td>\n",
              "      <td>2021-05-11</td>\n",
              "      <td>4250</td>\n",
              "      <td>72</td>\n",
              "    </tr>\n",
              "    <tr>\n",
              "      <th>1</th>\n",
              "      <td>699317</td>\n",
              "      <td>1659</td>\n",
              "      <td>2021-05-29</td>\n",
              "      <td>8317</td>\n",
              "      <td>100</td>\n",
              "    </tr>\n",
              "    <tr>\n",
              "      <th>2</th>\n",
              "      <td>656683</td>\n",
              "      <td>7107</td>\n",
              "      <td>2021-05-09</td>\n",
              "      <td>10</td>\n",
              "      <td>0</td>\n",
              "    </tr>\n",
              "    <tr>\n",
              "      <th>3</th>\n",
              "      <td>864613</td>\n",
              "      <td>7638</td>\n",
              "      <td>2021-07-05</td>\n",
              "      <td>14483</td>\n",
              "      <td>100</td>\n",
              "    </tr>\n",
              "    <tr>\n",
              "      <th>4</th>\n",
              "      <td>964868</td>\n",
              "      <td>9506</td>\n",
              "      <td>2021-04-30</td>\n",
              "      <td>6725</td>\n",
              "      <td>100</td>\n",
              "    </tr>\n",
              "  </tbody>\n",
              "</table>\n",
              "</div>"
            ],
            "text/plain": [
              "   user_id  item_id last_watch_dt  total_dur  watched_pct\n",
              "0   176549     9506    2021-05-11       4250           72\n",
              "1   699317     1659    2021-05-29       8317          100\n",
              "2   656683     7107    2021-05-09         10            0\n",
              "3   864613     7638    2021-07-05      14483          100\n",
              "4   964868     9506    2021-04-30       6725          100"
            ]
          },
          "execution_count": 16,
          "metadata": {},
          "output_type": "execute_result"
        }
      ],
      "source": [
        "interactions_df.head()"
      ]
    },
    {
      "cell_type": "markdown",
      "id": "a3fcc06c",
      "metadata": {
        "id": "a3fcc06c"
      },
      "source": [
        "Фильтруем малоактивных юзеров и непопулярные фильмы."
      ]
    },
    {
      "cell_type": "code",
      "execution_count": 17,
      "id": "8b3a2d27",
      "metadata": {
        "colab": {
          "base_uri": "https://localhost:8080/"
        },
        "id": "8b3a2d27",
        "outputId": "527e5928-9194-4819-c44b-21572893181c"
      },
      "outputs": [
        {
          "data": {
            "text/plain": [
              "(item_id\n",
              " 10440    202457\n",
              " 15297    193123\n",
              " 9728     132865\n",
              " 13865    122119\n",
              " 4151      91167\n",
              "           ...  \n",
              " 2435          1\n",
              " 7978          1\n",
              " 10642         1\n",
              " 13008         1\n",
              " 9286          1\n",
              " Name: count, Length: 15706, dtype: int64,\n",
              " user_id\n",
              " 416206     1341\n",
              " 1010539     764\n",
              " 555233      685\n",
              " 11526       676\n",
              " 409259      625\n",
              "            ... \n",
              " 690921        1\n",
              " 255412        1\n",
              " 264195        1\n",
              " 150067        1\n",
              " 337469        1\n",
              " Name: count, Length: 962179, dtype: int64)"
            ]
          },
          "execution_count": 17,
          "metadata": {},
          "output_type": "execute_result"
        }
      ],
      "source": [
        "interactions_df['item_id'].value_counts(), interactions_df['user_id'].value_counts()"
      ]
    },
    {
      "cell_type": "markdown",
      "id": "e776e88d",
      "metadata": {
        "id": "e776e88d"
      },
      "source": [
        "Оставим юзеров, посмотревших хотя бы 5 фильмов, и фильмы, которые посмотрело хотя бы 5 юзеров"
      ]
    },
    {
      "cell_type": "code",
      "execution_count": 18,
      "id": "a63350b4",
      "metadata": {
        "colab": {
          "base_uri": "https://localhost:8080/"
        },
        "id": "a63350b4",
        "outputId": "07210e08-0ec5-4b4a-ae15-5362e53b9951"
      },
      "outputs": [
        {
          "name": "stdout",
          "output_type": "stream",
          "text": [
            "Users before filtering:  962179\n",
            "Users after filtering:   207255\n",
            "Items before filtering:   15706\n",
            "Items after filtering:     8823\n"
          ]
        }
      ],
      "source": [
        "before_filtering_users = interactions_df['user_id'].nunique()\n",
        "before_filtering_items = interactions_df['item_id'].nunique()\n",
        "\n",
        "interactions_df = interactions_df[interactions_df.watched_pct > 10]\n",
        "\n",
        "valid_users = []\n",
        "\n",
        "neg_films_features = Counter(interactions_df['user_id'])\n",
        "for user_ids, entries in neg_films_features.most_common():\n",
        "  if entries >= 5:\n",
        "    valid_users.append(user_ids)\n",
        "\n",
        "valid_items = []\n",
        "\n",
        "neg_films_features = Counter(interactions_df['item_id'])\n",
        "for item_id, entries in neg_films_features.most_common():\n",
        "  if entries >= 5:\n",
        "    valid_items.append(item_id)\n",
        "\n",
        "interactions_df = interactions_df[interactions_df['user_id'].isin(valid_users)]\n",
        "interactions_df = interactions_df[interactions_df['item_id'].isin(valid_items)]\n",
        "\n",
        "print(f\"Users before filtering: {before_filtering_users:>7}\")\n",
        "print(f\"Users after filtering:  {interactions_df['user_id'].nunique():>7}\")\n",
        "print(f\"Items before filtering:  {before_filtering_items:>6}\")\n",
        "print(f\"Items after filtering:   {interactions_df['item_id'].nunique():>6}\")"
      ]
    },
    {
      "cell_type": "markdown",
      "id": "a1b8f97c",
      "metadata": {
        "id": "a1b8f97c"
      },
      "source": [
        "Переведём фичи в 32-битный int"
      ]
    },
    {
      "cell_type": "code",
      "execution_count": 19,
      "id": "c0fdbdef",
      "metadata": {
        "colab": {
          "base_uri": "https://localhost:8080/"
        },
        "id": "c0fdbdef",
        "outputId": "ed20f6de-2dc4-40ee-c2b0-ee04e4147578"
      },
      "outputs": [
        {
          "data": {
            "text/plain": [
              "(np.int64(6), np.float64(11384.85642516867), np.int64(80411672))"
            ]
          },
          "execution_count": 19,
          "metadata": {},
          "output_type": "execute_result"
        }
      ],
      "source": [
        "interactions_df['total_dur'].min(), interactions_df['total_dur'].mean(), interactions_df['total_dur'].max()"
      ]
    },
    {
      "cell_type": "code",
      "execution_count": 20,
      "id": "229d95af",
      "metadata": {
        "colab": {
          "base_uri": "https://localhost:8080/"
        },
        "id": "229d95af",
        "outputId": "4b7caa13-f789-49cf-fec5-269676ba15be"
      },
      "outputs": [
        {
          "name": "stdout",
          "output_type": "stream",
          "text": [
            "<class 'pandas.core.frame.DataFrame'>\n",
            "Index: 2646592 entries, 0 to 5476249\n",
            "Data columns (total 5 columns):\n",
            " #   Column         Dtype \n",
            "---  ------         ----- \n",
            " 0   user_id        int32 \n",
            " 1   item_id        int32 \n",
            " 2   last_watch_dt  object\n",
            " 3   total_dur      int32 \n",
            " 4   watched_pct    int32 \n",
            "dtypes: int32(4), object(1)\n",
            "memory usage: 80.8+ MB\n"
          ]
        }
      ],
      "source": [
        "interactions_df[['user_id', 'item_id', 'total_dur', 'watched_pct']] = interactions_df[['user_id', 'item_id', 'total_dur', 'watched_pct']].astype(np.int32)\n",
        "interactions_df.info(verbose=True)"
      ]
    },
    {
      "cell_type": "markdown",
      "id": "7aafd8d9",
      "metadata": {
        "id": "7aafd8d9"
      },
      "source": [
        "Поскольку `nn.Embedding` принимает количество треков `num_tracks`, и считает, что их индексы будут [0; `num_tracks`) (что сейчас не так), нужно перемаппить индексы треков (и юзеров заодно) в этот диапазон  "
      ]
    },
    {
      "cell_type": "markdown",
      "id": "cae30632",
      "metadata": {
        "id": "cae30632"
      },
      "source": [
        "Про часть юзеров, которые есть в `interactions_df`, у нас нет информации. Заполним информацию про них медианными значениями."
      ]
    },
    {
      "cell_type": "code",
      "execution_count": 21,
      "id": "08d3c021",
      "metadata": {
        "colab": {
          "base_uri": "https://localhost:8080/"
        },
        "id": "08d3c021",
        "outputId": "8468cc9f-60b4-42b4-860f-d0e170fd3627"
      },
      "outputs": [
        {
          "data": {
            "text/plain": [
              "Index(['user_id', 'age', 'income', 'sex', 'kids_flg'], dtype='object')"
            ]
          },
          "execution_count": 21,
          "metadata": {},
          "output_type": "execute_result"
        }
      ],
      "source": [
        "users_df.columns"
      ]
    },
    {
      "cell_type": "code",
      "execution_count": 22,
      "id": "1ae13a20",
      "metadata": {
        "colab": {
          "base_uri": "https://localhost:8080/",
          "height": 423
        },
        "id": "1ae13a20",
        "outputId": "29d57088-856a-418a-bc93-ea3b442a5fe9"
      },
      "outputs": [
        {
          "data": {
            "text/html": [
              "<div>\n",
              "<style scoped>\n",
              "    .dataframe tbody tr th:only-of-type {\n",
              "        vertical-align: middle;\n",
              "    }\n",
              "\n",
              "    .dataframe tbody tr th {\n",
              "        vertical-align: top;\n",
              "    }\n",
              "\n",
              "    .dataframe thead th {\n",
              "        text-align: right;\n",
              "    }\n",
              "</style>\n",
              "<table border=\"1\" class=\"dataframe\">\n",
              "  <thead>\n",
              "    <tr style=\"text-align: right;\">\n",
              "      <th></th>\n",
              "      <th>user_id</th>\n",
              "      <th>age</th>\n",
              "      <th>income</th>\n",
              "      <th>sex</th>\n",
              "      <th>kids_flg</th>\n",
              "    </tr>\n",
              "  </thead>\n",
              "  <tbody>\n",
              "    <tr>\n",
              "      <th>0</th>\n",
              "      <td>973171</td>\n",
              "      <td>1</td>\n",
              "      <td>3</td>\n",
              "      <td>-1</td>\n",
              "      <td>1</td>\n",
              "    </tr>\n",
              "    <tr>\n",
              "      <th>1</th>\n",
              "      <td>962099</td>\n",
              "      <td>0</td>\n",
              "      <td>1</td>\n",
              "      <td>-1</td>\n",
              "      <td>0</td>\n",
              "    </tr>\n",
              "    <tr>\n",
              "      <th>2</th>\n",
              "      <td>1047345</td>\n",
              "      <td>3</td>\n",
              "      <td>2</td>\n",
              "      <td>1</td>\n",
              "      <td>0</td>\n",
              "    </tr>\n",
              "    <tr>\n",
              "      <th>3</th>\n",
              "      <td>721985</td>\n",
              "      <td>3</td>\n",
              "      <td>1</td>\n",
              "      <td>1</td>\n",
              "      <td>0</td>\n",
              "    </tr>\n",
              "    <tr>\n",
              "      <th>4</th>\n",
              "      <td>704055</td>\n",
              "      <td>2</td>\n",
              "      <td>3</td>\n",
              "      <td>1</td>\n",
              "      <td>0</td>\n",
              "    </tr>\n",
              "    <tr>\n",
              "      <th>...</th>\n",
              "      <td>...</td>\n",
              "      <td>...</td>\n",
              "      <td>...</td>\n",
              "      <td>...</td>\n",
              "      <td>...</td>\n",
              "    </tr>\n",
              "    <tr>\n",
              "      <th>840192</th>\n",
              "      <td>339025</td>\n",
              "      <td>5</td>\n",
              "      <td>0</td>\n",
              "      <td>1</td>\n",
              "      <td>0</td>\n",
              "    </tr>\n",
              "    <tr>\n",
              "      <th>840193</th>\n",
              "      <td>983617</td>\n",
              "      <td>0</td>\n",
              "      <td>1</td>\n",
              "      <td>1</td>\n",
              "      <td>1</td>\n",
              "    </tr>\n",
              "    <tr>\n",
              "      <th>840194</th>\n",
              "      <td>251008</td>\n",
              "      <td>2</td>\n",
              "      <td>1</td>\n",
              "      <td>0</td>\n",
              "      <td>0</td>\n",
              "    </tr>\n",
              "    <tr>\n",
              "      <th>840195</th>\n",
              "      <td>590706</td>\n",
              "      <td>2</td>\n",
              "      <td>1</td>\n",
              "      <td>1</td>\n",
              "      <td>0</td>\n",
              "    </tr>\n",
              "    <tr>\n",
              "      <th>840196</th>\n",
              "      <td>166555</td>\n",
              "      <td>5</td>\n",
              "      <td>1</td>\n",
              "      <td>1</td>\n",
              "      <td>0</td>\n",
              "    </tr>\n",
              "  </tbody>\n",
              "</table>\n",
              "<p>840197 rows × 5 columns</p>\n",
              "</div>"
            ],
            "text/plain": [
              "        user_id  age  income  sex  kids_flg\n",
              "0        973171    1       3   -1         1\n",
              "1        962099    0       1   -1         0\n",
              "2       1047345    3       2    1         0\n",
              "3        721985    3       1    1         0\n",
              "4        704055    2       3    1         0\n",
              "...         ...  ...     ...  ...       ...\n",
              "840192   339025    5       0    1         0\n",
              "840193   983617    0       1    1         1\n",
              "840194   251008    2       1    0         0\n",
              "840195   590706    2       1    1         0\n",
              "840196   166555    5       1    1         0\n",
              "\n",
              "[840197 rows x 5 columns]"
            ]
          },
          "execution_count": 22,
          "metadata": {},
          "output_type": "execute_result"
        }
      ],
      "source": [
        "users_df"
      ]
    },
    {
      "cell_type": "code",
      "execution_count": 23,
      "id": "11a3f057",
      "metadata": {
        "colab": {
          "base_uri": "https://localhost:8080/",
          "height": 423
        },
        "id": "11a3f057",
        "outputId": "e0b9ad6c-7a3b-48d1-bae3-b3a0ba19e4f1"
      },
      "outputs": [
        {
          "data": {
            "text/html": [
              "<div>\n",
              "<style scoped>\n",
              "    .dataframe tbody tr th:only-of-type {\n",
              "        vertical-align: middle;\n",
              "    }\n",
              "\n",
              "    .dataframe tbody tr th {\n",
              "        vertical-align: top;\n",
              "    }\n",
              "\n",
              "    .dataframe thead th {\n",
              "        text-align: right;\n",
              "    }\n",
              "</style>\n",
              "<table border=\"1\" class=\"dataframe\">\n",
              "  <thead>\n",
              "    <tr style=\"text-align: right;\">\n",
              "      <th></th>\n",
              "      <th>user_id</th>\n",
              "      <th>age</th>\n",
              "      <th>income</th>\n",
              "      <th>sex</th>\n",
              "      <th>kids_flg</th>\n",
              "    </tr>\n",
              "  </thead>\n",
              "  <tbody>\n",
              "    <tr>\n",
              "      <th>0</th>\n",
              "      <td>973171</td>\n",
              "      <td>1</td>\n",
              "      <td>3</td>\n",
              "      <td>-1</td>\n",
              "      <td>1</td>\n",
              "    </tr>\n",
              "    <tr>\n",
              "      <th>1</th>\n",
              "      <td>962099</td>\n",
              "      <td>0</td>\n",
              "      <td>1</td>\n",
              "      <td>-1</td>\n",
              "      <td>0</td>\n",
              "    </tr>\n",
              "    <tr>\n",
              "      <th>2</th>\n",
              "      <td>1047345</td>\n",
              "      <td>3</td>\n",
              "      <td>2</td>\n",
              "      <td>1</td>\n",
              "      <td>0</td>\n",
              "    </tr>\n",
              "    <tr>\n",
              "      <th>3</th>\n",
              "      <td>721985</td>\n",
              "      <td>3</td>\n",
              "      <td>1</td>\n",
              "      <td>1</td>\n",
              "      <td>0</td>\n",
              "    </tr>\n",
              "    <tr>\n",
              "      <th>4</th>\n",
              "      <td>704055</td>\n",
              "      <td>2</td>\n",
              "      <td>3</td>\n",
              "      <td>1</td>\n",
              "      <td>0</td>\n",
              "    </tr>\n",
              "    <tr>\n",
              "      <th>...</th>\n",
              "      <td>...</td>\n",
              "      <td>...</td>\n",
              "      <td>...</td>\n",
              "      <td>...</td>\n",
              "      <td>...</td>\n",
              "    </tr>\n",
              "    <tr>\n",
              "      <th>39287</th>\n",
              "      <td>524269</td>\n",
              "      <td>2</td>\n",
              "      <td>1</td>\n",
              "      <td>0</td>\n",
              "      <td>0</td>\n",
              "    </tr>\n",
              "    <tr>\n",
              "      <th>39288</th>\n",
              "      <td>786421</td>\n",
              "      <td>2</td>\n",
              "      <td>1</td>\n",
              "      <td>0</td>\n",
              "      <td>0</td>\n",
              "    </tr>\n",
              "    <tr>\n",
              "      <th>39289</th>\n",
              "      <td>786425</td>\n",
              "      <td>2</td>\n",
              "      <td>1</td>\n",
              "      <td>0</td>\n",
              "      <td>0</td>\n",
              "    </tr>\n",
              "    <tr>\n",
              "      <th>39290</th>\n",
              "      <td>524284</td>\n",
              "      <td>2</td>\n",
              "      <td>1</td>\n",
              "      <td>0</td>\n",
              "      <td>0</td>\n",
              "    </tr>\n",
              "    <tr>\n",
              "      <th>39291</th>\n",
              "      <td>262143</td>\n",
              "      <td>2</td>\n",
              "      <td>1</td>\n",
              "      <td>0</td>\n",
              "      <td>0</td>\n",
              "    </tr>\n",
              "  </tbody>\n",
              "</table>\n",
              "<p>879489 rows × 5 columns</p>\n",
              "</div>"
            ],
            "text/plain": [
              "       user_id  age  income  sex  kids_flg\n",
              "0       973171    1       3   -1         1\n",
              "1       962099    0       1   -1         0\n",
              "2      1047345    3       2    1         0\n",
              "3       721985    3       1    1         0\n",
              "4       704055    2       3    1         0\n",
              "...        ...  ...     ...  ...       ...\n",
              "39287   524269    2       1    0         0\n",
              "39288   786421    2       1    0         0\n",
              "39289   786425    2       1    0         0\n",
              "39290   524284    2       1    0         0\n",
              "39291   262143    2       1    0         0\n",
              "\n",
              "[879489 rows x 5 columns]"
            ]
          },
          "execution_count": 23,
          "metadata": {},
          "output_type": "execute_result"
        }
      ],
      "source": [
        "unknown_users = set(interactions_df[\"user_id\"]).difference(users_df['user_id'])\n",
        "unknown_users_df = pd.DataFrame({'user_id' : list(unknown_users),\n",
        "                                 'age': [age_mapper['age_unknown']] * len(unknown_users),\n",
        "                                 'income': [income_mapper['income_unknown']] * len(unknown_users),\n",
        "                                 'sex': [0] * len(unknown_users),\n",
        "                                 'kids_flg': [0] * len(unknown_users),\n",
        "                                 }\n",
        "                )\n",
        "users_df = pd.concat([users_df, unknown_users_df], axis=0)\n",
        "users_df"
      ]
    },
    {
      "cell_type": "code",
      "execution_count": 24,
      "id": "c2b2866e",
      "metadata": {
        "id": "c2b2866e"
      },
      "outputs": [],
      "source": [
        "unique_user_ids = np.unique(np.concat([interactions_df[\"user_id\"], users_df['user_id']]))\n",
        "unique_item_ids = np.unique(np.concat([interactions_df[\"item_id\"], items_df['item_id']]))\n",
        "\n",
        "# Create mappings (old ID → new consecutive ID starting from 0)\n",
        "user_id_map = {old_id: np.int32(new_id) for new_id, old_id in enumerate(unique_user_ids)}\n",
        "user_id_map_to_orig = {np.int32(new_id): old_id for new_id, old_id in enumerate(unique_user_ids)}\n",
        "item_id_map = {old_id: np.int32(new_id) for new_id, old_id in enumerate(unique_item_ids)}\n",
        "item_id_map_to_orig = {np.int32(new_id): old_id for new_id, old_id in enumerate(unique_item_ids)}"
      ]
    },
    {
      "cell_type": "code",
      "execution_count": 25,
      "id": "12df41ce",
      "metadata": {
        "colab": {
          "base_uri": "https://localhost:8080/"
        },
        "id": "12df41ce",
        "outputId": "13955c55-4122-4e31-b21f-b1d1ba51a8b5"
      },
      "outputs": [
        {
          "data": {
            "text/plain": [
              "(879489, 15963)"
            ]
          },
          "execution_count": 25,
          "metadata": {},
          "output_type": "execute_result"
        }
      ],
      "source": [
        "len(user_id_map), len(item_id_map)"
      ]
    },
    {
      "cell_type": "code",
      "execution_count": 26,
      "id": "e0d48d23",
      "metadata": {
        "colab": {
          "base_uri": "https://localhost:8080/",
          "height": 206
        },
        "id": "e0d48d23",
        "outputId": "aabb5917-d12d-4455-d933-de21ebdaa899"
      },
      "outputs": [
        {
          "data": {
            "text/html": [
              "<div>\n",
              "<style scoped>\n",
              "    .dataframe tbody tr th:only-of-type {\n",
              "        vertical-align: middle;\n",
              "    }\n",
              "\n",
              "    .dataframe tbody tr th {\n",
              "        vertical-align: top;\n",
              "    }\n",
              "\n",
              "    .dataframe thead th {\n",
              "        text-align: right;\n",
              "    }\n",
              "</style>\n",
              "<table border=\"1\" class=\"dataframe\">\n",
              "  <thead>\n",
              "    <tr style=\"text-align: right;\">\n",
              "      <th></th>\n",
              "      <th>user_id</th>\n",
              "      <th>item_id</th>\n",
              "      <th>last_watch_dt</th>\n",
              "      <th>total_dur</th>\n",
              "      <th>watched_pct</th>\n",
              "    </tr>\n",
              "  </thead>\n",
              "  <tbody>\n",
              "    <tr>\n",
              "      <th>0</th>\n",
              "      <td>141413</td>\n",
              "      <td>9178</td>\n",
              "      <td>2021-05-11</td>\n",
              "      <td>4250</td>\n",
              "      <td>72</td>\n",
              "    </tr>\n",
              "    <tr>\n",
              "      <th>1</th>\n",
              "      <td>560236</td>\n",
              "      <td>1604</td>\n",
              "      <td>2021-05-29</td>\n",
              "      <td>8317</td>\n",
              "      <td>100</td>\n",
              "    </tr>\n",
              "    <tr>\n",
              "      <th>3</th>\n",
              "      <td>692633</td>\n",
              "      <td>7376</td>\n",
              "      <td>2021-07-05</td>\n",
              "      <td>14483</td>\n",
              "      <td>100</td>\n",
              "    </tr>\n",
              "    <tr>\n",
              "      <th>5</th>\n",
              "      <td>826986</td>\n",
              "      <td>6454</td>\n",
              "      <td>2021-05-13</td>\n",
              "      <td>11286</td>\n",
              "      <td>100</td>\n",
              "    </tr>\n",
              "    <tr>\n",
              "      <th>6</th>\n",
              "      <td>814480</td>\n",
              "      <td>343</td>\n",
              "      <td>2021-08-14</td>\n",
              "      <td>1672</td>\n",
              "      <td>25</td>\n",
              "    </tr>\n",
              "  </tbody>\n",
              "</table>\n",
              "</div>"
            ],
            "text/plain": [
              "   user_id  item_id last_watch_dt  total_dur  watched_pct\n",
              "0   141413     9178    2021-05-11       4250           72\n",
              "1   560236     1604    2021-05-29       8317          100\n",
              "3   692633     7376    2021-07-05      14483          100\n",
              "5   826986     6454    2021-05-13      11286          100\n",
              "6   814480      343    2021-08-14       1672           25"
            ]
          },
          "execution_count": 26,
          "metadata": {},
          "output_type": "execute_result"
        }
      ],
      "source": [
        "users_df['user_id'] = users_df['user_id'].map(user_id_map)\n",
        "items_df['item_id'] = items_df['item_id'].map(item_id_map)\n",
        "interactions_df['user_id'] = interactions_df['user_id'].map(user_id_map)\n",
        "interactions_df['item_id'] = interactions_df['item_id'].map(item_id_map)\n",
        "\n",
        "users_df.set_index('user_id', inplace=True)\n",
        "items_df.set_index('item_id', inplace=True)\n",
        "interactions_df.head()"
      ]
    },
    {
      "cell_type": "code",
      "execution_count": 27,
      "id": "bdb61f7d",
      "metadata": {
        "id": "bdb61f7d"
      },
      "outputs": [],
      "source": [
        "def get_triplets(interactions_df: pd.DataFrame) -> pd.DataFrame:\n",
        "    \"\"\"\n",
        "    Extract triplets (user_id, item_id, watched_pct) from interactions DataFrame.\n",
        "    \"\"\"\n",
        "    positives = interactions_df[interactions_df[\"watched_pct\"] > 80].copy()\n",
        "    negatives = interactions_df[interactions_df[\"watched_pct\"] < 30].copy()\n",
        "    positives = positives[[\"user_id\", \"item_id\"]].rename(columns={\"item_id\": \"film_pos\"})\n",
        "\n",
        "    NUM_NEGATIVE_SAMPLES = 10\n",
        "    negatives_grouped = (\n",
        "        negatives.groupby('user_id')\n",
        "        .apply(lambda x: x.sample(n=min(len(x), NUM_NEGATIVE_SAMPLES), random_state=42))\n",
        "        .reset_index(drop=True)\n",
        "        .rename(columns={\"item_id\": \"film_neg\"})\n",
        "    )\n",
        "\n",
        "    triplets = positives.merge(negatives_grouped, on=\"user_id\", how=\"inner\")\n",
        "    return triplets"
      ]
    },
    {
      "cell_type": "code",
      "execution_count": 28,
      "id": "31b6a7af",
      "metadata": {
        "colab": {
          "base_uri": "https://localhost:8080/"
        },
        "id": "31b6a7af",
        "outputId": "baa75117-ba2a-4f14-98a2-82084b9ffeaf"
      },
      "outputs": [
        {
          "data": {
            "text/plain": [
              "(3844664, 119954, 127847)"
            ]
          },
          "execution_count": 28,
          "metadata": {},
          "output_type": "execute_result"
        }
      ],
      "source": [
        "interactions_df = interactions_df.sort_values(by=['last_watch_dt'], ascending=True)\n",
        "\n",
        "train_data = get_triplets(interactions_df.iloc[:int(len(interactions_df) * 0.8)])\n",
        "val_data = get_triplets(interactions_df.iloc[int(len(interactions_df) * 0.8):int(len(interactions_df) * 0.9)])\n",
        "test_data = get_triplets(interactions_df.iloc[int(len(interactions_df) * 0.9):])\n",
        "\n",
        "len(train_data), len(val_data), len(test_data)"
      ]
    },
    {
      "cell_type": "code",
      "execution_count": 29,
      "id": "zyXrVnbGFIP2",
      "metadata": {
        "colab": {
          "base_uri": "https://localhost:8080/",
          "height": 423
        },
        "id": "zyXrVnbGFIP2",
        "outputId": "79e16d51-c20d-4647-f18b-84d1e1e7ac95"
      },
      "outputs": [
        {
          "data": {
            "text/html": [
              "<div>\n",
              "<style scoped>\n",
              "    .dataframe tbody tr th:only-of-type {\n",
              "        vertical-align: middle;\n",
              "    }\n",
              "\n",
              "    .dataframe tbody tr th {\n",
              "        vertical-align: top;\n",
              "    }\n",
              "\n",
              "    .dataframe thead th {\n",
              "        text-align: right;\n",
              "    }\n",
              "</style>\n",
              "<table border=\"1\" class=\"dataframe\">\n",
              "  <thead>\n",
              "    <tr style=\"text-align: right;\">\n",
              "      <th></th>\n",
              "      <th>user_id</th>\n",
              "      <th>item_id</th>\n",
              "      <th>last_watch_dt</th>\n",
              "      <th>total_dur</th>\n",
              "      <th>watched_pct</th>\n",
              "    </tr>\n",
              "  </thead>\n",
              "  <tbody>\n",
              "    <tr>\n",
              "      <th>1196595</th>\n",
              "      <td>44185</td>\n",
              "      <td>7128</td>\n",
              "      <td>2021-03-13</td>\n",
              "      <td>6664</td>\n",
              "      <td>100</td>\n",
              "    </tr>\n",
              "    <tr>\n",
              "      <th>4376993</th>\n",
              "      <td>846792</td>\n",
              "      <td>1229</td>\n",
              "      <td>2021-03-13</td>\n",
              "      <td>2618</td>\n",
              "      <td>45</td>\n",
              "    </tr>\n",
              "    <tr>\n",
              "      <th>2971068</th>\n",
              "      <td>732651</td>\n",
              "      <td>8172</td>\n",
              "      <td>2021-03-13</td>\n",
              "      <td>82197</td>\n",
              "      <td>100</td>\n",
              "    </tr>\n",
              "    <tr>\n",
              "      <th>4376798</th>\n",
              "      <td>33977</td>\n",
              "      <td>9767</td>\n",
              "      <td>2021-03-13</td>\n",
              "      <td>9520</td>\n",
              "      <td>100</td>\n",
              "    </tr>\n",
              "    <tr>\n",
              "      <th>632848</th>\n",
              "      <td>127388</td>\n",
              "      <td>418</td>\n",
              "      <td>2021-03-13</td>\n",
              "      <td>5921</td>\n",
              "      <td>100</td>\n",
              "    </tr>\n",
              "    <tr>\n",
              "      <th>...</th>\n",
              "      <td>...</td>\n",
              "      <td>...</td>\n",
              "      <td>...</td>\n",
              "      <td>...</td>\n",
              "      <td>...</td>\n",
              "    </tr>\n",
              "    <tr>\n",
              "      <th>5419963</th>\n",
              "      <td>565580</td>\n",
              "      <td>4949</td>\n",
              "      <td>2021-08-02</td>\n",
              "      <td>995</td>\n",
              "      <td>14</td>\n",
              "    </tr>\n",
              "    <tr>\n",
              "      <th>1460003</th>\n",
              "      <td>184495</td>\n",
              "      <td>11764</td>\n",
              "      <td>2021-08-02</td>\n",
              "      <td>8862</td>\n",
              "      <td>15</td>\n",
              "    </tr>\n",
              "    <tr>\n",
              "      <th>1021880</th>\n",
              "      <td>223970</td>\n",
              "      <td>7159</td>\n",
              "      <td>2021-08-02</td>\n",
              "      <td>777</td>\n",
              "      <td>12</td>\n",
              "    </tr>\n",
              "    <tr>\n",
              "      <th>4467899</th>\n",
              "      <td>475182</td>\n",
              "      <td>10945</td>\n",
              "      <td>2021-08-02</td>\n",
              "      <td>2996</td>\n",
              "      <td>40</td>\n",
              "    </tr>\n",
              "    <tr>\n",
              "      <th>424415</th>\n",
              "      <td>702295</td>\n",
              "      <td>15372</td>\n",
              "      <td>2021-08-02</td>\n",
              "      <td>1633</td>\n",
              "      <td>26</td>\n",
              "    </tr>\n",
              "  </tbody>\n",
              "</table>\n",
              "<p>2117273 rows × 5 columns</p>\n",
              "</div>"
            ],
            "text/plain": [
              "         user_id  item_id last_watch_dt  total_dur  watched_pct\n",
              "1196595    44185     7128    2021-03-13       6664          100\n",
              "4376993   846792     1229    2021-03-13       2618           45\n",
              "2971068   732651     8172    2021-03-13      82197          100\n",
              "4376798    33977     9767    2021-03-13       9520          100\n",
              "632848    127388      418    2021-03-13       5921          100\n",
              "...          ...      ...           ...        ...          ...\n",
              "5419963   565580     4949    2021-08-02        995           14\n",
              "1460003   184495    11764    2021-08-02       8862           15\n",
              "1021880   223970     7159    2021-08-02        777           12\n",
              "4467899   475182    10945    2021-08-02       2996           40\n",
              "424415    702295    15372    2021-08-02       1633           26\n",
              "\n",
              "[2117273 rows x 5 columns]"
            ]
          },
          "execution_count": 29,
          "metadata": {},
          "output_type": "execute_result"
        }
      ],
      "source": [
        "interactions_df.iloc[:int(len(interactions_df) * 0.8)]"
      ]
    },
    {
      "cell_type": "code",
      "execution_count": null,
      "id": "482d8ef1",
      "metadata": {
        "colab": {
          "base_uri": "https://localhost:8080/"
        },
        "id": "482d8ef1",
        "outputId": "f29ab993-5455-4b65-c71e-5c5276dc31c5"
      },
      "outputs": [
        {
          "data": {
            "text/plain": [
              "15963"
            ]
          },
          "execution_count": 30,
          "metadata": {},
          "output_type": "execute_result"
        }
      ],
      "source": [
        "NO_MOVIE = len(item_id_map)  # id bigger than any item id\n",
        "PAD_SIZE = 30  # users' interactions are padded to have the same number of items\n",
        "MOVIE_IDS_DTYPE = torch.int16\n",
        "USER_IDS_DTYPE = torch.int32\n",
        "MAIN_DTYPE = torch.float32\n",
        "NO_MOVIE"
      ]
    },
    {
      "cell_type": "code",
      "execution_count": null,
      "id": "e302091c",
      "metadata": {
        "id": "e302091c"
      },
      "outputs": [],
      "source": [
        "def pad_with_specific_value(tensor, target_length, pad_value):\n",
        "    \"\"\"`tensor` is considered to have only unique values\"\"\"\n",
        "    shuffled = tensor[torch.randperm(len(tensor))[:target_length]]\n",
        "    cur_length = len(shuffled)\n",
        "    if cur_length < target_length:\n",
        "        padding = torch.full((target_length - cur_length,), pad_value, dtype=shuffled.dtype) \n",
        "        return torch.cat([shuffled, padding])\n",
        "    else:\n",
        "        return shuffled\n",
        "\n",
        "def group_by_user(triplets: pd.DataFrame, column: Literal['film_pos', 'film_neg'] = 'film_pos') -> pd.DataFrame:\n",
        "    \"\"\"Group interactions by user and convert to DataFrame with column 'interactions' - Tensors of unique film IDs\"\"\"\n",
        "    groupped_users = triplets.loc[:, ['user_id', 'film_pos', 'film_neg']].groupby('user_id').apply(lambda x: x[column].tolist())\n",
        "    groupped_users = pd.DataFrame({'interactions': groupped_users.values}, index=groupped_users.index)\n",
        "    groupped_users['interactions'] = groupped_users['interactions'].apply(lambda x: torch.unique(torch.tensor(x, dtype=MOVIE_IDS_DTYPE)))\n",
        "    return groupped_users"
      ]
    },
    {
      "cell_type": "code",
      "execution_count": 32,
      "id": "77ba5995",
      "metadata": {
        "id": "77ba5995"
      },
      "outputs": [],
      "source": [
        "# How to deep copy dataframe with lists\n",
        "\n",
        "# import copy\n",
        "\n",
        "# A = pd.DataFrame({'inter': [[1, 2, 3], [4, 3, 7, 9]]})\n",
        "# B = A.copy(deep=True)\n",
        "# B['inter'] = B['inter'].apply(copy.deepcopy)  # deep-copy each list inside the column\n",
        "\n",
        "# A.loc[0, 'inter'][1] = 13\n",
        "# print(\"A:\", A, \"\\nB:\", B, sep=\"\\n\")"
      ]
    },
    {
      "cell_type": "markdown",
      "id": "17389e3a",
      "metadata": {
        "id": "17389e3a"
      },
      "source": [
        "# Dataset"
      ]
    },
    {
      "cell_type": "code",
      "execution_count": null,
      "id": "b08dd102",
      "metadata": {
        "id": "b08dd102"
      },
      "outputs": [],
      "source": [
        "def collate_fn(data: list[tuple]):\n",
        "    return data\n",
        "\n",
        "class DSSMDataset(td.Dataset):\n",
        "    def __init__(self, triplets: pd.DataFrame, type: Literal['train', 'val', 'test'] = 'train'):\n",
        "        super().__init__()\n",
        "        self.triplets = triplets\n",
        "        self.grouped_pos_users_interactions = group_by_user(triplets, column='film_pos')  # just like padded users but not padded\n",
        "        self.padded_users = self.grouped_pos_users_interactions.copy(deep=True)\n",
        "        self.padded_users['interactions'] = self.padded_users['interactions'].apply(lambda x: pad_with_specific_value(x, PAD_SIZE, NO_MOVIE).to(dtype=torch.int32))  # int32 required by EmbeddingBag\n",
        "\n",
        "        if type != 'test':\n",
        "            self.grouped_neg_users_interactions = group_by_user(triplets, column='film_neg')  # all negative interactions grouped by users into tensors\n",
        "            self.all_users = torch.tensor(self.grouped_neg_users_interactions.index.tolist(), dtype=USER_IDS_DTYPE)  # all unique users from triplets\n",
        "\n",
        "    def __getitem__(self, index: int):\n",
        "        cur_triplet = self.triplets.iloc[index]\n",
        "        user_id = cur_triplet['user_id']\n",
        "        user_info = torch.tensor(users_df.loc[user_id].values, dtype=MAIN_DTYPE)\n",
        "        user_interactions = self.padded_users.loc[user_id]['interactions']\n",
        "        pos_films_features = torch.tensor(items_df.loc[cur_triplet['film_pos']].values, dtype=MAIN_DTYPE)\n",
        "        neg_films_features = torch.tensor(items_df.loc[cur_triplet['film_neg']].values, dtype=MAIN_DTYPE)\n",
        "        pos_ids = self.grouped_pos_users_interactions.loc[user_ids]['interactions']\n",
        "        return user_id, user_interactions, user_info, pos_films_features, neg_films_features, pos_ids\n",
        "\n",
        "    def __getitems__(self, index: tp.Sequence[int]):\n",
        "        cur_triplets = self.triplets.iloc[index]\n",
        "        user_ids = cur_triplets['user_id']\n",
        "\n",
        "        user_info = torch.tensor(users_df.loc[user_ids].values, dtype=MAIN_DTYPE)\n",
        "        user_interactions = torch.stack(self.padded_users.loc[user_ids]['interactions'].tolist())\n",
        "        pos_films_features = torch.tensor(items_df.loc[cur_triplets['film_pos']].values, dtype=MAIN_DTYPE)\n",
        "        neg_films_features = torch.tensor(items_df.loc[cur_triplets['film_neg']].values, dtype=MAIN_DTYPE)\n",
        "        pos_ids = self.grouped_pos_users_interactions.loc[user_ids]['interactions'].tolist()\n",
        "\n",
        "        return user_ids, user_interactions, user_info, pos_films_features, neg_films_features, pos_ids\n",
        "\n",
        "    def get_all_users(self) -> Tensor:\n",
        "        \"\"\"\n",
        "        Get IDs of all users, that have positive interactions in this dataset\n",
        "        \n",
        "        Returns:\n",
        "            users (Tensor, dtype=torch.int32) : All user IDs\n",
        "        \"\"\"\n",
        "        return self.all_users\n",
        "\n",
        "    def get_user_data(self, user_id: int) -> tuple[Tensor, Tensor, Tensor, Tensor]:\n",
        "        \"\"\"\n",
        "        Get all data in a dataset of one user\n",
        "        \n",
        "        Args:\n",
        "            user_id (int) : ID of the user\n",
        "        \n",
        "        Returns:\n",
        "            user_interactions (Tensor, dtype=torch.int16) : interactions of this user stored in the dataset\n",
        "            user_info (Tensor, dtype=torch.float32) : Features of this user\n",
        "            pos_film_features (Tensor, dtype=torch.float32) : Features of positive films found in triplets for this user in the dataset\n",
        "            neg_film_features (Tensor, dtype=torch.float32) : Features of negative films found in triplets for this user in the dataset\n",
        "        \"\"\"\n",
        "        # TODO: кажется, не надо возвращать pos_film_features и neg_film_features потому что есть функция DSSM.encode_user(), которая \n",
        "        # просто посчитает эмбеддинг юзера по его истории взаимодействий (user_interactions) и его фичам (user_info)\n",
        "        # TODO: можно ли это сделать для нескольких user_id сразу для ускорения?  \n",
        "        pass\n",
        "\n",
        "    def __len__(self):\n",
        "        return len(self.triplets)"
      ]
    },
    {
      "cell_type": "markdown",
      "id": "6b524c8e",
      "metadata": {
        "id": "6b524c8e"
      },
      "source": [
        "# Model"
      ]
    },
    {
      "cell_type": "code",
      "execution_count": 34,
      "id": "f2c29932",
      "metadata": {
        "id": "f2c29932"
      },
      "outputs": [],
      "source": [
        "class ItemNet(nn.Module):\n",
        "    def __init__(self,\n",
        "                 dim_embedding: int,\n",
        "                 dim_input: int,\n",
        "                 dim_hidden: int = 96,\n",
        "                 activation: tp.Callable[[Tensor], Tensor] = nn.ReLU()\n",
        "                 ) -> None:\n",
        "        super().__init__()\n",
        "        self.cat_embedding = nn.Linear(ITEMS_NUM_CAT_FEATURES, dim_hidden)\n",
        "        self.genre_embedding = nn.Linear(ITEMS_NUM_GENRE_FEATURES, dim_hidden)\n",
        "        self.country_embedding = nn.Linear(dim_input - ITEMS_NUM_CAT_FEATURES - ITEMS_NUM_GENRE_FEATURES, dim_hidden)\n",
        "        self.dense_block = nn.Sequential(\n",
        "            nn.Linear(dim_hidden * 3, dim_hidden),\n",
        "            activation,\n",
        "        )\n",
        "        self.output_layer = nn.Linear(dim_hidden, dim_embedding, bias=False)\n",
        "        self.norm = nn.LayerNorm(dim_embedding)\n",
        "\n",
        "    def forward(self, item_features: Tensor) -> Tensor:\n",
        "        cat_features = item_features[:, :ITEMS_NUM_CAT_FEATURES]\n",
        "        genre_features = item_features[:, ITEMS_NUM_CAT_FEATURES:ITEMS_NUM_CAT_FEATURES + ITEMS_NUM_GENRE_FEATURES]\n",
        "        country_features = item_features[:, ITEMS_NUM_CAT_FEATURES + ITEMS_NUM_GENRE_FEATURES:]\n",
        "\n",
        "        cat_emb = self.cat_embedding(cat_features)\n",
        "        genre_emb = self.genre_embedding(genre_features)\n",
        "        country_emb = self.country_embedding(country_features)\n",
        "\n",
        "        pop_genre = torch.concat([cat_emb, genre_emb, country_emb], axis=1)\n",
        "        features = self.dense_block(pop_genre)\n",
        "        output = self.output_layer(features)\n",
        "\n",
        "        return self.norm(output)\n",
        "\n",
        "\n",
        "class UserNet(nn.Module):\n",
        "    def __init__(self,\n",
        "                 dim_embedding: int,\n",
        "                 num_items: int,\n",
        "                 dim_user_features: int,\n",
        "                 activation: tp.Callable[[Tensor], Tensor] = nn.ReLU()\n",
        "                 ) -> None:                              # | +1 for the NO_MOVIE element\n",
        "        super().__init__()                               # V\n",
        "        self.track_embeddings = nn.EmbeddingBag(num_items + 1, dim_embedding, padding_idx=num_items)\n",
        "        self.info_embedding = nn.Sequential(\n",
        "            nn.Linear(dim_user_features, int(dim_embedding // 2)),\n",
        "            nn.ReLU(),\n",
        "            nn.Linear(int(dim_embedding // 2), dim_embedding),\n",
        "            activation\n",
        "        )\n",
        "        self.dense_layer = nn.Sequential(\n",
        "            nn.Linear(dim_embedding, int(dim_embedding // 2)),\n",
        "            nn.ReLU(),\n",
        "            nn.Linear(int(dim_embedding // 2), dim_embedding),\n",
        "            activation\n",
        "        )\n",
        "        self.output_layer = nn.Linear(3*dim_embedding, dim_embedding, bias=False)\n",
        "        self.norm = nn.LayerNorm(dim_embedding)\n",
        "        self.num_items = num_items\n",
        "        self.dim_user_features = dim_user_features\n",
        "\n",
        "    def forward(self, user_interactions: Tensor, user_info: Tensor) -> Tensor:\n",
        "        # print(f'EMBEDDING BAG MAX INPUT: {user_ids.max()} while was ready for {self.num_items}')\n",
        "        interactions_emb = self.track_embeddings(user_interactions)\n",
        "        info_emb = self.info_embedding(user_info.float())\n",
        "        features = self.dense_layer(interactions_emb)\n",
        "        x = torch.cat([interactions_emb, features, info_emb], dim=1)\n",
        "        output = self.output_layer(x)\n",
        "        return self.norm(output)"
      ]
    },
    {
      "cell_type": "code",
      "execution_count": 35,
      "id": "5ae02e35",
      "metadata": {
        "id": "5ae02e35"
      },
      "outputs": [],
      "source": [
        "class DSSM(nn.Module):\n",
        "    def __init__(self,\n",
        "                 dim_item_features: int,\n",
        "                 dim_user_features: int,\n",
        "                 num_items: int,\n",
        "                 embedding_dim: int = 100,\n",
        "                 lr: float = 1e-3,\n",
        "                 triplet_loss_margin: float = 0.4,\n",
        "                 weight_decay: float = 1e-3,\n",
        "                 log_to_prog_bar: bool = True,\n",
        "                 ) -> None:\n",
        "        super().__init__()\n",
        "        self.lr = lr\n",
        "        self.triplet_loss_margin = triplet_loss_margin\n",
        "        self.weight_decay = weight_decay\n",
        "        self.log_to_prog_bar = log_to_prog_bar\n",
        "        self.item_net = ItemNet(embedding_dim, dim_item_features)\n",
        "        self.user_net = UserNet(embedding_dim, num_items, dim_user_features)\n",
        "\n",
        "    def forward(self,\n",
        "                user_intercations: Tensor,\n",
        "                user_info: Tensor,\n",
        "                item_features_pos: Tensor,\n",
        "                item_features_neg: Tensor,\n",
        "                ) -> tuple[Tensor, Tensor, Tensor]:\n",
        "        \"\"\"Returns embeddings of users, positive items and negative items\"\"\"\n",
        "        anchor = self.user_net(user_intercations, user_info)\n",
        "        pos = self.item_net(item_features_pos)\n",
        "        neg = self.item_net(item_features_neg)\n",
        "\n",
        "        return anchor, pos, neg\n",
        "\n",
        "    def encode_user(self, user_interactions: Tensor, user_info: Tensor) -> Tensor:\n",
        "        return self.user_net(user_interactions, user_info)\n",
        "\n",
        "    def encode_item(self, item_features: Tensor) -> Tensor:\n",
        "        return self.item_net(item_features)"
      ]
    },
    {
      "cell_type": "markdown",
      "id": "581bc071",
      "metadata": {
        "id": "581bc071"
      },
      "source": [
        "# Training\n",
        "\n",
        "## Define metrics"
      ]
    },
    {
      "cell_type": "code",
      "execution_count": null,
      "id": "705654a9",
      "metadata": {},
      "outputs": [
        {
          "data": {
            "text/plain": [
              "tensor(2)"
            ]
          },
          "execution_count": 36,
          "metadata": {},
          "output_type": "execute_result"
        }
      ],
      "source": [
        "a = torch.tensor([1, 2, 3, 4, 5], dtype=MOVIE_IDS_DTYPE)\n",
        "b = torch.tensor([1, 4], dtype=MOVIE_IDS_DTYPE)\n",
        "torch.isin(a, b).sum()"
      ]
    },
    {
      "cell_type": "code",
      "execution_count": null,
      "id": "8b6afa25",
      "metadata": {
        "id": "8b6afa25"
      },
      "outputs": [],
      "source": [
        "# # def recall_at_k(preds: list[list[int]], targets: list[int], k: int = 10) -> float:\n",
        "# #     hits = 0\n",
        "# #     for pred, true in zip(preds, targets):\n",
        "# #         if true in pred[:k]:\n",
        "# #             hits += 1\n",
        "# #     return hits / len(targets)\n",
        "\n",
        "# # def ndcg_at_k(preds: list[list[int]], targets: list[int], k: int = 10) -> float:\n",
        "# #     # return ndcg_score(y_true=targets, y_score=preds, k=k)\n",
        "# #     total = 0.0\n",
        "# #     for pred, true in zip(preds, targets):\n",
        "# #         if true in pred[:k]:\n",
        "# #             rank = pred.index(true) + 1\n",
        "# #             total += 1.0 / np.log2(rank + 1)\n",
        "# #     return total / len(targets)\n",
        "\n",
        "# # def mrr_at_k(preds: list[list[int]], targets: list[int], k: int = 10) -> float:\n",
        "# #     total = 0.0\n",
        "# #     for pred, true in zip(preds, targets):\n",
        "# #         if true in pred[:k]:\n",
        "# #             rank = pred.index(true) + 1\n",
        "# #             total += 1.0 / rank\n",
        "# #     return total / len(targets)\n",
        "\n",
        "# def precision_at_k(y_true, y_pred, k):\n",
        "#     precisions = []\n",
        "#     for true, pred in zip(y_true, y_pred):\n",
        "#         pred_k = pred[:k]\n",
        "#         true_set = set(true)\n",
        "#         precisions.append(len(set(pred_k) & true_set) / k)\n",
        "#     return np.mean(precisions)\n",
        "\n",
        "# def recall_at_k(y_true, y_pred, k):\n",
        "#     recalls = []\n",
        "#     for true, pred in tqdm(zip(y_true, y_pred), desc='Calculating Recall@k', total=len(y_true)):\n",
        "#         pred_k = pred[:k]\n",
        "#         true_set = set(true)\n",
        "#         if len(true_set) == 0:\n",
        "#             recalls.append(0.0)\n",
        "#         else:\n",
        "#             recalls.append(len(set(pred_k) & true_set) / len(true_set))\n",
        "#     return np.mean(recalls)\n",
        "\n",
        "# def dcg_at_k(rel_scores, k):\n",
        "#     return np.sum([\n",
        "#         rel / np.log2(idx + 2) for idx, rel in enumerate(rel_scores[:k])\n",
        "#     ])\n",
        "\n",
        "# def ndcg_at_k(y_true, y_pred, k):\n",
        "#     ndcgs = []\n",
        "#     for true, pred in zip(y_true, y_pred):\n",
        "#         rel = [1 if item in true else 0 for item in pred[:k]]\n",
        "#         dcg = dcg_at_k(rel, k)\n",
        "#         ideal_rel = sorted(rel, reverse=True)\n",
        "#         idcg = dcg_at_k(ideal_rel, k)\n",
        "#         ndcgs.append(dcg / idcg if idcg > 0 else 0.0)\n",
        "#     return np.mean(ndcgs)\n",
        "\n",
        "# def mrr_at_k(y_true, y_pred, k):\n",
        "#     mrrs = []\n",
        "#     for true, pred in zip(y_true, y_pred):\n",
        "#         for rank, item in enumerate(pred[:k], start=1):\n",
        "#             if item in true:\n",
        "#                 mrrs.append(1 / rank)\n",
        "#                 break\n",
        "#         else:\n",
        "#             mrrs.append(0.0)\n",
        "#     return np.mean(mrrs)\n",
        "\n",
        "\n",
        "def make_true_sets(y_true):\n",
        "    true_sets = []\n",
        "    for t in y_true:\n",
        "        if torch.is_tensor(t):\n",
        "            arr = t.cpu().numpy().tolist()\n",
        "        else:\n",
        "            arr = list(t)\n",
        "        true_sets.append(set(arr))\n",
        "    return true_sets\n",
        "\n",
        "def _recall_single(relevant_tensor, pred_tensor, k):\n",
        "    if (num_relevant_items := len(relevant_tensor)) == 0:\n",
        "        # TODO: такие сэмплы нам вообще не нужны в валидации, лучше их убрать заранее\n",
        "        return None\n",
        "    return torch.isin(pred_tensor[:k], relevant_tensor).sum().float() / num_relevant_items\n",
        "\n",
        "def recall_at_k(y_true, y_pred, k, n_jobs=-1):\n",
        "    recalls = Parallel(n_jobs=n_jobs)(\n",
        "        delayed(_recall_single)(ts, pred, k)\n",
        "        for ts, pred in tqdm(zip(y_true, y_pred), desc='Calculating Recall@k', total=len(y_true))\n",
        "    )\n",
        "    return np.mean(recalls)\n",
        "\n",
        "def precision_at_k(y_true_sets, y_pred, k):\n",
        "    precisions = []\n",
        "    for true_set, pred in zip(y_true_sets, y_pred):\n",
        "        pred_k = pred[:k]\n",
        "        precisions.append(len(set(pred_k) & true_set) / k)\n",
        "    return np.mean(precisions)\n",
        "\n",
        "def _dcg(rel, k):\n",
        "    score = 0.0\n",
        "    for i, r in enumerate(rel[:k]):\n",
        "        score += r / log2(i + 2)\n",
        "    return score\n",
        "\n",
        "def _ndcg_single(true_set, pred, k):\n",
        "    rel = [1 if item in true_set else 0 for item in pred[:k]]\n",
        "    dcg = _dcg(rel, k)\n",
        "    ideal = sorted(rel, reverse=True)\n",
        "    idcg = _dcg(ideal, k)\n",
        "    return dcg / idcg if idcg > 0 else 0.0\n",
        "\n",
        "def ndcg_at_k(y_true_sets, y_pred, k, n_jobs=-1):\n",
        "    ndcgs = Parallel(n_jobs=n_jobs)(\n",
        "        delayed(_ndcg_single)(ts, pred, k)\n",
        "        for ts, pred in tqdm(zip(y_true_sets, y_pred), desc='Calculating NDCG@k', total=len(y_true_sets))\n",
        "    )\n",
        "    return np.mean(ndcgs)\n",
        "\n",
        "def _mrr_single(true_set, pred, k):\n",
        "    for rank, item in enumerate(pred[:k], start=1):\n",
        "        if item in true_set:\n",
        "            return 1.0 / rank\n",
        "    return 0.0\n",
        "\n",
        "def mrr_at_k(y_true_sets, y_pred, k, n_jobs=-1):\n",
        "    mrrs = Parallel(n_jobs=n_jobs)(\n",
        "        delayed(_mrr_single)(ts, pred, k)\n",
        "        for ts, pred in tqdm(zip(y_true_sets, y_pred), desc='Calculating MRR@k', total=len(y_true_sets))\n",
        "    )\n",
        "    return np.mean(mrrs)"
      ]
    },
    {
      "cell_type": "markdown",
      "id": "52bad49c",
      "metadata": {},
      "source": [
        "## Configure training"
      ]
    },
    {
      "cell_type": "code",
      "execution_count": null,
      "id": "524e15de",
      "metadata": {},
      "outputs": [
        {
          "name": "stdout",
          "output_type": "stream",
          "text": [
            "Get train dataset\n",
            "Get validation dataset\n",
            "Get test dataset\n"
          ]
        }
      ],
      "source": [
        "print('Get train dataset')\n",
        "train_dataset = DSSMDataset(train_data, type='train')\n",
        "print('Get validation dataset')\n",
        "val_dataset = DSSMDataset(val_data, type='val')\n",
        "print('Get test dataset')\n",
        "test_dataset = DSSMDataset(test_data, type='test')"
      ]
    },
    {
      "cell_type": "code",
      "execution_count": 39,
      "id": "22fa4196",
      "metadata": {},
      "outputs": [],
      "source": [
        "# Hyperparams\n",
        "EPOCHS = 50\n",
        "BATCH_SIZE = 1024 * 16\n",
        "NUM_WORKERS = 0\n",
        "DEVICE = 'cuda:0' if torch.cuda.is_available() else 'cpu'\n",
        "\n",
        "EMBEDDING_DIM = 128\n",
        "LR = 1e-4\n",
        "WEIGHT_DECAY = 1e-4\n",
        "TRIPLET_LOSS_MARGIN = 0.4\n",
        "EXPERIMENT_NAME = 'wtf_1'\n",
        "K = 20\n",
        "LOG_TO_WANDB = False\n",
        "\n",
        "train_dataloader = td.DataLoader(train_dataset, collate_fn=collate_fn, batch_size=BATCH_SIZE, shuffle=True, num_workers=NUM_WORKERS)\n",
        "val_dataloader = td.DataLoader(val_dataset, collate_fn=collate_fn, batch_size=BATCH_SIZE, shuffle=False, num_workers=NUM_WORKERS)\n",
        "test_dataloader = td.DataLoader(test_dataset, collate_fn=collate_fn, batch_size=BATCH_SIZE, shuffle=False, num_workers=NUM_WORKERS)\n",
        "\n",
        "model = DSSM(dim_item_features=items_df.shape[1],\n",
        "             dim_user_features=users_df.shape[1],\n",
        "             num_items=len(item_id_map),\n",
        "             embedding_dim=EMBEDDING_DIM\n",
        "             ).to(DEVICE)\n",
        "\n",
        "optimizer = torch.optim.Adam(model.parameters(), lr=LR, weight_decay=WEIGHT_DECAY)\n",
        "# lr_scheduler = torch.optim.lr_scheduler.ReduceLROnPlateau(optimizer, patience=3, threshold=3e-3, threshold_mode='abs')\n",
        "lr_scheduler = torch.optim.lr_scheduler.ReduceLROnPlateau(\n",
        "    optimizer,\n",
        "    patience=3,\n",
        "    threshold=1e-3,\n",
        "    threshold_mode='abs'\n",
        ")\n",
        "early_stopping = EarlyStopping(\n",
        "    patience=7,\n",
        "    threshold=1e-3,\n",
        "    threshold_mode='rel',\n",
        "    verbose=True,\n",
        "    trace_func=tqdm.write,\n",
        "    path=f'model_weights/{EXPERIMENT_NAME}.ckpt'\n",
        ")"
      ]
    },
    {
      "cell_type": "markdown",
      "id": "6eb0722e",
      "metadata": {},
      "source": [
        "## Training loop"
      ]
    },
    {
      "cell_type": "code",
      "execution_count": null,
      "id": "6e9d1638",
      "metadata": {
        "colab": {
          "base_uri": "https://localhost:8080/",
          "height": 805,
          "referenced_widgets": [
            "9bc29f24bb0b4695a26f77fb8af70a24",
            "97d0ad85d8854d25bc5341bee7b426e8",
            "136186880efa4e649fa88d764a4a3eb3",
            "43273e610c7542a695c4b4f6df005fb2",
            "335e72ce46ab4252b7e582c6e93eeb9e",
            "532a57eed9f94d07a78b1692d1ed9f5e",
            "b35e5f8867bc4e74878e7e756258b5e8",
            "d215f0abcc3a49de8a6956680fc1dc4d",
            "b72a9db83aaf476580df4640460721ce",
            "2fa3e3081ec64f68825b4333244306c0",
            "33e445c178e640c893af8941b6c83dcf",
            "d93d97e6eac5413d9498e5b06eab31ac",
            "d4efa94313f345f5998d10d9a194a38b",
            "8541e523ca854f96b3709c069a58d149",
            "bdeadaf1b5d44385972405288537d2d6",
            "fe81b9b7c212463188891f61eee2d1d3",
            "fed9f97f8fdd4587aa6f29ff584f2bc8",
            "fd7a7795356f4b16bf8dfe8484217688",
            "e4eae59cc8ec4dba81cc9f138eb81a77",
            "bcae305f58734d6db5f375961d81c006",
            "92f05bd975a04958a256613f1aead00c",
            "d2f9664608d24211aff65907c31d044d",
            "87cd16dcba2949cda7b8314dbb63e7df",
            "9430d3edbf994ab596dc7f9e0eb47e77",
            "87e56d27cdcb4ceeaf8d3dda2b290d36",
            "72bf329d69b54abc8bdd83b2e1c1cd6b",
            "3705c08120b04f97b2950df60260630d",
            "dd7c785b889541b7a6c9a095963df3c7",
            "32d4f9acb63f442eb4921fc5ffdec469",
            "535cce583a5a430991f706eef500a016",
            "40f8fc68fb854b8ea88712b19464ac9c",
            "43203ad5e51a4d8eb1515ea135cb268a",
            "faccdaa4a1b6442491dcad4602ee39fc",
            "c6b68c2a5d5143dd975fdb82ff24b21c",
            "794d719cdaf046628e18a0f0846206a2",
            "3dd627fc3a024bb3ab4c93c7b76f86d7",
            "97cfc540a3254a5ca030d383dceacc9d",
            "0c322ad659d741338d4450bd8338b2d4",
            "7e42e5d4f9364512957f3222997e3fa7",
            "30fc623da02d4fb7a7a6111a52ff042a",
            "55ca36c4fbb6468ca3ea898a4bdba630",
            "4e730f5052a941ba92a6e33df83f55df",
            "2add5e85afb84b579f23fd436e597671",
            "37548681d1064bb795356fe614a04672",
            "92858eef61404fb9a351a3dff1a27bdf",
            "db7c945ad54d48f8881920874f31f53f",
            "8b7fef5a76314037b1333ad9a5072251",
            "190952f1b0f1458baa052335caad843f",
            "5ae3030c35c64ff9914018686d243018",
            "99330e6b65a4448baa484e06606e043f",
            "64b901466ab04fb39ea6550fb1fed5dd",
            "6a51fec6a06d476192d9af93c331addf",
            "537538491ada4cdd968f8237f5a47726",
            "2cbc6bfbe1d84afc82bf82e8e8696bad",
            "04970df49ff04366bff12765b45f1a15",
            "f1cf077115644a718468e99b264ab0e0",
            "85e32fbac2c8497883d300bf12c0c7c9",
            "eb9de8d6d0ea415face90421dc9e02b2",
            "e60553a94bc64c49959521520e47f916",
            "7c5683cef43741799ba7695c34a38ff5",
            "9b6c78b6d84d4944ab293119e60cab51",
            "9aeaf2dd1539412897e631a9dad627e6",
            "602e47c675a54559b0a86eae9ee391b6",
            "175cde7d594c4eb7a56b2a117c1af576",
            "cb8d2b20fdcd4025ba82b9019428b88f",
            "13a53cecdf5a4b9a83db861648b23c21",
            "d98f64f33afd4a5ea2841ad8a5b1d963",
            "19fdadec9c9f423c83ac49da9e02a733",
            "dfe72a7e5c0b4fb7a95178d6348b0fc0",
            "eeecddad25b84c098a0094f9d0ee4006",
            "1ce8ea196b0448eca66ba77d9cc968fd",
            "4f9e1506ed354ae58abe9929436aa624",
            "19328e5fa3a649fbaf0945a1ad5b06ad",
            "db8912519094426ea0aa91fde455af70",
            "1e2bb88c2e7a43baaa31427b3da48089",
            "df14a248e86e463c8474d19e96ad82c1",
            "fe25627b579040bd9cfc19b2d9e995be",
            "a201254b1dd944748bf30eb936735175",
            "def74d36c72d4c5d86c2abe2c4e1cdca",
            "aed2c3d4604f4afeaae1ff63523ca9eb",
            "5ab162da0cd94a78b9c4fcd9b2df9e39",
            "55bcb0d5108546f0afcf87a080c1936b",
            "24fe7a119ade4cd6a30723c4178b20a5",
            "198f4af595a8497d9f0b81a2d846b80e",
            "1281ade729f14942b46c6a97637723ec",
            "a10e16eb72ff4881a289482d91b968e7",
            "6910e94d9bb94bdd8361584409a8f4a2",
            "407c7a10ca3a406ebbdab5492f2e27cd",
            "ddc60551783d42edb83be1b7125657c0",
            "4f706679ea72421b964c6aa2aabbd4c4",
            "2e54409f1ba5490f93b1eaaf1f567e46",
            "b3135242ce234e14874c5e002f8e3909",
            "bcb80fb17e0b433c8294871c5a8adca9",
            "cc86a3ca51fe4ce49057d146c9cce81d",
            "65133ee08a6a453ab49d672fc5a9d15a",
            "e3107c9fe82d4a6cbe8c60b2ebf44ae7",
            "aa9efc06afdf42298225d884ef8b095c",
            "3b8603eb78b04837a8c1a2d1450da78d",
            "6100eae6b7ea49adbacef940df5de8df",
            "cfed3d54cfcc4576a87ab80eab4522bc",
            "16bbfdf5b3a1474ca4982afaebb2417e",
            "fda8a1f70981404bbf6f4ca7d972eabf",
            "92e81cadee6644db8edc2ac93c92bd1b",
            "8c7904088100434eba5dff30919c9474",
            "0735fec723d44ccb89787750531338ee",
            "5593bb6df18e454ba8a09b6d2b525566",
            "dd84b2b2a62f446b876d393ef9168bd0",
            "db7a214d35ca49a2933464f8459a77e1",
            "c3f4e96339684d8aae98b144a11a59dc",
            "e4e536ff33b9437b8e2b2b5e3f07a97b",
            "caefd08c21524c70b506fddaf280a6b6",
            "560533067bcd4652889a20f5bc80c6b0",
            "79c1a096c7324e61818a3375a3833384",
            "f3ac6f26250141fab0ffc712a3b6396c",
            "9d32230783364b8b9a9200281ec0d6cc",
            "ae8366af912e41c3bd1013b9d637a273",
            "6c817043340a4fdc9d80483472f2d9e5",
            "74d5275387624057a1ecfab4acbc02f2",
            "daddb4e026ee43889ee72ae8efe82bf7",
            "cb72a1e27527402bb4de7e18ed2d6abc",
            "49bcb840ba1647aeb5be8aca5b8aea3f"
          ]
        },
        "id": "6e9d1638",
        "outputId": "1cd9a370-4f5c-41ad-aa9a-f6f8a96cd723"
      },
      "outputs": [
        {
          "data": {
            "application/vnd.jupyter.widget-view+json": {
              "model_id": "cbcbb42faf5e43e9b41d5a39c1cb90ad",
              "version_major": 2,
              "version_minor": 0
            },
            "text/plain": [
              "Training:   0%|          | 0/50 [00:00<?, ?epoch/s]"
            ]
          },
          "metadata": {},
          "output_type": "display_data"
        },
        {
          "data": {
            "application/vnd.jupyter.widget-view+json": {
              "model_id": "72df2e2bf7db4d9cbdfe5be01b858f15",
              "version_major": 2,
              "version_minor": 0
            },
            "text/plain": [
              "Epoch 1/50:   0%|          | 0/235 [00:00<?, ?batch/s]"
            ]
          },
          "metadata": {},
          "output_type": "display_data"
        },
        {
          "data": {
            "application/vnd.jupyter.widget-view+json": {
              "model_id": "b58550ae37b34e14a087d90d81786df1",
              "version_major": 2,
              "version_minor": 0
            },
            "text/plain": [
              "Validation:   0%|          | 0/8 [00:00<?, ?batch/s]"
            ]
          },
          "metadata": {},
          "output_type": "display_data"
        },
        {
          "data": {
            "application/vnd.jupyter.widget-view+json": {
              "model_id": "a6836232b153415d886121eb6812276b",
              "version_major": 2,
              "version_minor": 0
            },
            "text/plain": [
              "Filtering recommendations:   0%|          | 0/16384 [00:00<?, ?it/s]"
            ]
          },
          "metadata": {},
          "output_type": "display_data"
        },
        {
          "data": {
            "application/vnd.jupyter.widget-view+json": {
              "model_id": "84ee22cb2aea4b0ab8e927fa92038d63",
              "version_major": 2,
              "version_minor": 0
            },
            "text/plain": [
              "Filtering recommendations:   0%|          | 0/16384 [00:00<?, ?it/s]"
            ]
          },
          "metadata": {},
          "output_type": "display_data"
        },
        {
          "data": {
            "application/vnd.jupyter.widget-view+json": {
              "model_id": "299cfdd674104b5bb16b3b335e3ef3f8",
              "version_major": 2,
              "version_minor": 0
            },
            "text/plain": [
              "Filtering recommendations:   0%|          | 0/16384 [00:00<?, ?it/s]"
            ]
          },
          "metadata": {},
          "output_type": "display_data"
        },
        {
          "data": {
            "application/vnd.jupyter.widget-view+json": {
              "model_id": "ea5f4bb7bcf94574925623e1ed86a5c8",
              "version_major": 2,
              "version_minor": 0
            },
            "text/plain": [
              "Filtering recommendations:   0%|          | 0/16384 [00:00<?, ?it/s]"
            ]
          },
          "metadata": {},
          "output_type": "display_data"
        },
        {
          "data": {
            "application/vnd.jupyter.widget-view+json": {
              "model_id": "5d53ae2670db4a11a1b83b3e66b5691b",
              "version_major": 2,
              "version_minor": 0
            },
            "text/plain": [
              "Filtering recommendations:   0%|          | 0/16384 [00:00<?, ?it/s]"
            ]
          },
          "metadata": {},
          "output_type": "display_data"
        },
        {
          "data": {
            "application/vnd.jupyter.widget-view+json": {
              "model_id": "603b40baea9f436099b5e92f177fdeca",
              "version_major": 2,
              "version_minor": 0
            },
            "text/plain": [
              "Filtering recommendations:   0%|          | 0/16384 [00:00<?, ?it/s]"
            ]
          },
          "metadata": {},
          "output_type": "display_data"
        },
        {
          "data": {
            "application/vnd.jupyter.widget-view+json": {
              "model_id": "777111e86823482a8343d2fbdf151699",
              "version_major": 2,
              "version_minor": 0
            },
            "text/plain": [
              "Filtering recommendations:   0%|          | 0/16384 [00:00<?, ?it/s]"
            ]
          },
          "metadata": {},
          "output_type": "display_data"
        },
        {
          "data": {
            "application/vnd.jupyter.widget-view+json": {
              "model_id": "924adbb630c94c28bce930f0c3ecbb64",
              "version_major": 2,
              "version_minor": 0
            },
            "text/plain": [
              "Filtering recommendations:   0%|          | 0/5266 [00:00<?, ?it/s]"
            ]
          },
          "metadata": {},
          "output_type": "display_data"
        },
        {
          "name": "stdout",
          "output_type": "stream",
          "text": [
            "All predictions:\n",
            "[tensor([14117,  3633, 14452,  ...,  3674,  6675,  8967], dtype=torch.int16), tensor([14117,  3633, 14452,  ...,  3674,  6675,  8967], dtype=torch.int16), tensor([14117,  3633, 14452,  ...,  3674,  6675,  8967], dtype=torch.int16), tensor([ 9879,  4874, 13651,  ..., 13317, 11325,  9193], dtype=torch.int16), tensor([10475, 14167, 15220,  ...,  7105, 14543,  9416], dtype=torch.int16), tensor([10475, 14167, 15220,  ...,  7105, 14543,  9416], dtype=torch.int16), tensor([10475, 14167, 15220,  ...,  7105, 14543,  9416], dtype=torch.int16), tensor([10475, 14167, 15220,  ...,  7105, 14543,  9416], dtype=torch.int16), tensor([10475, 14167, 15220,  ...,  7105, 14543,  9416], dtype=torch.int16), tensor([10475, 14167, 15220,  ...,  7105, 14543,  9416], dtype=torch.int16)]\n"
          ]
        },
        {
          "data": {
            "application/vnd.jupyter.widget-view+json": {
              "model_id": "ff0a2f111c33408f9468c6c37a28ada3",
              "version_major": 2,
              "version_minor": 0
            },
            "text/plain": [
              "Calculating Recall@k:   0%|          | 0/119954 [00:00<?, ?it/s]"
            ]
          },
          "metadata": {},
          "output_type": "display_data"
        },
        {
          "name": "stdout",
          "output_type": "stream",
          "text": [
            "Mean val los: 0.1892 | Recall: 0.00042409368325024843\n"
          ]
        },
        {
          "data": {
            "application/vnd.jupyter.widget-view+json": {
              "model_id": "123b2b1fe72e4dbbbb8933c2f228b13b",
              "version_major": 2,
              "version_minor": 0
            },
            "text/plain": [
              "Epoch 2/50:   0%|          | 0/235 [00:00<?, ?batch/s]"
            ]
          },
          "metadata": {},
          "output_type": "display_data"
        },
        {
          "data": {
            "application/vnd.jupyter.widget-view+json": {
              "model_id": "01e4937ba70f4d21881d49efc8ce10a1",
              "version_major": 2,
              "version_minor": 0
            },
            "text/plain": [
              "Validation:   0%|          | 0/8 [00:00<?, ?batch/s]"
            ]
          },
          "metadata": {},
          "output_type": "display_data"
        },
        {
          "data": {
            "application/vnd.jupyter.widget-view+json": {
              "model_id": "1c2fe06ef7ff420aa813226728082465",
              "version_major": 2,
              "version_minor": 0
            },
            "text/plain": [
              "Filtering recommendations:   0%|          | 0/16384 [00:00<?, ?it/s]"
            ]
          },
          "metadata": {},
          "output_type": "display_data"
        },
        {
          "data": {
            "application/vnd.jupyter.widget-view+json": {
              "model_id": "755641ab831f4300af89be3f8a404935",
              "version_major": 2,
              "version_minor": 0
            },
            "text/plain": [
              "Filtering recommendations:   0%|          | 0/16384 [00:00<?, ?it/s]"
            ]
          },
          "metadata": {},
          "output_type": "display_data"
        },
        {
          "data": {
            "application/vnd.jupyter.widget-view+json": {
              "model_id": "1aeb42fe0bde428084cda0c100fc7359",
              "version_major": 2,
              "version_minor": 0
            },
            "text/plain": [
              "Filtering recommendations:   0%|          | 0/16384 [00:00<?, ?it/s]"
            ]
          },
          "metadata": {},
          "output_type": "display_data"
        },
        {
          "data": {
            "application/vnd.jupyter.widget-view+json": {
              "model_id": "03dccd3a51f84ec79900daba9c4937d8",
              "version_major": 2,
              "version_minor": 0
            },
            "text/plain": [
              "Filtering recommendations:   0%|          | 0/16384 [00:00<?, ?it/s]"
            ]
          },
          "metadata": {},
          "output_type": "display_data"
        },
        {
          "data": {
            "application/vnd.jupyter.widget-view+json": {
              "model_id": "0bebb7c1bac84f2e9fa756daccbd27bd",
              "version_major": 2,
              "version_minor": 0
            },
            "text/plain": [
              "Filtering recommendations:   0%|          | 0/16384 [00:00<?, ?it/s]"
            ]
          },
          "metadata": {},
          "output_type": "display_data"
        },
        {
          "data": {
            "application/vnd.jupyter.widget-view+json": {
              "model_id": "6421661df37044c6a341f0e107607af0",
              "version_major": 2,
              "version_minor": 0
            },
            "text/plain": [
              "Filtering recommendations:   0%|          | 0/16384 [00:00<?, ?it/s]"
            ]
          },
          "metadata": {},
          "output_type": "display_data"
        },
        {
          "data": {
            "application/vnd.jupyter.widget-view+json": {
              "model_id": "492f915613f048e0857cee8d07867220",
              "version_major": 2,
              "version_minor": 0
            },
            "text/plain": [
              "Filtering recommendations:   0%|          | 0/16384 [00:00<?, ?it/s]"
            ]
          },
          "metadata": {},
          "output_type": "display_data"
        },
        {
          "data": {
            "application/vnd.jupyter.widget-view+json": {
              "model_id": "55abb036288346c4ab1e45ad0f5dd692",
              "version_major": 2,
              "version_minor": 0
            },
            "text/plain": [
              "Filtering recommendations:   0%|          | 0/5266 [00:00<?, ?it/s]"
            ]
          },
          "metadata": {},
          "output_type": "display_data"
        },
        {
          "name": "stdout",
          "output_type": "stream",
          "text": [
            "All predictions:\n",
            "[tensor([14117,  3633, 14452,  ..., 15272,  6675, 15681], dtype=torch.int16), tensor([14117,  3633, 14452,  ..., 15272,  6675, 15681], dtype=torch.int16), tensor([14117,  3633, 14452,  ..., 15272,  6675, 15681], dtype=torch.int16), tensor([ 9879,  4874, 13651,  ..., 11907, 11325,  9193], dtype=torch.int16), tensor([10475, 14167, 15220,  ...,  4238, 15488,  9416], dtype=torch.int16), tensor([10475, 14167, 15220,  ...,  4238, 15488,  9416], dtype=torch.int16), tensor([10475, 14167, 15220,  ...,  4238, 15488,  9416], dtype=torch.int16), tensor([10475, 14167, 15220,  ...,  4238, 15488,  9416], dtype=torch.int16), tensor([10475, 14167, 15220,  ...,  4238, 15488,  9416], dtype=torch.int16), tensor([10475, 14167, 15220,  ...,  4238, 15488,  9416], dtype=torch.int16)]\n"
          ]
        },
        {
          "data": {
            "application/vnd.jupyter.widget-view+json": {
              "model_id": "87b23a3c91ee4b36ba5c4e5cbcc61583",
              "version_major": 2,
              "version_minor": 0
            },
            "text/plain": [
              "Calculating Recall@k:   0%|          | 0/119954 [00:00<?, ?it/s]"
            ]
          },
          "metadata": {},
          "output_type": "display_data"
        },
        {
          "name": "stdout",
          "output_type": "stream",
          "text": [
            "Mean val los: 0.1892 | Recall: 0.00042409368325024843\n",
            "EarlyStopping counter: 1 out of 7\n"
          ]
        },
        {
          "data": {
            "application/vnd.jupyter.widget-view+json": {
              "model_id": "27942f0e5d4b4c57a5e7c3fe98f3b849",
              "version_major": 2,
              "version_minor": 0
            },
            "text/plain": [
              "Epoch 3/50:   0%|          | 0/235 [00:00<?, ?batch/s]"
            ]
          },
          "metadata": {},
          "output_type": "display_data"
        },
        {
          "data": {
            "application/vnd.jupyter.widget-view+json": {
              "model_id": "21ec6dabb55e449195c1cb14c9f64214",
              "version_major": 2,
              "version_minor": 0
            },
            "text/plain": [
              "Validation:   0%|          | 0/8 [00:00<?, ?batch/s]"
            ]
          },
          "metadata": {},
          "output_type": "display_data"
        },
        {
          "data": {
            "application/vnd.jupyter.widget-view+json": {
              "model_id": "5de91ffbac484ea0bf6c6a050d252976",
              "version_major": 2,
              "version_minor": 0
            },
            "text/plain": [
              "Filtering recommendations:   0%|          | 0/16384 [00:00<?, ?it/s]"
            ]
          },
          "metadata": {},
          "output_type": "display_data"
        },
        {
          "data": {
            "application/vnd.jupyter.widget-view+json": {
              "model_id": "6b7c049b4d0e4597b9243ba094af5667",
              "version_major": 2,
              "version_minor": 0
            },
            "text/plain": [
              "Filtering recommendations:   0%|          | 0/16384 [00:00<?, ?it/s]"
            ]
          },
          "metadata": {},
          "output_type": "display_data"
        },
        {
          "data": {
            "application/vnd.jupyter.widget-view+json": {
              "model_id": "95e6ee43f2cd4c13b661fdf34b251d09",
              "version_major": 2,
              "version_minor": 0
            },
            "text/plain": [
              "Filtering recommendations:   0%|          | 0/16384 [00:00<?, ?it/s]"
            ]
          },
          "metadata": {},
          "output_type": "display_data"
        },
        {
          "data": {
            "application/vnd.jupyter.widget-view+json": {
              "model_id": "476ab5f72ab84b119eb8e5383225a5e5",
              "version_major": 2,
              "version_minor": 0
            },
            "text/plain": [
              "Filtering recommendations:   0%|          | 0/16384 [00:00<?, ?it/s]"
            ]
          },
          "metadata": {},
          "output_type": "display_data"
        },
        {
          "data": {
            "application/vnd.jupyter.widget-view+json": {
              "model_id": "b756f6c067b2436c8ec46b6f767c392a",
              "version_major": 2,
              "version_minor": 0
            },
            "text/plain": [
              "Filtering recommendations:   0%|          | 0/16384 [00:00<?, ?it/s]"
            ]
          },
          "metadata": {},
          "output_type": "display_data"
        },
        {
          "data": {
            "application/vnd.jupyter.widget-view+json": {
              "model_id": "f7b865c7fe5945a1aa3bad2e97d69bba",
              "version_major": 2,
              "version_minor": 0
            },
            "text/plain": [
              "Filtering recommendations:   0%|          | 0/16384 [00:00<?, ?it/s]"
            ]
          },
          "metadata": {},
          "output_type": "display_data"
        },
        {
          "data": {
            "application/vnd.jupyter.widget-view+json": {
              "model_id": "e05e3cec99714452975a6f6529aa844d",
              "version_major": 2,
              "version_minor": 0
            },
            "text/plain": [
              "Filtering recommendations:   0%|          | 0/16384 [00:00<?, ?it/s]"
            ]
          },
          "metadata": {},
          "output_type": "display_data"
        },
        {
          "data": {
            "application/vnd.jupyter.widget-view+json": {
              "model_id": "bdde9c32e8334d8fb900d72c9add6012",
              "version_major": 2,
              "version_minor": 0
            },
            "text/plain": [
              "Filtering recommendations:   0%|          | 0/5266 [00:00<?, ?it/s]"
            ]
          },
          "metadata": {},
          "output_type": "display_data"
        },
        {
          "name": "stdout",
          "output_type": "stream",
          "text": [
            "All predictions:\n",
            "[tensor([14117,  3633, 14452,  ..., 15272, 15681,  6675], dtype=torch.int16), tensor([14117,  3633, 14452,  ..., 15272, 15681,  6675], dtype=torch.int16), tensor([14117,  3633, 14452,  ..., 15272, 15681,  6675], dtype=torch.int16), tensor([ 9879,  4874,  3693,  ..., 11907, 11325,  9193], dtype=torch.int16), tensor([10475, 14167, 15220,  ...,  4238, 14543,  9416], dtype=torch.int16), tensor([10475, 14167, 15220,  ...,  4238, 14543,  9416], dtype=torch.int16), tensor([10475, 14167, 15220,  ...,  4238, 14543,  9416], dtype=torch.int16), tensor([10475, 14167, 15220,  ...,  4238, 14543,  9416], dtype=torch.int16), tensor([10475, 14167, 15220,  ...,  4238, 14543,  9416], dtype=torch.int16), tensor([10475, 14167, 15220,  ...,  4238, 14543,  9416], dtype=torch.int16)]\n"
          ]
        },
        {
          "data": {
            "application/vnd.jupyter.widget-view+json": {
              "model_id": "b0897c530d7547948afb7d5bd55e9d6f",
              "version_major": 2,
              "version_minor": 0
            },
            "text/plain": [
              "Calculating Recall@k:   0%|          | 0/119954 [00:00<?, ?it/s]"
            ]
          },
          "metadata": {},
          "output_type": "display_data"
        },
        {
          "name": "stdout",
          "output_type": "stream",
          "text": [
            "Mean val los: 0.1868 | Recall: 0.00042409368325024843\n"
          ]
        },
        {
          "data": {
            "application/vnd.jupyter.widget-view+json": {
              "model_id": "9239c6b65aec47dd803e35c394a30c85",
              "version_major": 2,
              "version_minor": 0
            },
            "text/plain": [
              "Epoch 4/50:   0%|          | 0/235 [00:00<?, ?batch/s]"
            ]
          },
          "metadata": {},
          "output_type": "display_data"
        },
        {
          "data": {
            "application/vnd.jupyter.widget-view+json": {
              "model_id": "a0a4f96a27384ec6856e861493fb09e4",
              "version_major": 2,
              "version_minor": 0
            },
            "text/plain": [
              "Validation:   0%|          | 0/8 [00:00<?, ?batch/s]"
            ]
          },
          "metadata": {},
          "output_type": "display_data"
        },
        {
          "data": {
            "application/vnd.jupyter.widget-view+json": {
              "model_id": "4cc185a4652341c6bb63ea291b97ea6d",
              "version_major": 2,
              "version_minor": 0
            },
            "text/plain": [
              "Filtering recommendations:   0%|          | 0/16384 [00:00<?, ?it/s]"
            ]
          },
          "metadata": {},
          "output_type": "display_data"
        },
        {
          "data": {
            "application/vnd.jupyter.widget-view+json": {
              "model_id": "66bbd0180f7d44fdb1999390d84340ea",
              "version_major": 2,
              "version_minor": 0
            },
            "text/plain": [
              "Filtering recommendations:   0%|          | 0/16384 [00:00<?, ?it/s]"
            ]
          },
          "metadata": {},
          "output_type": "display_data"
        },
        {
          "data": {
            "application/vnd.jupyter.widget-view+json": {
              "model_id": "a65368ea62724dbeb220c6066f7c18d1",
              "version_major": 2,
              "version_minor": 0
            },
            "text/plain": [
              "Filtering recommendations:   0%|          | 0/16384 [00:00<?, ?it/s]"
            ]
          },
          "metadata": {},
          "output_type": "display_data"
        },
        {
          "data": {
            "application/vnd.jupyter.widget-view+json": {
              "model_id": "5f6ca4082656486f835893d394bb7d4d",
              "version_major": 2,
              "version_minor": 0
            },
            "text/plain": [
              "Filtering recommendations:   0%|          | 0/16384 [00:00<?, ?it/s]"
            ]
          },
          "metadata": {},
          "output_type": "display_data"
        },
        {
          "data": {
            "application/vnd.jupyter.widget-view+json": {
              "model_id": "ebe7039387b34de0a9337177a90ea979",
              "version_major": 2,
              "version_minor": 0
            },
            "text/plain": [
              "Filtering recommendations:   0%|          | 0/16384 [00:00<?, ?it/s]"
            ]
          },
          "metadata": {},
          "output_type": "display_data"
        },
        {
          "data": {
            "application/vnd.jupyter.widget-view+json": {
              "model_id": "cb87e4490887448289048409a101641c",
              "version_major": 2,
              "version_minor": 0
            },
            "text/plain": [
              "Filtering recommendations:   0%|          | 0/16384 [00:00<?, ?it/s]"
            ]
          },
          "metadata": {},
          "output_type": "display_data"
        },
        {
          "data": {
            "application/vnd.jupyter.widget-view+json": {
              "model_id": "abea805253fa4241aa2c7e1d5db9c9a9",
              "version_major": 2,
              "version_minor": 0
            },
            "text/plain": [
              "Filtering recommendations:   0%|          | 0/16384 [00:00<?, ?it/s]"
            ]
          },
          "metadata": {},
          "output_type": "display_data"
        },
        {
          "data": {
            "application/vnd.jupyter.widget-view+json": {
              "model_id": "aed5f98969f4473d9ab64e6b63714c6c",
              "version_major": 2,
              "version_minor": 0
            },
            "text/plain": [
              "Filtering recommendations:   0%|          | 0/5266 [00:00<?, ?it/s]"
            ]
          },
          "metadata": {},
          "output_type": "display_data"
        },
        {
          "name": "stdout",
          "output_type": "stream",
          "text": [
            "All predictions:\n",
            "[tensor([14117, 11294, 14452,  ..., 15493, 15681,  6675], dtype=torch.int16), tensor([14117, 11294, 14452,  ..., 15493, 15681,  6675], dtype=torch.int16), tensor([14117, 11294, 14452,  ..., 15493, 15681,  6675], dtype=torch.int16), tensor([ 4874,  9879,  3693,  ..., 11907, 11325,  9193], dtype=torch.int16), tensor([14167, 15220, 10475,  ..., 14543,  4238,  9416], dtype=torch.int16), tensor([14167, 15220, 10475,  ..., 14543,  4238,  9416], dtype=torch.int16), tensor([14167, 15220, 10475,  ..., 14543,  4238,  9416], dtype=torch.int16), tensor([14167, 15220, 10475,  ..., 14543,  4238,  9416], dtype=torch.int16), tensor([14167, 15220, 10475,  ..., 14543,  4238,  9416], dtype=torch.int16), tensor([14167, 15220, 10475,  ..., 14543,  4238,  9416], dtype=torch.int16)]\n"
          ]
        },
        {
          "data": {
            "application/vnd.jupyter.widget-view+json": {
              "model_id": "5991e32e578349d8b07dde2423fd676a",
              "version_major": 2,
              "version_minor": 0
            },
            "text/plain": [
              "Calculating Recall@k:   0%|          | 0/119954 [00:00<?, ?it/s]"
            ]
          },
          "metadata": {},
          "output_type": "display_data"
        },
        {
          "name": "stdout",
          "output_type": "stream",
          "text": [
            "Mean val los: 0.1854 | Recall: 0.00042409368325024843\n"
          ]
        },
        {
          "data": {
            "application/vnd.jupyter.widget-view+json": {
              "model_id": "145ae478ab184963be738455bfb9f4b6",
              "version_major": 2,
              "version_minor": 0
            },
            "text/plain": [
              "Epoch 5/50:   0%|          | 0/235 [00:00<?, ?batch/s]"
            ]
          },
          "metadata": {},
          "output_type": "display_data"
        },
        {
          "data": {
            "application/vnd.jupyter.widget-view+json": {
              "model_id": "3cc0fb2709d244c39e73a9927150021f",
              "version_major": 2,
              "version_minor": 0
            },
            "text/plain": [
              "Validation:   0%|          | 0/8 [00:00<?, ?batch/s]"
            ]
          },
          "metadata": {},
          "output_type": "display_data"
        },
        {
          "data": {
            "application/vnd.jupyter.widget-view+json": {
              "model_id": "108da8645f7c4e5f8814da473c4417e3",
              "version_major": 2,
              "version_minor": 0
            },
            "text/plain": [
              "Filtering recommendations:   0%|          | 0/16384 [00:00<?, ?it/s]"
            ]
          },
          "metadata": {},
          "output_type": "display_data"
        },
        {
          "data": {
            "application/vnd.jupyter.widget-view+json": {
              "model_id": "55ae0ea9720a4c1a8cb1b3b10f9d3b1a",
              "version_major": 2,
              "version_minor": 0
            },
            "text/plain": [
              "Filtering recommendations:   0%|          | 0/16384 [00:00<?, ?it/s]"
            ]
          },
          "metadata": {},
          "output_type": "display_data"
        },
        {
          "data": {
            "application/vnd.jupyter.widget-view+json": {
              "model_id": "5ae3a673d009474f9afca64d2788c0d2",
              "version_major": 2,
              "version_minor": 0
            },
            "text/plain": [
              "Filtering recommendations:   0%|          | 0/16384 [00:00<?, ?it/s]"
            ]
          },
          "metadata": {},
          "output_type": "display_data"
        },
        {
          "data": {
            "application/vnd.jupyter.widget-view+json": {
              "model_id": "53b18d6aa58f4adb9bca21a0a8e50ae7",
              "version_major": 2,
              "version_minor": 0
            },
            "text/plain": [
              "Filtering recommendations:   0%|          | 0/16384 [00:00<?, ?it/s]"
            ]
          },
          "metadata": {},
          "output_type": "display_data"
        },
        {
          "data": {
            "application/vnd.jupyter.widget-view+json": {
              "model_id": "1735c91a535a48198c46c514eb464324",
              "version_major": 2,
              "version_minor": 0
            },
            "text/plain": [
              "Filtering recommendations:   0%|          | 0/16384 [00:00<?, ?it/s]"
            ]
          },
          "metadata": {},
          "output_type": "display_data"
        },
        {
          "data": {
            "application/vnd.jupyter.widget-view+json": {
              "model_id": "ff987b3e82e1493bbac52b552ce675ec",
              "version_major": 2,
              "version_minor": 0
            },
            "text/plain": [
              "Filtering recommendations:   0%|          | 0/16384 [00:00<?, ?it/s]"
            ]
          },
          "metadata": {},
          "output_type": "display_data"
        },
        {
          "data": {
            "application/vnd.jupyter.widget-view+json": {
              "model_id": "876ce8b0a5624566be04608fa1a66a47",
              "version_major": 2,
              "version_minor": 0
            },
            "text/plain": [
              "Filtering recommendations:   0%|          | 0/16384 [00:00<?, ?it/s]"
            ]
          },
          "metadata": {},
          "output_type": "display_data"
        },
        {
          "data": {
            "application/vnd.jupyter.widget-view+json": {
              "model_id": "b6112af74a51446d97d16ad2257f32c5",
              "version_major": 2,
              "version_minor": 0
            },
            "text/plain": [
              "Filtering recommendations:   0%|          | 0/5266 [00:00<?, ?it/s]"
            ]
          },
          "metadata": {},
          "output_type": "display_data"
        },
        {
          "name": "stdout",
          "output_type": "stream",
          "text": [
            "All predictions:\n",
            "[tensor([14117, 11294, 14452,  ..., 15493, 15681,  6675], dtype=torch.int16), tensor([14117, 11294, 14452,  ..., 15493, 15681,  6675], dtype=torch.int16), tensor([14117, 11294, 14452,  ..., 15493, 15681,  6675], dtype=torch.int16), tensor([ 4874,  9879,  1679,  ..., 11907, 11325,  9193], dtype=torch.int16), tensor([10475, 14167, 15220,  ..., 14543,  7105,  9416], dtype=torch.int16), tensor([10475, 14167, 15220,  ..., 14543,  7105,  9416], dtype=torch.int16), tensor([10475, 14167, 15220,  ..., 14543,  7105,  9416], dtype=torch.int16), tensor([10475, 14167, 15220,  ..., 14543,  7105,  9416], dtype=torch.int16), tensor([10475, 14167, 15220,  ..., 14543,  7105,  9416], dtype=torch.int16), tensor([10475, 14167, 15220,  ..., 14543,  7105,  9416], dtype=torch.int16)]\n"
          ]
        },
        {
          "data": {
            "application/vnd.jupyter.widget-view+json": {
              "model_id": "fe37a5861678410c9526d4c04722d3b4",
              "version_major": 2,
              "version_minor": 0
            },
            "text/plain": [
              "Calculating Recall@k:   0%|          | 0/119954 [00:00<?, ?it/s]"
            ]
          },
          "metadata": {},
          "output_type": "display_data"
        },
        {
          "name": "stdout",
          "output_type": "stream",
          "text": [
            "Mean val los: 0.1860 | Recall: 0.00042409368325024843\n",
            "EarlyStopping counter: 1 out of 7\n"
          ]
        },
        {
          "data": {
            "application/vnd.jupyter.widget-view+json": {
              "model_id": "9cfe9b5a7bf14f6ab79e79d57ce573d5",
              "version_major": 2,
              "version_minor": 0
            },
            "text/plain": [
              "Epoch 6/50:   0%|          | 0/235 [00:00<?, ?batch/s]"
            ]
          },
          "metadata": {},
          "output_type": "display_data"
        },
        {
          "data": {
            "application/vnd.jupyter.widget-view+json": {
              "model_id": "867dd2c46c4e40f6ba5808e373b99981",
              "version_major": 2,
              "version_minor": 0
            },
            "text/plain": [
              "Validation:   0%|          | 0/8 [00:00<?, ?batch/s]"
            ]
          },
          "metadata": {},
          "output_type": "display_data"
        },
        {
          "data": {
            "application/vnd.jupyter.widget-view+json": {
              "model_id": "670bcfa7b7f34ea59b1a019690aeb349",
              "version_major": 2,
              "version_minor": 0
            },
            "text/plain": [
              "Filtering recommendations:   0%|          | 0/16384 [00:00<?, ?it/s]"
            ]
          },
          "metadata": {},
          "output_type": "display_data"
        },
        {
          "data": {
            "application/vnd.jupyter.widget-view+json": {
              "model_id": "c8de77c3321849f4bacf54df35a467d5",
              "version_major": 2,
              "version_minor": 0
            },
            "text/plain": [
              "Filtering recommendations:   0%|          | 0/16384 [00:00<?, ?it/s]"
            ]
          },
          "metadata": {},
          "output_type": "display_data"
        },
        {
          "data": {
            "application/vnd.jupyter.widget-view+json": {
              "model_id": "e35d4b19142341aebdb9850d3c1a5eac",
              "version_major": 2,
              "version_minor": 0
            },
            "text/plain": [
              "Filtering recommendations:   0%|          | 0/16384 [00:00<?, ?it/s]"
            ]
          },
          "metadata": {},
          "output_type": "display_data"
        },
        {
          "data": {
            "application/vnd.jupyter.widget-view+json": {
              "model_id": "80406eed351f46e1b6759491f8c7e3c3",
              "version_major": 2,
              "version_minor": 0
            },
            "text/plain": [
              "Filtering recommendations:   0%|          | 0/16384 [00:00<?, ?it/s]"
            ]
          },
          "metadata": {},
          "output_type": "display_data"
        },
        {
          "data": {
            "application/vnd.jupyter.widget-view+json": {
              "model_id": "98c2b23cad56432aa574ebf49f524e26",
              "version_major": 2,
              "version_minor": 0
            },
            "text/plain": [
              "Filtering recommendations:   0%|          | 0/16384 [00:00<?, ?it/s]"
            ]
          },
          "metadata": {},
          "output_type": "display_data"
        },
        {
          "data": {
            "application/vnd.jupyter.widget-view+json": {
              "model_id": "f2aa560168944607a2027fcc32e58e68",
              "version_major": 2,
              "version_minor": 0
            },
            "text/plain": [
              "Filtering recommendations:   0%|          | 0/16384 [00:00<?, ?it/s]"
            ]
          },
          "metadata": {},
          "output_type": "display_data"
        },
        {
          "data": {
            "application/vnd.jupyter.widget-view+json": {
              "model_id": "77219c1c983049c8ba06c6b7ebdd285c",
              "version_major": 2,
              "version_minor": 0
            },
            "text/plain": [
              "Filtering recommendations:   0%|          | 0/16384 [00:00<?, ?it/s]"
            ]
          },
          "metadata": {},
          "output_type": "display_data"
        },
        {
          "data": {
            "application/vnd.jupyter.widget-view+json": {
              "model_id": "d7b0328820474f12bf4205636619251a",
              "version_major": 2,
              "version_minor": 0
            },
            "text/plain": [
              "Filtering recommendations:   0%|          | 0/5266 [00:00<?, ?it/s]"
            ]
          },
          "metadata": {},
          "output_type": "display_data"
        },
        {
          "name": "stdout",
          "output_type": "stream",
          "text": [
            "All predictions:\n",
            "[tensor([14117, 11294, 14452,  ..., 15272, 15681,  6675], dtype=torch.int16), tensor([14117, 11294, 14452,  ..., 15272, 15681,  6675], dtype=torch.int16), tensor([14117, 11294, 14452,  ..., 15272, 15681,  6675], dtype=torch.int16), tensor([ 4874,  9879,  1133,  ...,  3579, 11907,  9640], dtype=torch.int16), tensor([14167, 15220, 10475,  ..., 14543,  3865,  9416], dtype=torch.int16), tensor([14167, 15220, 10475,  ..., 14543,  3865,  9416], dtype=torch.int16), tensor([14167, 15220, 10475,  ..., 14543,  3865,  9416], dtype=torch.int16), tensor([14167, 15220, 10475,  ..., 14543,  3865,  9416], dtype=torch.int16), tensor([14167, 15220, 10475,  ..., 14543,  3865,  9416], dtype=torch.int16), tensor([14167, 15220, 10475,  ..., 14543,  3865,  9416], dtype=torch.int16)]\n"
          ]
        },
        {
          "data": {
            "application/vnd.jupyter.widget-view+json": {
              "model_id": "8cf1d586d8614a15b12a4986d8f89595",
              "version_major": 2,
              "version_minor": 0
            },
            "text/plain": [
              "Calculating Recall@k:   0%|          | 0/119954 [00:00<?, ?it/s]"
            ]
          },
          "metadata": {},
          "output_type": "display_data"
        },
        {
          "name": "stdout",
          "output_type": "stream",
          "text": [
            "Mean val los: 0.1841 | Recall: 0.00042409368325024843\n"
          ]
        },
        {
          "data": {
            "application/vnd.jupyter.widget-view+json": {
              "model_id": "93359e57370e497d9b7f2b3f4a49586b",
              "version_major": 2,
              "version_minor": 0
            },
            "text/plain": [
              "Epoch 7/50:   0%|          | 0/235 [00:00<?, ?batch/s]"
            ]
          },
          "metadata": {},
          "output_type": "display_data"
        },
        {
          "data": {
            "application/vnd.jupyter.widget-view+json": {
              "model_id": "b9b2ea9963cd4b7eb4ce0aa895147e12",
              "version_major": 2,
              "version_minor": 0
            },
            "text/plain": [
              "Validation:   0%|          | 0/8 [00:00<?, ?batch/s]"
            ]
          },
          "metadata": {},
          "output_type": "display_data"
        },
        {
          "data": {
            "application/vnd.jupyter.widget-view+json": {
              "model_id": "793f9fae913942bc9d71d106f1455979",
              "version_major": 2,
              "version_minor": 0
            },
            "text/plain": [
              "Filtering recommendations:   0%|          | 0/16384 [00:00<?, ?it/s]"
            ]
          },
          "metadata": {},
          "output_type": "display_data"
        },
        {
          "data": {
            "application/vnd.jupyter.widget-view+json": {
              "model_id": "2b217f82567544b6963613c52b365075",
              "version_major": 2,
              "version_minor": 0
            },
            "text/plain": [
              "Filtering recommendations:   0%|          | 0/16384 [00:00<?, ?it/s]"
            ]
          },
          "metadata": {},
          "output_type": "display_data"
        },
        {
          "data": {
            "application/vnd.jupyter.widget-view+json": {
              "model_id": "a3a057be5c8d4e1d85603da5805727fd",
              "version_major": 2,
              "version_minor": 0
            },
            "text/plain": [
              "Filtering recommendations:   0%|          | 0/16384 [00:00<?, ?it/s]"
            ]
          },
          "metadata": {},
          "output_type": "display_data"
        },
        {
          "data": {
            "application/vnd.jupyter.widget-view+json": {
              "model_id": "b0e30fd5b7264a3785cf0ffe0502ad8c",
              "version_major": 2,
              "version_minor": 0
            },
            "text/plain": [
              "Filtering recommendations:   0%|          | 0/16384 [00:00<?, ?it/s]"
            ]
          },
          "metadata": {},
          "output_type": "display_data"
        },
        {
          "data": {
            "application/vnd.jupyter.widget-view+json": {
              "model_id": "54d19e19a928407bbca4bce5ccc22c55",
              "version_major": 2,
              "version_minor": 0
            },
            "text/plain": [
              "Filtering recommendations:   0%|          | 0/16384 [00:00<?, ?it/s]"
            ]
          },
          "metadata": {},
          "output_type": "display_data"
        },
        {
          "data": {
            "application/vnd.jupyter.widget-view+json": {
              "model_id": "eaf7056aa6864df6b70163b78468e9af",
              "version_major": 2,
              "version_minor": 0
            },
            "text/plain": [
              "Filtering recommendations:   0%|          | 0/16384 [00:00<?, ?it/s]"
            ]
          },
          "metadata": {},
          "output_type": "display_data"
        },
        {
          "data": {
            "application/vnd.jupyter.widget-view+json": {
              "model_id": "1430e4a8914943b193dab74dd60dbb67",
              "version_major": 2,
              "version_minor": 0
            },
            "text/plain": [
              "Filtering recommendations:   0%|          | 0/16384 [00:00<?, ?it/s]"
            ]
          },
          "metadata": {},
          "output_type": "display_data"
        },
        {
          "data": {
            "application/vnd.jupyter.widget-view+json": {
              "model_id": "9149f981d48f436e94369c61969cb759",
              "version_major": 2,
              "version_minor": 0
            },
            "text/plain": [
              "Filtering recommendations:   0%|          | 0/5266 [00:00<?, ?it/s]"
            ]
          },
          "metadata": {},
          "output_type": "display_data"
        },
        {
          "name": "stdout",
          "output_type": "stream",
          "text": [
            "All predictions:\n",
            "[tensor([14117,  7604,   176,  ..., 15272, 15681,  6675], dtype=torch.int16), tensor([14117,  7604,   176,  ..., 15272, 15681,  6675], dtype=torch.int16), tensor([14117,  7604,   176,  ..., 15272, 15681,  6675], dtype=torch.int16), tensor([ 4874,  9879,  1133,  ..., 11325,  3579, 11907], dtype=torch.int16), tensor([14167, 15220, 10475,  ...,  4238, 14543,  9416], dtype=torch.int16), tensor([14167, 15220, 10475,  ...,  4238, 14543,  9416], dtype=torch.int16), tensor([14167, 15220, 10475,  ...,  4238, 14543,  9416], dtype=torch.int16), tensor([14167, 15220, 10475,  ...,  4238, 14543,  9416], dtype=torch.int16), tensor([14167, 15220, 10475,  ...,  4238, 14543,  9416], dtype=torch.int16), tensor([14167, 15220, 10475,  ...,  4238, 14543,  9416], dtype=torch.int16)]\n"
          ]
        },
        {
          "data": {
            "application/vnd.jupyter.widget-view+json": {
              "model_id": "5a3a7625a7944525961aeb5cb3983395",
              "version_major": 2,
              "version_minor": 0
            },
            "text/plain": [
              "Calculating Recall@k:   0%|          | 0/119954 [00:00<?, ?it/s]"
            ]
          },
          "metadata": {},
          "output_type": "display_data"
        },
        {
          "ename": "KeyboardInterrupt",
          "evalue": "",
          "output_type": "error",
          "traceback": [
            "\u001b[0;31m---------------------------------------------------------------------------\u001b[0m",
            "\u001b[0;31mKeyboardInterrupt\u001b[0m                         Traceback (most recent call last)",
            "Cell \u001b[0;32mIn[45], line 107\u001b[0m\n\u001b[1;32m    102\u001b[0m gc\u001b[38;5;241m.\u001b[39mcollect()\n\u001b[1;32m    104\u001b[0m \u001b[38;5;66;03m# tqdm.write('Make true sets')\u001b[39;00m\n\u001b[1;32m    105\u001b[0m \u001b[38;5;66;03m# all_references = make_true_sets(all_references)\u001b[39;00m\n\u001b[0;32m--> 107\u001b[0m recall \u001b[38;5;241m=\u001b[39m \u001b[43mrecall_at_k\u001b[49m\u001b[43m(\u001b[49m\u001b[43mall_predictions\u001b[49m\u001b[43m,\u001b[49m\u001b[43m \u001b[49m\u001b[43mall_references\u001b[49m\u001b[43m,\u001b[49m\u001b[43m \u001b[49m\u001b[43mk\u001b[49m\u001b[38;5;241;43m=\u001b[39;49m\u001b[43mK\u001b[49m\u001b[43m,\u001b[49m\u001b[43m \u001b[49m\u001b[43mn_jobs\u001b[49m\u001b[38;5;241;43m=\u001b[39;49m\u001b[38;5;241;43m8\u001b[39;49m\u001b[43m)\u001b[49m\n\u001b[1;32m    108\u001b[0m tqdm\u001b[38;5;241m.\u001b[39mwrite(\u001b[38;5;124mf\u001b[39m\u001b[38;5;124m'\u001b[39m\u001b[38;5;124mMean val los: \u001b[39m\u001b[38;5;132;01m{\u001b[39;00mmean_val_loss\u001b[38;5;132;01m:\u001b[39;00m\u001b[38;5;124m.4f\u001b[39m\u001b[38;5;132;01m}\u001b[39;00m\u001b[38;5;124m | Recall: \u001b[39m\u001b[38;5;132;01m{\u001b[39;00mrecall\u001b[38;5;132;01m}\u001b[39;00m\u001b[38;5;124m'\u001b[39m)\n\u001b[1;32m    109\u001b[0m \u001b[38;5;66;03m# precision = precision_at_k(all_predictions, all_references, k=K)\u001b[39;00m\n\u001b[1;32m    110\u001b[0m \u001b[38;5;66;03m# ndcg   = ndcg_at_k(all_predictions, all_references, k=K)\u001b[39;00m\n\u001b[1;32m    111\u001b[0m \u001b[38;5;66;03m# mrr    = mrr_at_k(all_predictions, all_references, k=K)\u001b[39;00m\n\u001b[1;32m    112\u001b[0m \u001b[38;5;66;03m# tqdm.write(f'Mean val los: {mean_val_loss:.4f} | Recall: {recall:.4f} | Precision: {precision:.4f} | NDCG: {ndcg:.4f} | MRR: {mrr:.4f}')\u001b[39;00m\n",
            "Cell \u001b[0;32mIn[37], line 87\u001b[0m, in \u001b[0;36mrecall_at_k\u001b[0;34m(y_true_sets, y_pred, k, n_jobs)\u001b[0m\n\u001b[1;32m     86\u001b[0m \u001b[38;5;28;01mdef\u001b[39;00m\u001b[38;5;250m \u001b[39m\u001b[38;5;21mrecall_at_k\u001b[39m(y_true_sets, y_pred, k, n_jobs\u001b[38;5;241m=\u001b[39m\u001b[38;5;241m-\u001b[39m\u001b[38;5;241m1\u001b[39m):\n\u001b[0;32m---> 87\u001b[0m     recalls \u001b[38;5;241m=\u001b[39m \u001b[43mParallel\u001b[49m\u001b[43m(\u001b[49m\u001b[43mn_jobs\u001b[49m\u001b[38;5;241;43m=\u001b[39;49m\u001b[43mn_jobs\u001b[49m\u001b[43m)\u001b[49m\u001b[43m(\u001b[49m\n\u001b[1;32m     88\u001b[0m \u001b[43m        \u001b[49m\u001b[43mdelayed\u001b[49m\u001b[43m(\u001b[49m\u001b[43m_recall_single\u001b[49m\u001b[43m)\u001b[49m\u001b[43m(\u001b[49m\u001b[43mts\u001b[49m\u001b[43m,\u001b[49m\u001b[43m \u001b[49m\u001b[43mpred\u001b[49m\u001b[43m,\u001b[49m\u001b[43m \u001b[49m\u001b[43mk\u001b[49m\u001b[43m)\u001b[49m\n\u001b[1;32m     89\u001b[0m \u001b[43m        \u001b[49m\u001b[38;5;28;43;01mfor\u001b[39;49;00m\u001b[43m \u001b[49m\u001b[43mts\u001b[49m\u001b[43m,\u001b[49m\u001b[43m \u001b[49m\u001b[43mpred\u001b[49m\u001b[43m \u001b[49m\u001b[38;5;129;43;01min\u001b[39;49;00m\u001b[43m \u001b[49m\u001b[43mtqdm\u001b[49m\u001b[43m(\u001b[49m\u001b[38;5;28;43mzip\u001b[39;49m\u001b[43m(\u001b[49m\u001b[43my_true_sets\u001b[49m\u001b[43m,\u001b[49m\u001b[43m \u001b[49m\u001b[43my_pred\u001b[49m\u001b[43m)\u001b[49m\u001b[43m,\u001b[49m\u001b[43m \u001b[49m\u001b[43mdesc\u001b[49m\u001b[38;5;241;43m=\u001b[39;49m\u001b[38;5;124;43m'\u001b[39;49m\u001b[38;5;124;43mCalculating Recall@k\u001b[39;49m\u001b[38;5;124;43m'\u001b[39;49m\u001b[43m,\u001b[49m\u001b[43m \u001b[49m\u001b[43mtotal\u001b[49m\u001b[38;5;241;43m=\u001b[39;49m\u001b[38;5;28;43mlen\u001b[39;49m\u001b[43m(\u001b[49m\u001b[43my_true_sets\u001b[49m\u001b[43m)\u001b[49m\u001b[43m)\u001b[49m\n\u001b[1;32m     90\u001b[0m \u001b[43m    \u001b[49m\u001b[43m)\u001b[49m\n\u001b[1;32m     91\u001b[0m     \u001b[38;5;28;01mreturn\u001b[39;00m np\u001b[38;5;241m.\u001b[39mmean(recalls)\n",
            "File \u001b[0;32m~/Homework/6_semester/DL/reelrecs/.venv/lib/python3.10/site-packages/joblib/parallel.py:2071\u001b[0m, in \u001b[0;36mParallel.__call__\u001b[0;34m(self, iterable)\u001b[0m\n\u001b[1;32m   2065\u001b[0m \u001b[38;5;66;03m# The first item from the output is blank, but it makes the interpreter\u001b[39;00m\n\u001b[1;32m   2066\u001b[0m \u001b[38;5;66;03m# progress until it enters the Try/Except block of the generator and\u001b[39;00m\n\u001b[1;32m   2067\u001b[0m \u001b[38;5;66;03m# reaches the first `yield` statement. This starts the asynchronous\u001b[39;00m\n\u001b[1;32m   2068\u001b[0m \u001b[38;5;66;03m# dispatch of the tasks to the workers.\u001b[39;00m\n\u001b[1;32m   2069\u001b[0m \u001b[38;5;28mnext\u001b[39m(output)\n\u001b[0;32m-> 2071\u001b[0m \u001b[38;5;28;01mreturn\u001b[39;00m output \u001b[38;5;28;01mif\u001b[39;00m \u001b[38;5;28mself\u001b[39m\u001b[38;5;241m.\u001b[39mreturn_generator \u001b[38;5;28;01melse\u001b[39;00m \u001b[38;5;28;43mlist\u001b[39;49m\u001b[43m(\u001b[49m\u001b[43moutput\u001b[49m\u001b[43m)\u001b[49m\n",
            "File \u001b[0;32m~/Homework/6_semester/DL/reelrecs/.venv/lib/python3.10/site-packages/joblib/parallel.py:1681\u001b[0m, in \u001b[0;36mParallel._get_outputs\u001b[0;34m(self, iterator, pre_dispatch)\u001b[0m\n\u001b[1;32m   1678\u001b[0m     \u001b[38;5;28;01myield\u001b[39;00m\n\u001b[1;32m   1680\u001b[0m     \u001b[38;5;28;01mwith\u001b[39;00m \u001b[38;5;28mself\u001b[39m\u001b[38;5;241m.\u001b[39m_backend\u001b[38;5;241m.\u001b[39mretrieval_context():\n\u001b[0;32m-> 1681\u001b[0m         \u001b[38;5;28;01myield from\u001b[39;00m \u001b[38;5;28mself\u001b[39m\u001b[38;5;241m.\u001b[39m_retrieve()\n\u001b[1;32m   1683\u001b[0m \u001b[38;5;28;01mexcept\u001b[39;00m \u001b[38;5;167;01mGeneratorExit\u001b[39;00m:\n\u001b[1;32m   1684\u001b[0m     \u001b[38;5;66;03m# The generator has been garbage collected before being fully\u001b[39;00m\n\u001b[1;32m   1685\u001b[0m     \u001b[38;5;66;03m# consumed. This aborts the remaining tasks if possible and warn\u001b[39;00m\n\u001b[1;32m   1686\u001b[0m     \u001b[38;5;66;03m# the user if necessary.\u001b[39;00m\n\u001b[1;32m   1687\u001b[0m     \u001b[38;5;28mself\u001b[39m\u001b[38;5;241m.\u001b[39m_exception \u001b[38;5;241m=\u001b[39m \u001b[38;5;28;01mTrue\u001b[39;00m\n",
            "File \u001b[0;32m~/Homework/6_semester/DL/reelrecs/.venv/lib/python3.10/site-packages/joblib/parallel.py:1799\u001b[0m, in \u001b[0;36mParallel._retrieve\u001b[0;34m(self)\u001b[0m\n\u001b[1;32m   1788\u001b[0m \u001b[38;5;28;01mif\u001b[39;00m \u001b[38;5;28mself\u001b[39m\u001b[38;5;241m.\u001b[39mreturn_ordered:\n\u001b[1;32m   1789\u001b[0m     \u001b[38;5;66;03m# Case ordered: wait for completion (or error) of the next job\u001b[39;00m\n\u001b[1;32m   1790\u001b[0m     \u001b[38;5;66;03m# that have been dispatched and not retrieved yet. If no job\u001b[39;00m\n\u001b[0;32m   (...)\u001b[0m\n\u001b[1;32m   1794\u001b[0m     \u001b[38;5;66;03m# control only have to be done on the amount of time the next\u001b[39;00m\n\u001b[1;32m   1795\u001b[0m     \u001b[38;5;66;03m# dispatched job is pending.\u001b[39;00m\n\u001b[1;32m   1796\u001b[0m     \u001b[38;5;28;01mif\u001b[39;00m (nb_jobs \u001b[38;5;241m==\u001b[39m \u001b[38;5;241m0\u001b[39m) \u001b[38;5;129;01mor\u001b[39;00m (\n\u001b[1;32m   1797\u001b[0m         \u001b[38;5;28mself\u001b[39m\u001b[38;5;241m.\u001b[39m_jobs[\u001b[38;5;241m0\u001b[39m]\u001b[38;5;241m.\u001b[39mget_status(timeout\u001b[38;5;241m=\u001b[39m\u001b[38;5;28mself\u001b[39m\u001b[38;5;241m.\u001b[39mtimeout) \u001b[38;5;241m==\u001b[39m TASK_PENDING\n\u001b[1;32m   1798\u001b[0m     ):\n\u001b[0;32m-> 1799\u001b[0m         \u001b[43mtime\u001b[49m\u001b[38;5;241;43m.\u001b[39;49m\u001b[43msleep\u001b[49m\u001b[43m(\u001b[49m\u001b[38;5;241;43m0.01\u001b[39;49m\u001b[43m)\u001b[49m\n\u001b[1;32m   1800\u001b[0m         \u001b[38;5;28;01mcontinue\u001b[39;00m\n\u001b[1;32m   1802\u001b[0m \u001b[38;5;28;01melif\u001b[39;00m nb_jobs \u001b[38;5;241m==\u001b[39m \u001b[38;5;241m0\u001b[39m:\n\u001b[1;32m   1803\u001b[0m     \u001b[38;5;66;03m# Case unordered: jobs are added to the list of jobs to\u001b[39;00m\n\u001b[1;32m   1804\u001b[0m     \u001b[38;5;66;03m# retrieve `self._jobs` only once completed or in error, which\u001b[39;00m\n\u001b[0;32m   (...)\u001b[0m\n\u001b[1;32m   1810\u001b[0m     \u001b[38;5;66;03m# timeouts before any other dispatched job has completed and\u001b[39;00m\n\u001b[1;32m   1811\u001b[0m     \u001b[38;5;66;03m# been added to `self._jobs` to be retrieved.\u001b[39;00m\n",
            "\u001b[0;31mKeyboardInterrupt\u001b[0m: "
          ]
        }
      ],
      "source": [
        "if LOG_TO_WANDB:\n",
        "    entity = \"xenz5240-higher-school-of-economics\"\n",
        "    wandb.init(entity=entity, project='reelsrec-dssm', name=EXPERIMENT_NAME)\n",
        "\n",
        "    wandb.config.update({\n",
        "        \"epochs\": EPOCHS,\n",
        "        \"batch_size\": BATCH_SIZE,\n",
        "        \"embedding_dim\": EMBEDDING_DIM,\n",
        "        \"learning_rate\": LR,\n",
        "        \"weight_decay\": WEIGHT_DECAY,\n",
        "        \"triplet_loss_margin\": TRIPLET_LOSS_MARGIN,\n",
        "        \"device\": DEVICE\n",
        "    })\n",
        "\n",
        "for epoch in trange(EPOCHS, position=0, desc='Training', unit='epoch'):\n",
        "    model.train()\n",
        "    epoch_losses = []\n",
        "    batch_times = []\n",
        "    for step, batch in enumerate(tqdm(train_dataloader, position=1, desc=f'Epoch {epoch + 1}/{EPOCHS}', unit='batch')):\n",
        "        _, user_inters, user_info, pos_features, neg_features, _ = batch\n",
        "        optimizer.zero_grad()\n",
        "        batch_users_embs, batch_positive_films_embs, batch_negative_films_embs = model(user_inters.to(DEVICE),\n",
        "                                                                                       user_info.to(DEVICE),\n",
        "                                                                                       pos_features.to(DEVICE),\n",
        "                                                                                       neg_features.to(DEVICE))\n",
        "        loss = F.triplet_margin_loss(batch_users_embs, batch_positive_films_embs, batch_negative_films_embs, margin=TRIPLET_LOSS_MARGIN)\n",
        "        loss.backward()\n",
        "        optimizer.step()\n",
        "\n",
        "        epoch_losses.append(loss.item())\n",
        "\n",
        "        if LOG_TO_WANDB and step % 20 == 0:\n",
        "            wandb.log({\"train/loss\": loss.item(),\n",
        "                       \"epoch\": epoch + 1,\n",
        "                       \"step\": step})\n",
        "\n",
        "    mean_train_loss = float(np.mean(epoch_losses))\n",
        "    if LOG_TO_WANDB:\n",
        "        wandb.log({\"train/epoch_loss\": mean_train_loss, \"epoch\": epoch + 1})\n",
        "\n",
        "    # Evaluation\n",
        "    model.eval()\n",
        "    val_losses = []\n",
        "    all_predictions = []\n",
        "    all_references = []\n",
        "    # Embed all items\n",
        "    items_df.sort_index(inplace=True)  # Ensure items are sorted by their IDs\n",
        "    item_features = torch.tensor(items_df.values, dtype=MAIN_DTYPE, device=DEVICE)\n",
        "    EMPTY_WATCH_HISTORY = torch.empty(0, dtype=MOVIE_IDS_DTYPE)\n",
        "    with torch.no_grad():\n",
        "        all_items_embeds = model.encode_item(item_features)\n",
        "        \n",
        "        #############################################################################################\n",
        "        # new validation code (rough draft)\n",
        "        #############################################################################################\n",
        "        # TODO: тут нужно что-то такое\n",
        "        val_users = val_dataset.get_all_users()\n",
        "        val_user_embs = []\n",
        "        for user_id in val_users:\n",
        "            user_inters, user_info, _, _ = train_dataset.get_user_data(user_id)  \n",
        "            user_emb = model.encode_user(user_inters, user_info)  # TODO проверить размерности и тензоры это должны быть или нет \n",
        "            # сохранить эмбеддинги\n",
        "            val_user_embs.append(user_emb)\n",
        "            \n",
        "        # строим матрицу расстояний\n",
        "        distance_matrix = torch.cdist(val_user_embs, all_items_embeds, p=2.0)\n",
        "        val_recommendations = distance_matrix.argsort(dim=1, descending=False).to(dtype=MOVIE_IDS_DTYPE, device='cpu')  # (batch_users x all_items)\n",
        "\n",
        "        # TODO: отфильтровать из рекомендаций интеракции из трейна\n",
        "        filtered_val_recommendations = ...\n",
        "\n",
        "        # сравнить полученные рекомендации с позитивными интеракциями валидации\n",
        "        # TODO написать для этого метод DSSMDataset.get_positive_interactions(user_ids: Tensor)?\n",
        "        val_positive_interactions = []\n",
        "        for user_id in val_users:\n",
        "            user_val_positive_interactions = val_dataset.grouped_pos_users_interactions.loc[user_id, 'interactions']\n",
        "            val_positive_interactions.append(user_val_positive_interactions)\n",
        "\n",
        "        # считаем метрики\n",
        "        recall = recall_at_k(val_positive_interactions, filtered_val_recommendations)\n",
        "        ...\n",
        "\n",
        "        #############################################################################################\n",
        "        # old validation code starts here\n",
        "        #############################################################################################\n",
        "        for batch in tqdm(val_dataloader, position=1, desc=f'Validation', unit='batch'):\n",
        "            user_ids, user_inters, user_info, pos_features, neg_features, pos_ids = batch\n",
        "            batch_users_embs, batch_positive_films_embs, batch_negative_films_embs = model(user_inters.to(DEVICE),\n",
        "                                                                                           user_info.to(DEVICE),\n",
        "                                                                                           pos_features.to(DEVICE),\n",
        "                                                                                           neg_features.to(DEVICE))\n",
        "            val_loss = F.triplet_margin_loss(batch_users_embs, batch_positive_films_embs, batch_negative_films_embs, margin=TRIPLET_LOSS_MARGIN)\n",
        "            val_losses.append(val_loss.item())\n",
        "\n",
        "            # Films sorted by distance to the user\n",
        "            distance_matrix = torch.cdist(batch_users_embs, all_items_embeds, p=2.0)\n",
        "            batch_recommendations = distance_matrix.argsort(dim=1, descending=False).to(dtype=MOVIE_IDS_DTYPE, device='cpu')  # (batch_users x all_items)\n",
        "            del user_inters, user_info, pos_features, neg_features, batch_positive_films_embs, batch_negative_films_embs, batch_users_embs\n",
        "            torch.cuda.empty_cache()\n",
        "            gc.collect()\n",
        "\n",
        "            # Get all films each user has interacted with (from both film_pos and film_neg)\n",
        "            user_interacted_films: dict[int, Tensor] = (\n",
        "                train_dataset.triplets[train_dataset.triplets['user_id'].isin(user_ids.tolist())]\n",
        "                .groupby('user_id')[['film_pos', 'film_neg']]\n",
        "                .apply(lambda x: torch.tensor(pd.unique(x.values.ravel('K')).tolist(), dtype=MOVIE_IDS_DTYPE))\n",
        "            ).to_dict()\n",
        "\n",
        "            # For each user remove watched films from their recommendations\n",
        "            filtered_recommendations = [None] * len(user_ids)\n",
        "            for i, (user_ids, recommendations) in tqdm(enumerate(zip(user_ids, batch_recommendations)),\n",
        "                                                       desc='Filtering recommendations',\n",
        "                                                       total=len(user_ids),\n",
        "                                                       leave=False):\n",
        "                watched_films = user_interacted_films.get(user_ids, EMPTY_WATCH_HISTORY)\n",
        "                filtered_recommendations[i] = recommendations[torch.isin(recommendations, watched_films, invert=True)]\n",
        "\n",
        "            # filtered_recommendations is a list of MOVIES_IDS_DTYPE cpu tensors of variable-length (batch_size x O(all_items))\n",
        "            all_predictions.extend(filtered_recommendations)\n",
        "            all_references.extend(pos_ids)\n",
        "\n",
        "    mean_val_loss = float(np.mean(val_losses))\n",
        "    torch.cuda.empty_cache()\n",
        "    gc.collect()\n",
        "\n",
        "    # tqdm.write('Make true sets')\n",
        "    # all_references = make_true_sets(all_references)\n",
        "\n",
        "    recall = recall_at_k(all_predictions, all_references, k=K, n_jobs=8)\n",
        "    tqdm.write(f'Mean val los: {mean_val_loss:.4f} | Recall: {recall}')\n",
        "    # precision = precision_at_k(all_predictions, all_references, k=K)\n",
        "    # ndcg   = ndcg_at_k(all_predictions, all_references, k=K)\n",
        "    # mrr    = mrr_at_k(all_predictions, all_references, k=K)\n",
        "    # tqdm.write(f'Mean val los: {mean_val_loss:.4f} | Recall: {recall:.4f} | Precision: {precision:.4f} | NDCG: {ndcg:.4f} | MRR: {mrr:.4f}')\n",
        "    \n",
        "    #############################################################################################\n",
        "    # old validation code ends here\n",
        "    #############################################################################################\n",
        "\n",
        "    if LOG_TO_WANDB:\n",
        "        wandb.log({\n",
        "            \"val/loss\": mean_val_loss,\n",
        "            f\"val/recall@{K}\": recall,\n",
        "            # f\"val/precision@{K}\": precision,\n",
        "            # f\"val/ndcg@{K}\": ndcg,\n",
        "            # f\"val/mrr@{K}\": mrr,\n",
        "            \"train/lr\": optimizer.param_groups[0]['lr'],\n",
        "            \"epoch\": epoch + 1,\n",
        "        })\n",
        "\n",
        "    lr_scheduler.step(mean_val_loss)\n",
        "    early_stopping(mean_val_loss, model)\n",
        "    if early_stopping.early_stop:\n",
        "        break"
      ]
    },
    {
      "cell_type": "code",
      "execution_count": null,
      "id": "pKCXwLA0YoIk",
      "metadata": {
        "colab": {
          "base_uri": "https://localhost:8080/",
          "height": 332
        },
        "id": "pKCXwLA0YoIk",
        "outputId": "d188f80d-89c6-4b99-b96a-e310598fae1f"
      },
      "outputs": [
        {
          "name": "stdout",
          "output_type": "stream",
          "text": [
            "Error in callback <bound method _WandbInit._pre_run_cell_hook of <wandb.sdk.wandb_init._WandbInit object at 0x73592c781210>> (for pre_run_cell):\n"
          ]
        },
        {
          "ename": "BrokenPipeError",
          "evalue": "[Errno 32] Broken pipe",
          "output_type": "error",
          "traceback": [
            "\u001b[0;31m---------------------------------------------------------------------------\u001b[0m",
            "\u001b[0;31mBrokenPipeError\u001b[0m                           Traceback (most recent call last)",
            "File \u001b[0;32m~/Homework/6_semester/DL/reelrecs/.venv/lib/python3.10/site-packages/wandb/sdk/wandb_init.py:603\u001b[0m, in \u001b[0;36m_WandbInit._pre_run_cell_hook\u001b[0;34m(self, *args, **kwargs)\u001b[0m\n\u001b[1;32m    601\u001b[0m \u001b[38;5;28;01mif\u001b[39;00m \u001b[38;5;28mself\u001b[39m\u001b[38;5;241m.\u001b[39mbackend\u001b[38;5;241m.\u001b[39minterface \u001b[38;5;129;01mis\u001b[39;00m \u001b[38;5;129;01mnot\u001b[39;00m \u001b[38;5;28;01mNone\u001b[39;00m:\n\u001b[1;32m    602\u001b[0m     \u001b[38;5;28mself\u001b[39m\u001b[38;5;241m.\u001b[39m_logger\u001b[38;5;241m.\u001b[39minfo(\u001b[38;5;124m\"\u001b[39m\u001b[38;5;124mpausing backend\u001b[39m\u001b[38;5;124m\"\u001b[39m)\n\u001b[0;32m--> 603\u001b[0m     \u001b[38;5;28;43mself\u001b[39;49m\u001b[38;5;241;43m.\u001b[39;49m\u001b[43mbackend\u001b[49m\u001b[38;5;241;43m.\u001b[39;49m\u001b[43minterface\u001b[49m\u001b[38;5;241;43m.\u001b[39;49m\u001b[43mpublish_pause\u001b[49m\u001b[43m(\u001b[49m\u001b[43m)\u001b[49m\n",
            "File \u001b[0;32m~/Homework/6_semester/DL/reelrecs/.venv/lib/python3.10/site-packages/wandb/sdk/interface/interface.py:770\u001b[0m, in \u001b[0;36mInterfaceBase.publish_pause\u001b[0;34m(self)\u001b[0m\n\u001b[1;32m    768\u001b[0m \u001b[38;5;28;01mdef\u001b[39;00m\u001b[38;5;250m \u001b[39m\u001b[38;5;21mpublish_pause\u001b[39m(\u001b[38;5;28mself\u001b[39m) \u001b[38;5;241m-\u001b[39m\u001b[38;5;241m>\u001b[39m \u001b[38;5;28;01mNone\u001b[39;00m:\n\u001b[1;32m    769\u001b[0m     pause \u001b[38;5;241m=\u001b[39m pb\u001b[38;5;241m.\u001b[39mPauseRequest()\n\u001b[0;32m--> 770\u001b[0m     \u001b[38;5;28;43mself\u001b[39;49m\u001b[38;5;241;43m.\u001b[39;49m\u001b[43m_publish_pause\u001b[49m\u001b[43m(\u001b[49m\u001b[43mpause\u001b[49m\u001b[43m)\u001b[49m\n",
            "File \u001b[0;32m~/Homework/6_semester/DL/reelrecs/.venv/lib/python3.10/site-packages/wandb/sdk/interface/interface_shared.py:289\u001b[0m, in \u001b[0;36mInterfaceShared._publish_pause\u001b[0;34m(self, pause)\u001b[0m\n\u001b[1;32m    287\u001b[0m \u001b[38;5;28;01mdef\u001b[39;00m\u001b[38;5;250m \u001b[39m\u001b[38;5;21m_publish_pause\u001b[39m(\u001b[38;5;28mself\u001b[39m, pause: pb\u001b[38;5;241m.\u001b[39mPauseRequest) \u001b[38;5;241m-\u001b[39m\u001b[38;5;241m>\u001b[39m \u001b[38;5;28;01mNone\u001b[39;00m:\n\u001b[1;32m    288\u001b[0m     rec \u001b[38;5;241m=\u001b[39m \u001b[38;5;28mself\u001b[39m\u001b[38;5;241m.\u001b[39m_make_request(pause\u001b[38;5;241m=\u001b[39mpause)\n\u001b[0;32m--> 289\u001b[0m     \u001b[38;5;28;43mself\u001b[39;49m\u001b[38;5;241;43m.\u001b[39;49m\u001b[43m_publish\u001b[49m\u001b[43m(\u001b[49m\u001b[43mrec\u001b[49m\u001b[43m)\u001b[49m\n",
            "File \u001b[0;32m~/Homework/6_semester/DL/reelrecs/.venv/lib/python3.10/site-packages/wandb/sdk/interface/interface_sock.py:39\u001b[0m, in \u001b[0;36mInterfaceSock._publish\u001b[0;34m(self, record, local)\u001b[0m\n\u001b[1;32m     37\u001b[0m \u001b[38;5;28;01mdef\u001b[39;00m\u001b[38;5;250m \u001b[39m\u001b[38;5;21m_publish\u001b[39m(\u001b[38;5;28mself\u001b[39m, record: \u001b[38;5;124m\"\u001b[39m\u001b[38;5;124mpb.Record\u001b[39m\u001b[38;5;124m\"\u001b[39m, local: Optional[\u001b[38;5;28mbool\u001b[39m] \u001b[38;5;241m=\u001b[39m \u001b[38;5;28;01mNone\u001b[39;00m) \u001b[38;5;241m-\u001b[39m\u001b[38;5;241m>\u001b[39m \u001b[38;5;28;01mNone\u001b[39;00m:\n\u001b[1;32m     38\u001b[0m     \u001b[38;5;28mself\u001b[39m\u001b[38;5;241m.\u001b[39m_assign(record)\n\u001b[0;32m---> 39\u001b[0m     \u001b[38;5;28;43mself\u001b[39;49m\u001b[38;5;241;43m.\u001b[39;49m\u001b[43m_sock_client\u001b[49m\u001b[38;5;241;43m.\u001b[39;49m\u001b[43msend_record_publish\u001b[49m\u001b[43m(\u001b[49m\u001b[43mrecord\u001b[49m\u001b[43m)\u001b[49m\n",
            "File \u001b[0;32m~/Homework/6_semester/DL/reelrecs/.venv/lib/python3.10/site-packages/wandb/sdk/lib/sock_client.py:174\u001b[0m, in \u001b[0;36mSockClient.send_record_publish\u001b[0;34m(self, record)\u001b[0m\n\u001b[1;32m    172\u001b[0m server_req\u001b[38;5;241m.\u001b[39mrequest_id \u001b[38;5;241m=\u001b[39m record\u001b[38;5;241m.\u001b[39mcontrol\u001b[38;5;241m.\u001b[39mmailbox_slot\n\u001b[1;32m    173\u001b[0m server_req\u001b[38;5;241m.\u001b[39mrecord_publish\u001b[38;5;241m.\u001b[39mCopyFrom(record)\n\u001b[0;32m--> 174\u001b[0m \u001b[38;5;28;43mself\u001b[39;49m\u001b[38;5;241;43m.\u001b[39;49m\u001b[43msend_server_request\u001b[49m\u001b[43m(\u001b[49m\u001b[43mserver_req\u001b[49m\u001b[43m)\u001b[49m\n",
            "File \u001b[0;32m~/Homework/6_semester/DL/reelrecs/.venv/lib/python3.10/site-packages/wandb/sdk/lib/sock_client.py:154\u001b[0m, in \u001b[0;36mSockClient.send_server_request\u001b[0;34m(self, msg)\u001b[0m\n\u001b[1;32m    153\u001b[0m \u001b[38;5;28;01mdef\u001b[39;00m\u001b[38;5;250m \u001b[39m\u001b[38;5;21msend_server_request\u001b[39m(\u001b[38;5;28mself\u001b[39m, msg: spb\u001b[38;5;241m.\u001b[39mServerRequest) \u001b[38;5;241m-\u001b[39m\u001b[38;5;241m>\u001b[39m \u001b[38;5;28;01mNone\u001b[39;00m:\n\u001b[0;32m--> 154\u001b[0m     \u001b[38;5;28;43mself\u001b[39;49m\u001b[38;5;241;43m.\u001b[39;49m\u001b[43m_send_message\u001b[49m\u001b[43m(\u001b[49m\u001b[43mmsg\u001b[49m\u001b[43m)\u001b[49m\n",
            "File \u001b[0;32m~/Homework/6_semester/DL/reelrecs/.venv/lib/python3.10/site-packages/wandb/sdk/lib/sock_client.py:151\u001b[0m, in \u001b[0;36mSockClient._send_message\u001b[0;34m(self, msg)\u001b[0m\n\u001b[1;32m    149\u001b[0m header \u001b[38;5;241m=\u001b[39m struct\u001b[38;5;241m.\u001b[39mpack(\u001b[38;5;124m\"\u001b[39m\u001b[38;5;124m<BI\u001b[39m\u001b[38;5;124m\"\u001b[39m, \u001b[38;5;28mord\u001b[39m(\u001b[38;5;124m\"\u001b[39m\u001b[38;5;124mW\u001b[39m\u001b[38;5;124m\"\u001b[39m), raw_size)\n\u001b[1;32m    150\u001b[0m \u001b[38;5;28;01mwith\u001b[39;00m \u001b[38;5;28mself\u001b[39m\u001b[38;5;241m.\u001b[39m_lock:\n\u001b[0;32m--> 151\u001b[0m     \u001b[38;5;28;43mself\u001b[39;49m\u001b[38;5;241;43m.\u001b[39;49m\u001b[43m_sendall_with_error_handle\u001b[49m\u001b[43m(\u001b[49m\u001b[43mheader\u001b[49m\u001b[43m \u001b[49m\u001b[38;5;241;43m+\u001b[39;49m\u001b[43m \u001b[49m\u001b[43mdata\u001b[49m\u001b[43m)\u001b[49m\n",
            "File \u001b[0;32m~/Homework/6_semester/DL/reelrecs/.venv/lib/python3.10/site-packages/wandb/sdk/lib/sock_client.py:130\u001b[0m, in \u001b[0;36mSockClient._sendall_with_error_handle\u001b[0;34m(self, data)\u001b[0m\n\u001b[1;32m    128\u001b[0m start_time \u001b[38;5;241m=\u001b[39m time\u001b[38;5;241m.\u001b[39mmonotonic()\n\u001b[1;32m    129\u001b[0m \u001b[38;5;28;01mtry\u001b[39;00m:\n\u001b[0;32m--> 130\u001b[0m     sent \u001b[38;5;241m=\u001b[39m \u001b[38;5;28;43mself\u001b[39;49m\u001b[38;5;241;43m.\u001b[39;49m\u001b[43m_sock\u001b[49m\u001b[38;5;241;43m.\u001b[39;49m\u001b[43msend\u001b[49m\u001b[43m(\u001b[49m\u001b[43mdata\u001b[49m\u001b[43m)\u001b[49m\n\u001b[1;32m    131\u001b[0m     \u001b[38;5;66;03m# sent equal to 0 indicates a closed socket\u001b[39;00m\n\u001b[1;32m    132\u001b[0m     \u001b[38;5;28;01mif\u001b[39;00m sent \u001b[38;5;241m==\u001b[39m \u001b[38;5;241m0\u001b[39m:\n",
            "\u001b[0;31mBrokenPipeError\u001b[0m: [Errno 32] Broken pipe"
          ]
        },
        {
          "data": {
            "application/vnd.jupyter.widget-view+json": {
              "model_id": "5952c5249a6f4a5f9b8580b8b7611420",
              "version_major": 2,
              "version_minor": 0
            },
            "text/plain": [
              "Calculating Recall@k:   0%|          | 0/119954 [00:00<?, ?it/s]"
            ]
          },
          "metadata": {},
          "output_type": "display_data"
        }
      ],
      "source": [
        "# import numpy as np\n",
        "# from joblib import Parallel, delayed\n",
        "# from math import log2\n",
        "# import torch  # если вы работаете с pytorch-тензорами\n",
        "\n",
        "# # -------------------------------------------------------------------\n",
        "# # ШАГ 1: Преобразуем y_true (список тензоров или списков) в список set()\n",
        "# # -------------------------------------------------------------------\n",
        "# def make_true_sets(y_true):\n",
        "#     true_sets = []\n",
        "#     for t in y_true:\n",
        "#         if torch.is_tensor(t):\n",
        "#             arr = t.cpu().numpy().tolist()\n",
        "#         else:\n",
        "#             arr = list(t)\n",
        "#         true_sets.append(set(arr))\n",
        "#     return true_sets\n",
        "\n",
        "# # -------------------------------------------------------------------\n",
        "# # ШАГ 2: Оптимизированные функции, без ambiguity-условий\n",
        "# # -------------------------------------------------------------------\n",
        "# def precision_at_k(y_true_sets, y_pred, k):\n",
        "#     precisions = []\n",
        "#     for true_set, pred in zip(y_true_sets, y_pred):\n",
        "#         pred_k = pred[:k]\n",
        "#         precisions.append(len(set(pred_k) & true_set) / k)\n",
        "#     return np.mean(precisions)\n",
        "\n",
        "# def _recall_single(true_set, pred, k):\n",
        "#     if len(true_set) == 0:\n",
        "#         return 0.0\n",
        "#     pred_k = pred[:k]\n",
        "#     return len(set(pred_k) & true_set) / len(true_set)\n",
        "\n",
        "# def recall_at_k(y_true_sets, y_pred, k, n_jobs=-1):\n",
        "#     recalls = Parallel(n_jobs=n_jobs)(\n",
        "#         delayed(_recall_single)(ts, pred, k)\n",
        "#         for ts, pred in tqdm(zip(y_true_sets, y_pred), desc='Calculating Recall@k', total=len(y_true_sets))\n",
        "#     )\n",
        "#     return np.mean(recalls)\n",
        "\n",
        "# def _dcg(rel, k):\n",
        "#     score = 0.0\n",
        "#     for i, r in enumerate(rel[:k]):\n",
        "#         score += r / log2(i + 2)\n",
        "#     return score\n",
        "\n",
        "# def _ndcg_single(true_set, pred, k):\n",
        "#     rel = [1 if item in true_set else 0 for item in pred[:k]]\n",
        "#     dcg = _dcg(rel, k)\n",
        "#     ideal = sorted(rel, reverse=True)\n",
        "#     idcg = _dcg(ideal, k)\n",
        "#     return dcg / idcg if idcg > 0 else 0.0\n",
        "\n",
        "# def ndcg_at_k(y_true_sets, y_pred, k, n_jobs=-1):\n",
        "#     ndcgs = Parallel(n_jobs=n_jobs)(\n",
        "#         delayed(_ndcg_single)(ts, pred, k)\n",
        "#         for ts, pred in tqdm(zip(y_true_sets, y_pred), desc='Calculating NDCG@k', total=len(y_true_sets))\n",
        "#     )\n",
        "#     return np.mean(ndcgs)\n",
        "\n",
        "# def _mrr_single(true_set, pred, k):\n",
        "#     for rank, item in enumerate(pred[:k], start=1):\n",
        "#         if item in true_set:\n",
        "#             return 1.0 / rank\n",
        "#     return 0.0\n",
        "\n",
        "# def mrr_at_k(y_true_sets, y_pred, k, n_jobs=-1):\n",
        "#     mrrs = Parallel(n_jobs=n_jobs)(\n",
        "#         delayed(_mrr_single)(ts, pred, k)\n",
        "#         for ts, pred in tqdm(zip(y_true_sets, y_pred), desc='Calculating MRR@k', total=len(y_true_sets))\n",
        "#     )\n",
        "#     return np.mean(mrrs)\n",
        "\n",
        "# # -------------------------------------------------------------------\n",
        "# # ШАГ 3: Пример использования\n",
        "# # -------------------------------------------------------------------\n",
        "# # допустим, y_true — список тензоров или списков, y_pred — список списков предсказаний\n",
        "# y_true = all_references.copy()\n",
        "# y_pred = all_predictions.copy()\n",
        "# y_true_sets = make_true_sets(y_true)\n",
        "\n",
        "# # теперь можно вызывать:\n",
        "# print(\"Recall@10:\", recall_at_k(y_true_sets, y_pred, k=10))\n",
        "# print(\"NDCG@10: \", ndcg_at_k(  y_true_sets, y_pred, k=10))\n",
        "# print(\"MRR@10:  \", mrr_at_k(   y_true_sets, y_pred, k=10))"
      ]
    }
  ],
  "metadata": {
    "accelerator": "GPU",
    "colab": {
      "gpuType": "T4",
      "provenance": []
    },
    "kernelspec": {
      "display_name": ".venv",
      "language": "python",
      "name": "python3"
    },
    "language_info": {
      "codemirror_mode": {
        "name": "ipython",
        "version": 3
      },
      "file_extension": ".py",
      "mimetype": "text/x-python",
      "name": "python",
      "nbconvert_exporter": "python",
      "pygments_lexer": "ipython3",
      "version": "3.10.12"
    },
    "widgets": {
      "application/vnd.jupyter.widget-state+json": {
        "04970df49ff04366bff12765b45f1a15": {
          "model_module": "@jupyter-widgets/controls",
          "model_module_version": "1.5.0",
          "model_name": "DescriptionStyleModel",
          "state": {
            "_model_module": "@jupyter-widgets/controls",
            "_model_module_version": "1.5.0",
            "_model_name": "DescriptionStyleModel",
            "_view_count": null,
            "_view_module": "@jupyter-widgets/base",
            "_view_module_version": "1.2.0",
            "_view_name": "StyleView",
            "description_width": ""
          }
        },
        "0735fec723d44ccb89787750531338ee": {
          "model_module": "@jupyter-widgets/base",
          "model_module_version": "1.2.0",
          "model_name": "LayoutModel",
          "state": {
            "_model_module": "@jupyter-widgets/base",
            "_model_module_version": "1.2.0",
            "_model_name": "LayoutModel",
            "_view_count": null,
            "_view_module": "@jupyter-widgets/base",
            "_view_module_version": "1.2.0",
            "_view_name": "LayoutView",
            "align_content": null,
            "align_items": null,
            "align_self": null,
            "border": null,
            "bottom": null,
            "display": null,
            "flex": null,
            "flex_flow": null,
            "grid_area": null,
            "grid_auto_columns": null,
            "grid_auto_flow": null,
            "grid_auto_rows": null,
            "grid_column": null,
            "grid_gap": null,
            "grid_row": null,
            "grid_template_areas": null,
            "grid_template_columns": null,
            "grid_template_rows": null,
            "height": null,
            "justify_content": null,
            "justify_items": null,
            "left": null,
            "margin": null,
            "max_height": null,
            "max_width": null,
            "min_height": null,
            "min_width": null,
            "object_fit": null,
            "object_position": null,
            "order": null,
            "overflow": null,
            "overflow_x": null,
            "overflow_y": null,
            "padding": null,
            "right": null,
            "top": null,
            "visibility": null,
            "width": null
          }
        },
        "0c322ad659d741338d4450bd8338b2d4": {
          "model_module": "@jupyter-widgets/base",
          "model_module_version": "1.2.0",
          "model_name": "LayoutModel",
          "state": {
            "_model_module": "@jupyter-widgets/base",
            "_model_module_version": "1.2.0",
            "_model_name": "LayoutModel",
            "_view_count": null,
            "_view_module": "@jupyter-widgets/base",
            "_view_module_version": "1.2.0",
            "_view_name": "LayoutView",
            "align_content": null,
            "align_items": null,
            "align_self": null,
            "border": null,
            "bottom": null,
            "display": null,
            "flex": null,
            "flex_flow": null,
            "grid_area": null,
            "grid_auto_columns": null,
            "grid_auto_flow": null,
            "grid_auto_rows": null,
            "grid_column": null,
            "grid_gap": null,
            "grid_row": null,
            "grid_template_areas": null,
            "grid_template_columns": null,
            "grid_template_rows": null,
            "height": null,
            "justify_content": null,
            "justify_items": null,
            "left": null,
            "margin": null,
            "max_height": null,
            "max_width": null,
            "min_height": null,
            "min_width": null,
            "object_fit": null,
            "object_position": null,
            "order": null,
            "overflow": null,
            "overflow_x": null,
            "overflow_y": null,
            "padding": null,
            "right": null,
            "top": null,
            "visibility": null,
            "width": null
          }
        },
        "1281ade729f14942b46c6a97637723ec": {
          "model_module": "@jupyter-widgets/base",
          "model_module_version": "1.2.0",
          "model_name": "LayoutModel",
          "state": {
            "_model_module": "@jupyter-widgets/base",
            "_model_module_version": "1.2.0",
            "_model_name": "LayoutModel",
            "_view_count": null,
            "_view_module": "@jupyter-widgets/base",
            "_view_module_version": "1.2.0",
            "_view_name": "LayoutView",
            "align_content": null,
            "align_items": null,
            "align_self": null,
            "border": null,
            "bottom": null,
            "display": null,
            "flex": null,
            "flex_flow": null,
            "grid_area": null,
            "grid_auto_columns": null,
            "grid_auto_flow": null,
            "grid_auto_rows": null,
            "grid_column": null,
            "grid_gap": null,
            "grid_row": null,
            "grid_template_areas": null,
            "grid_template_columns": null,
            "grid_template_rows": null,
            "height": null,
            "justify_content": null,
            "justify_items": null,
            "left": null,
            "margin": null,
            "max_height": null,
            "max_width": null,
            "min_height": null,
            "min_width": null,
            "object_fit": null,
            "object_position": null,
            "order": null,
            "overflow": null,
            "overflow_x": null,
            "overflow_y": null,
            "padding": null,
            "right": null,
            "top": null,
            "visibility": null,
            "width": null
          }
        },
        "136186880efa4e649fa88d764a4a3eb3": {
          "model_module": "@jupyter-widgets/controls",
          "model_module_version": "1.5.0",
          "model_name": "FloatProgressModel",
          "state": {
            "_dom_classes": [],
            "_model_module": "@jupyter-widgets/controls",
            "_model_module_version": "1.5.0",
            "_model_name": "FloatProgressModel",
            "_view_count": null,
            "_view_module": "@jupyter-widgets/controls",
            "_view_module_version": "1.5.0",
            "_view_name": "ProgressView",
            "bar_style": "",
            "description": "",
            "description_tooltip": null,
            "layout": "IPY_MODEL_d215f0abcc3a49de8a6956680fc1dc4d",
            "max": 50,
            "min": 0,
            "orientation": "horizontal",
            "style": "IPY_MODEL_b72a9db83aaf476580df4640460721ce",
            "value": 0
          }
        },
        "13a53cecdf5a4b9a83db861648b23c21": {
          "model_module": "@jupyter-widgets/controls",
          "model_module_version": "1.5.0",
          "model_name": "DescriptionStyleModel",
          "state": {
            "_model_module": "@jupyter-widgets/controls",
            "_model_module_version": "1.5.0",
            "_model_name": "DescriptionStyleModel",
            "_view_count": null,
            "_view_module": "@jupyter-widgets/base",
            "_view_module_version": "1.2.0",
            "_view_name": "StyleView",
            "description_width": ""
          }
        },
        "16bbfdf5b3a1474ca4982afaebb2417e": {
          "model_module": "@jupyter-widgets/controls",
          "model_module_version": "1.5.0",
          "model_name": "HTMLModel",
          "state": {
            "_dom_classes": [],
            "_model_module": "@jupyter-widgets/controls",
            "_model_module_version": "1.5.0",
            "_model_name": "HTMLModel",
            "_view_count": null,
            "_view_module": "@jupyter-widgets/controls",
            "_view_module_version": "1.5.0",
            "_view_name": "HTMLView",
            "description": "",
            "description_tooltip": null,
            "layout": "IPY_MODEL_0735fec723d44ccb89787750531338ee",
            "placeholder": "​",
            "style": "IPY_MODEL_5593bb6df18e454ba8a09b6d2b525566",
            "value": "Filtering recommendations: 100%"
          }
        },
        "175cde7d594c4eb7a56b2a117c1af576": {
          "model_module": "@jupyter-widgets/controls",
          "model_module_version": "1.5.0",
          "model_name": "ProgressStyleModel",
          "state": {
            "_model_module": "@jupyter-widgets/controls",
            "_model_module_version": "1.5.0",
            "_model_name": "ProgressStyleModel",
            "_view_count": null,
            "_view_module": "@jupyter-widgets/base",
            "_view_module_version": "1.2.0",
            "_view_name": "StyleView",
            "bar_color": null,
            "description_width": ""
          }
        },
        "190952f1b0f1458baa052335caad843f": {
          "model_module": "@jupyter-widgets/controls",
          "model_module_version": "1.5.0",
          "model_name": "HTMLModel",
          "state": {
            "_dom_classes": [],
            "_model_module": "@jupyter-widgets/controls",
            "_model_module_version": "1.5.0",
            "_model_name": "HTMLModel",
            "_view_count": null,
            "_view_module": "@jupyter-widgets/controls",
            "_view_module_version": "1.5.0",
            "_view_name": "HTMLView",
            "description": "",
            "description_tooltip": null,
            "layout": "IPY_MODEL_2cbc6bfbe1d84afc82bf82e8e8696bad",
            "placeholder": "​",
            "style": "IPY_MODEL_04970df49ff04366bff12765b45f1a15",
            "value": " 16384/16384 [00:10&lt;00:00, 1670.00it/s]"
          }
        },
        "19328e5fa3a649fbaf0945a1ad5b06ad": {
          "model_module": "@jupyter-widgets/controls",
          "model_module_version": "1.5.0",
          "model_name": "DescriptionStyleModel",
          "state": {
            "_model_module": "@jupyter-widgets/controls",
            "_model_module_version": "1.5.0",
            "_model_name": "DescriptionStyleModel",
            "_view_count": null,
            "_view_module": "@jupyter-widgets/base",
            "_view_module_version": "1.2.0",
            "_view_name": "StyleView",
            "description_width": ""
          }
        },
        "198f4af595a8497d9f0b81a2d846b80e": {
          "model_module": "@jupyter-widgets/controls",
          "model_module_version": "1.5.0",
          "model_name": "DescriptionStyleModel",
          "state": {
            "_model_module": "@jupyter-widgets/controls",
            "_model_module_version": "1.5.0",
            "_model_name": "DescriptionStyleModel",
            "_view_count": null,
            "_view_module": "@jupyter-widgets/base",
            "_view_module_version": "1.2.0",
            "_view_name": "StyleView",
            "description_width": ""
          }
        },
        "19fdadec9c9f423c83ac49da9e02a733": {
          "model_module": "@jupyter-widgets/controls",
          "model_module_version": "1.5.0",
          "model_name": "HTMLModel",
          "state": {
            "_dom_classes": [],
            "_model_module": "@jupyter-widgets/controls",
            "_model_module_version": "1.5.0",
            "_model_name": "HTMLModel",
            "_view_count": null,
            "_view_module": "@jupyter-widgets/controls",
            "_view_module_version": "1.5.0",
            "_view_name": "HTMLView",
            "description": "",
            "description_tooltip": null,
            "layout": "IPY_MODEL_4f9e1506ed354ae58abe9929436aa624",
            "placeholder": "​",
            "style": "IPY_MODEL_19328e5fa3a649fbaf0945a1ad5b06ad",
            "value": "Filtering recommendations: 100%"
          }
        },
        "1ce8ea196b0448eca66ba77d9cc968fd": {
          "model_module": "@jupyter-widgets/base",
          "model_module_version": "1.2.0",
          "model_name": "LayoutModel",
          "state": {
            "_model_module": "@jupyter-widgets/base",
            "_model_module_version": "1.2.0",
            "_model_name": "LayoutModel",
            "_view_count": null,
            "_view_module": "@jupyter-widgets/base",
            "_view_module_version": "1.2.0",
            "_view_name": "LayoutView",
            "align_content": null,
            "align_items": null,
            "align_self": null,
            "border": null,
            "bottom": null,
            "display": null,
            "flex": null,
            "flex_flow": null,
            "grid_area": null,
            "grid_auto_columns": null,
            "grid_auto_flow": null,
            "grid_auto_rows": null,
            "grid_column": null,
            "grid_gap": null,
            "grid_row": null,
            "grid_template_areas": null,
            "grid_template_columns": null,
            "grid_template_rows": null,
            "height": null,
            "justify_content": null,
            "justify_items": null,
            "left": null,
            "margin": null,
            "max_height": null,
            "max_width": null,
            "min_height": null,
            "min_width": null,
            "object_fit": null,
            "object_position": null,
            "order": null,
            "overflow": null,
            "overflow_x": null,
            "overflow_y": null,
            "padding": null,
            "right": null,
            "top": null,
            "visibility": null,
            "width": null
          }
        },
        "1e2bb88c2e7a43baaa31427b3da48089": {
          "model_module": "@jupyter-widgets/controls",
          "model_module_version": "1.5.0",
          "model_name": "ProgressStyleModel",
          "state": {
            "_model_module": "@jupyter-widgets/controls",
            "_model_module_version": "1.5.0",
            "_model_name": "ProgressStyleModel",
            "_view_count": null,
            "_view_module": "@jupyter-widgets/base",
            "_view_module_version": "1.2.0",
            "_view_name": "StyleView",
            "bar_color": null,
            "description_width": ""
          }
        },
        "24fe7a119ade4cd6a30723c4178b20a5": {
          "model_module": "@jupyter-widgets/base",
          "model_module_version": "1.2.0",
          "model_name": "LayoutModel",
          "state": {
            "_model_module": "@jupyter-widgets/base",
            "_model_module_version": "1.2.0",
            "_model_name": "LayoutModel",
            "_view_count": null,
            "_view_module": "@jupyter-widgets/base",
            "_view_module_version": "1.2.0",
            "_view_name": "LayoutView",
            "align_content": null,
            "align_items": null,
            "align_self": null,
            "border": null,
            "bottom": null,
            "display": null,
            "flex": null,
            "flex_flow": null,
            "grid_area": null,
            "grid_auto_columns": null,
            "grid_auto_flow": null,
            "grid_auto_rows": null,
            "grid_column": null,
            "grid_gap": null,
            "grid_row": null,
            "grid_template_areas": null,
            "grid_template_columns": null,
            "grid_template_rows": null,
            "height": null,
            "justify_content": null,
            "justify_items": null,
            "left": null,
            "margin": null,
            "max_height": null,
            "max_width": null,
            "min_height": null,
            "min_width": null,
            "object_fit": null,
            "object_position": null,
            "order": null,
            "overflow": null,
            "overflow_x": null,
            "overflow_y": null,
            "padding": null,
            "right": null,
            "top": null,
            "visibility": null,
            "width": null
          }
        },
        "2add5e85afb84b579f23fd436e597671": {
          "model_module": "@jupyter-widgets/base",
          "model_module_version": "1.2.0",
          "model_name": "LayoutModel",
          "state": {
            "_model_module": "@jupyter-widgets/base",
            "_model_module_version": "1.2.0",
            "_model_name": "LayoutModel",
            "_view_count": null,
            "_view_module": "@jupyter-widgets/base",
            "_view_module_version": "1.2.0",
            "_view_name": "LayoutView",
            "align_content": null,
            "align_items": null,
            "align_self": null,
            "border": null,
            "bottom": null,
            "display": null,
            "flex": null,
            "flex_flow": null,
            "grid_area": null,
            "grid_auto_columns": null,
            "grid_auto_flow": null,
            "grid_auto_rows": null,
            "grid_column": null,
            "grid_gap": null,
            "grid_row": null,
            "grid_template_areas": null,
            "grid_template_columns": null,
            "grid_template_rows": null,
            "height": null,
            "justify_content": null,
            "justify_items": null,
            "left": null,
            "margin": null,
            "max_height": null,
            "max_width": null,
            "min_height": null,
            "min_width": null,
            "object_fit": null,
            "object_position": null,
            "order": null,
            "overflow": null,
            "overflow_x": null,
            "overflow_y": null,
            "padding": null,
            "right": null,
            "top": null,
            "visibility": null,
            "width": null
          }
        },
        "2cbc6bfbe1d84afc82bf82e8e8696bad": {
          "model_module": "@jupyter-widgets/base",
          "model_module_version": "1.2.0",
          "model_name": "LayoutModel",
          "state": {
            "_model_module": "@jupyter-widgets/base",
            "_model_module_version": "1.2.0",
            "_model_name": "LayoutModel",
            "_view_count": null,
            "_view_module": "@jupyter-widgets/base",
            "_view_module_version": "1.2.0",
            "_view_name": "LayoutView",
            "align_content": null,
            "align_items": null,
            "align_self": null,
            "border": null,
            "bottom": null,
            "display": null,
            "flex": null,
            "flex_flow": null,
            "grid_area": null,
            "grid_auto_columns": null,
            "grid_auto_flow": null,
            "grid_auto_rows": null,
            "grid_column": null,
            "grid_gap": null,
            "grid_row": null,
            "grid_template_areas": null,
            "grid_template_columns": null,
            "grid_template_rows": null,
            "height": null,
            "justify_content": null,
            "justify_items": null,
            "left": null,
            "margin": null,
            "max_height": null,
            "max_width": null,
            "min_height": null,
            "min_width": null,
            "object_fit": null,
            "object_position": null,
            "order": null,
            "overflow": null,
            "overflow_x": null,
            "overflow_y": null,
            "padding": null,
            "right": null,
            "top": null,
            "visibility": null,
            "width": null
          }
        },
        "2e54409f1ba5490f93b1eaaf1f567e46": {
          "model_module": "@jupyter-widgets/controls",
          "model_module_version": "1.5.0",
          "model_name": "FloatProgressModel",
          "state": {
            "_dom_classes": [],
            "_model_module": "@jupyter-widgets/controls",
            "_model_module_version": "1.5.0",
            "_model_name": "FloatProgressModel",
            "_view_count": null,
            "_view_module": "@jupyter-widgets/controls",
            "_view_module_version": "1.5.0",
            "_view_name": "ProgressView",
            "bar_style": "success",
            "description": "",
            "description_tooltip": null,
            "layout": "IPY_MODEL_e3107c9fe82d4a6cbe8c60b2ebf44ae7",
            "max": 16384,
            "min": 0,
            "orientation": "horizontal",
            "style": "IPY_MODEL_aa9efc06afdf42298225d884ef8b095c",
            "value": 16384
          }
        },
        "2fa3e3081ec64f68825b4333244306c0": {
          "model_module": "@jupyter-widgets/base",
          "model_module_version": "1.2.0",
          "model_name": "LayoutModel",
          "state": {
            "_model_module": "@jupyter-widgets/base",
            "_model_module_version": "1.2.0",
            "_model_name": "LayoutModel",
            "_view_count": null,
            "_view_module": "@jupyter-widgets/base",
            "_view_module_version": "1.2.0",
            "_view_name": "LayoutView",
            "align_content": null,
            "align_items": null,
            "align_self": null,
            "border": null,
            "bottom": null,
            "display": null,
            "flex": null,
            "flex_flow": null,
            "grid_area": null,
            "grid_auto_columns": null,
            "grid_auto_flow": null,
            "grid_auto_rows": null,
            "grid_column": null,
            "grid_gap": null,
            "grid_row": null,
            "grid_template_areas": null,
            "grid_template_columns": null,
            "grid_template_rows": null,
            "height": null,
            "justify_content": null,
            "justify_items": null,
            "left": null,
            "margin": null,
            "max_height": null,
            "max_width": null,
            "min_height": null,
            "min_width": null,
            "object_fit": null,
            "object_position": null,
            "order": null,
            "overflow": null,
            "overflow_x": null,
            "overflow_y": null,
            "padding": null,
            "right": null,
            "top": null,
            "visibility": null,
            "width": null
          }
        },
        "30fc623da02d4fb7a7a6111a52ff042a": {
          "model_module": "@jupyter-widgets/controls",
          "model_module_version": "1.5.0",
          "model_name": "DescriptionStyleModel",
          "state": {
            "_model_module": "@jupyter-widgets/controls",
            "_model_module_version": "1.5.0",
            "_model_name": "DescriptionStyleModel",
            "_view_count": null,
            "_view_module": "@jupyter-widgets/base",
            "_view_module_version": "1.2.0",
            "_view_name": "StyleView",
            "description_width": ""
          }
        },
        "32d4f9acb63f442eb4921fc5ffdec469": {
          "model_module": "@jupyter-widgets/controls",
          "model_module_version": "1.5.0",
          "model_name": "DescriptionStyleModel",
          "state": {
            "_model_module": "@jupyter-widgets/controls",
            "_model_module_version": "1.5.0",
            "_model_name": "DescriptionStyleModel",
            "_view_count": null,
            "_view_module": "@jupyter-widgets/base",
            "_view_module_version": "1.2.0",
            "_view_name": "StyleView",
            "description_width": ""
          }
        },
        "335e72ce46ab4252b7e582c6e93eeb9e": {
          "model_module": "@jupyter-widgets/base",
          "model_module_version": "1.2.0",
          "model_name": "LayoutModel",
          "state": {
            "_model_module": "@jupyter-widgets/base",
            "_model_module_version": "1.2.0",
            "_model_name": "LayoutModel",
            "_view_count": null,
            "_view_module": "@jupyter-widgets/base",
            "_view_module_version": "1.2.0",
            "_view_name": "LayoutView",
            "align_content": null,
            "align_items": null,
            "align_self": null,
            "border": null,
            "bottom": null,
            "display": null,
            "flex": null,
            "flex_flow": null,
            "grid_area": null,
            "grid_auto_columns": null,
            "grid_auto_flow": null,
            "grid_auto_rows": null,
            "grid_column": null,
            "grid_gap": null,
            "grid_row": null,
            "grid_template_areas": null,
            "grid_template_columns": null,
            "grid_template_rows": null,
            "height": null,
            "justify_content": null,
            "justify_items": null,
            "left": null,
            "margin": null,
            "max_height": null,
            "max_width": null,
            "min_height": null,
            "min_width": null,
            "object_fit": null,
            "object_position": null,
            "order": null,
            "overflow": null,
            "overflow_x": null,
            "overflow_y": null,
            "padding": null,
            "right": null,
            "top": null,
            "visibility": null,
            "width": null
          }
        },
        "33e445c178e640c893af8941b6c83dcf": {
          "model_module": "@jupyter-widgets/controls",
          "model_module_version": "1.5.0",
          "model_name": "DescriptionStyleModel",
          "state": {
            "_model_module": "@jupyter-widgets/controls",
            "_model_module_version": "1.5.0",
            "_model_name": "DescriptionStyleModel",
            "_view_count": null,
            "_view_module": "@jupyter-widgets/base",
            "_view_module_version": "1.2.0",
            "_view_name": "StyleView",
            "description_width": ""
          }
        },
        "3705c08120b04f97b2950df60260630d": {
          "model_module": "@jupyter-widgets/base",
          "model_module_version": "1.2.0",
          "model_name": "LayoutModel",
          "state": {
            "_model_module": "@jupyter-widgets/base",
            "_model_module_version": "1.2.0",
            "_model_name": "LayoutModel",
            "_view_count": null,
            "_view_module": "@jupyter-widgets/base",
            "_view_module_version": "1.2.0",
            "_view_name": "LayoutView",
            "align_content": null,
            "align_items": null,
            "align_self": null,
            "border": null,
            "bottom": null,
            "display": null,
            "flex": null,
            "flex_flow": null,
            "grid_area": null,
            "grid_auto_columns": null,
            "grid_auto_flow": null,
            "grid_auto_rows": null,
            "grid_column": null,
            "grid_gap": null,
            "grid_row": null,
            "grid_template_areas": null,
            "grid_template_columns": null,
            "grid_template_rows": null,
            "height": null,
            "justify_content": null,
            "justify_items": null,
            "left": null,
            "margin": null,
            "max_height": null,
            "max_width": null,
            "min_height": null,
            "min_width": null,
            "object_fit": null,
            "object_position": null,
            "order": null,
            "overflow": null,
            "overflow_x": null,
            "overflow_y": null,
            "padding": null,
            "right": null,
            "top": null,
            "visibility": null,
            "width": null
          }
        },
        "37548681d1064bb795356fe614a04672": {
          "model_module": "@jupyter-widgets/controls",
          "model_module_version": "1.5.0",
          "model_name": "DescriptionStyleModel",
          "state": {
            "_model_module": "@jupyter-widgets/controls",
            "_model_module_version": "1.5.0",
            "_model_name": "DescriptionStyleModel",
            "_view_count": null,
            "_view_module": "@jupyter-widgets/base",
            "_view_module_version": "1.2.0",
            "_view_name": "StyleView",
            "description_width": ""
          }
        },
        "3b8603eb78b04837a8c1a2d1450da78d": {
          "model_module": "@jupyter-widgets/base",
          "model_module_version": "1.2.0",
          "model_name": "LayoutModel",
          "state": {
            "_model_module": "@jupyter-widgets/base",
            "_model_module_version": "1.2.0",
            "_model_name": "LayoutModel",
            "_view_count": null,
            "_view_module": "@jupyter-widgets/base",
            "_view_module_version": "1.2.0",
            "_view_name": "LayoutView",
            "align_content": null,
            "align_items": null,
            "align_self": null,
            "border": null,
            "bottom": null,
            "display": null,
            "flex": null,
            "flex_flow": null,
            "grid_area": null,
            "grid_auto_columns": null,
            "grid_auto_flow": null,
            "grid_auto_rows": null,
            "grid_column": null,
            "grid_gap": null,
            "grid_row": null,
            "grid_template_areas": null,
            "grid_template_columns": null,
            "grid_template_rows": null,
            "height": null,
            "justify_content": null,
            "justify_items": null,
            "left": null,
            "margin": null,
            "max_height": null,
            "max_width": null,
            "min_height": null,
            "min_width": null,
            "object_fit": null,
            "object_position": null,
            "order": null,
            "overflow": null,
            "overflow_x": null,
            "overflow_y": null,
            "padding": null,
            "right": null,
            "top": null,
            "visibility": null,
            "width": null
          }
        },
        "3dd627fc3a024bb3ab4c93c7b76f86d7": {
          "model_module": "@jupyter-widgets/controls",
          "model_module_version": "1.5.0",
          "model_name": "FloatProgressModel",
          "state": {
            "_dom_classes": [],
            "_model_module": "@jupyter-widgets/controls",
            "_model_module_version": "1.5.0",
            "_model_name": "FloatProgressModel",
            "_view_count": null,
            "_view_module": "@jupyter-widgets/controls",
            "_view_module_version": "1.5.0",
            "_view_name": "ProgressView",
            "bar_style": "success",
            "description": "",
            "description_tooltip": null,
            "layout": "IPY_MODEL_55ca36c4fbb6468ca3ea898a4bdba630",
            "max": 16384,
            "min": 0,
            "orientation": "horizontal",
            "style": "IPY_MODEL_4e730f5052a941ba92a6e33df83f55df",
            "value": 16384
          }
        },
        "407c7a10ca3a406ebbdab5492f2e27cd": {
          "model_module": "@jupyter-widgets/controls",
          "model_module_version": "1.5.0",
          "model_name": "DescriptionStyleModel",
          "state": {
            "_model_module": "@jupyter-widgets/controls",
            "_model_module_version": "1.5.0",
            "_model_name": "DescriptionStyleModel",
            "_view_count": null,
            "_view_module": "@jupyter-widgets/base",
            "_view_module_version": "1.2.0",
            "_view_name": "StyleView",
            "description_width": ""
          }
        },
        "40f8fc68fb854b8ea88712b19464ac9c": {
          "model_module": "@jupyter-widgets/controls",
          "model_module_version": "1.5.0",
          "model_name": "ProgressStyleModel",
          "state": {
            "_model_module": "@jupyter-widgets/controls",
            "_model_module_version": "1.5.0",
            "_model_name": "ProgressStyleModel",
            "_view_count": null,
            "_view_module": "@jupyter-widgets/base",
            "_view_module_version": "1.2.0",
            "_view_name": "StyleView",
            "bar_color": null,
            "description_width": ""
          }
        },
        "43203ad5e51a4d8eb1515ea135cb268a": {
          "model_module": "@jupyter-widgets/base",
          "model_module_version": "1.2.0",
          "model_name": "LayoutModel",
          "state": {
            "_model_module": "@jupyter-widgets/base",
            "_model_module_version": "1.2.0",
            "_model_name": "LayoutModel",
            "_view_count": null,
            "_view_module": "@jupyter-widgets/base",
            "_view_module_version": "1.2.0",
            "_view_name": "LayoutView",
            "align_content": null,
            "align_items": null,
            "align_self": null,
            "border": null,
            "bottom": null,
            "display": null,
            "flex": null,
            "flex_flow": null,
            "grid_area": null,
            "grid_auto_columns": null,
            "grid_auto_flow": null,
            "grid_auto_rows": null,
            "grid_column": null,
            "grid_gap": null,
            "grid_row": null,
            "grid_template_areas": null,
            "grid_template_columns": null,
            "grid_template_rows": null,
            "height": null,
            "justify_content": null,
            "justify_items": null,
            "left": null,
            "margin": null,
            "max_height": null,
            "max_width": null,
            "min_height": null,
            "min_width": null,
            "object_fit": null,
            "object_position": null,
            "order": null,
            "overflow": null,
            "overflow_x": null,
            "overflow_y": null,
            "padding": null,
            "right": null,
            "top": null,
            "visibility": null,
            "width": null
          }
        },
        "43273e610c7542a695c4b4f6df005fb2": {
          "model_module": "@jupyter-widgets/controls",
          "model_module_version": "1.5.0",
          "model_name": "HTMLModel",
          "state": {
            "_dom_classes": [],
            "_model_module": "@jupyter-widgets/controls",
            "_model_module_version": "1.5.0",
            "_model_name": "HTMLModel",
            "_view_count": null,
            "_view_module": "@jupyter-widgets/controls",
            "_view_module_version": "1.5.0",
            "_view_name": "HTMLView",
            "description": "",
            "description_tooltip": null,
            "layout": "IPY_MODEL_2fa3e3081ec64f68825b4333244306c0",
            "placeholder": "​",
            "style": "IPY_MODEL_33e445c178e640c893af8941b6c83dcf",
            "value": " 0/50 [00:00&lt;?, ?epoch/s]"
          }
        },
        "49bcb840ba1647aeb5be8aca5b8aea3f": {
          "model_module": "@jupyter-widgets/controls",
          "model_module_version": "1.5.0",
          "model_name": "DescriptionStyleModel",
          "state": {
            "_model_module": "@jupyter-widgets/controls",
            "_model_module_version": "1.5.0",
            "_model_name": "DescriptionStyleModel",
            "_view_count": null,
            "_view_module": "@jupyter-widgets/base",
            "_view_module_version": "1.2.0",
            "_view_name": "StyleView",
            "description_width": ""
          }
        },
        "4e730f5052a941ba92a6e33df83f55df": {
          "model_module": "@jupyter-widgets/controls",
          "model_module_version": "1.5.0",
          "model_name": "ProgressStyleModel",
          "state": {
            "_model_module": "@jupyter-widgets/controls",
            "_model_module_version": "1.5.0",
            "_model_name": "ProgressStyleModel",
            "_view_count": null,
            "_view_module": "@jupyter-widgets/base",
            "_view_module_version": "1.2.0",
            "_view_name": "StyleView",
            "bar_color": null,
            "description_width": ""
          }
        },
        "4f706679ea72421b964c6aa2aabbd4c4": {
          "model_module": "@jupyter-widgets/controls",
          "model_module_version": "1.5.0",
          "model_name": "HTMLModel",
          "state": {
            "_dom_classes": [],
            "_model_module": "@jupyter-widgets/controls",
            "_model_module_version": "1.5.0",
            "_model_name": "HTMLModel",
            "_view_count": null,
            "_view_module": "@jupyter-widgets/controls",
            "_view_module_version": "1.5.0",
            "_view_name": "HTMLView",
            "description": "",
            "description_tooltip": null,
            "layout": "IPY_MODEL_cc86a3ca51fe4ce49057d146c9cce81d",
            "placeholder": "​",
            "style": "IPY_MODEL_65133ee08a6a453ab49d672fc5a9d15a",
            "value": "Filtering recommendations: 100%"
          }
        },
        "4f9e1506ed354ae58abe9929436aa624": {
          "model_module": "@jupyter-widgets/base",
          "model_module_version": "1.2.0",
          "model_name": "LayoutModel",
          "state": {
            "_model_module": "@jupyter-widgets/base",
            "_model_module_version": "1.2.0",
            "_model_name": "LayoutModel",
            "_view_count": null,
            "_view_module": "@jupyter-widgets/base",
            "_view_module_version": "1.2.0",
            "_view_name": "LayoutView",
            "align_content": null,
            "align_items": null,
            "align_self": null,
            "border": null,
            "bottom": null,
            "display": null,
            "flex": null,
            "flex_flow": null,
            "grid_area": null,
            "grid_auto_columns": null,
            "grid_auto_flow": null,
            "grid_auto_rows": null,
            "grid_column": null,
            "grid_gap": null,
            "grid_row": null,
            "grid_template_areas": null,
            "grid_template_columns": null,
            "grid_template_rows": null,
            "height": null,
            "justify_content": null,
            "justify_items": null,
            "left": null,
            "margin": null,
            "max_height": null,
            "max_width": null,
            "min_height": null,
            "min_width": null,
            "object_fit": null,
            "object_position": null,
            "order": null,
            "overflow": null,
            "overflow_x": null,
            "overflow_y": null,
            "padding": null,
            "right": null,
            "top": null,
            "visibility": null,
            "width": null
          }
        },
        "532a57eed9f94d07a78b1692d1ed9f5e": {
          "model_module": "@jupyter-widgets/base",
          "model_module_version": "1.2.0",
          "model_name": "LayoutModel",
          "state": {
            "_model_module": "@jupyter-widgets/base",
            "_model_module_version": "1.2.0",
            "_model_name": "LayoutModel",
            "_view_count": null,
            "_view_module": "@jupyter-widgets/base",
            "_view_module_version": "1.2.0",
            "_view_name": "LayoutView",
            "align_content": null,
            "align_items": null,
            "align_self": null,
            "border": null,
            "bottom": null,
            "display": null,
            "flex": null,
            "flex_flow": null,
            "grid_area": null,
            "grid_auto_columns": null,
            "grid_auto_flow": null,
            "grid_auto_rows": null,
            "grid_column": null,
            "grid_gap": null,
            "grid_row": null,
            "grid_template_areas": null,
            "grid_template_columns": null,
            "grid_template_rows": null,
            "height": null,
            "justify_content": null,
            "justify_items": null,
            "left": null,
            "margin": null,
            "max_height": null,
            "max_width": null,
            "min_height": null,
            "min_width": null,
            "object_fit": null,
            "object_position": null,
            "order": null,
            "overflow": null,
            "overflow_x": null,
            "overflow_y": null,
            "padding": null,
            "right": null,
            "top": null,
            "visibility": null,
            "width": null
          }
        },
        "535cce583a5a430991f706eef500a016": {
          "model_module": "@jupyter-widgets/base",
          "model_module_version": "1.2.0",
          "model_name": "LayoutModel",
          "state": {
            "_model_module": "@jupyter-widgets/base",
            "_model_module_version": "1.2.0",
            "_model_name": "LayoutModel",
            "_view_count": null,
            "_view_module": "@jupyter-widgets/base",
            "_view_module_version": "1.2.0",
            "_view_name": "LayoutView",
            "align_content": null,
            "align_items": null,
            "align_self": null,
            "border": null,
            "bottom": null,
            "display": null,
            "flex": null,
            "flex_flow": null,
            "grid_area": null,
            "grid_auto_columns": null,
            "grid_auto_flow": null,
            "grid_auto_rows": null,
            "grid_column": null,
            "grid_gap": null,
            "grid_row": null,
            "grid_template_areas": null,
            "grid_template_columns": null,
            "grid_template_rows": null,
            "height": null,
            "justify_content": null,
            "justify_items": null,
            "left": null,
            "margin": null,
            "max_height": null,
            "max_width": null,
            "min_height": null,
            "min_width": null,
            "object_fit": null,
            "object_position": null,
            "order": null,
            "overflow": null,
            "overflow_x": null,
            "overflow_y": null,
            "padding": null,
            "right": null,
            "top": null,
            "visibility": null,
            "width": null
          }
        },
        "537538491ada4cdd968f8237f5a47726": {
          "model_module": "@jupyter-widgets/controls",
          "model_module_version": "1.5.0",
          "model_name": "ProgressStyleModel",
          "state": {
            "_model_module": "@jupyter-widgets/controls",
            "_model_module_version": "1.5.0",
            "_model_name": "ProgressStyleModel",
            "_view_count": null,
            "_view_module": "@jupyter-widgets/base",
            "_view_module_version": "1.2.0",
            "_view_name": "StyleView",
            "bar_color": null,
            "description_width": ""
          }
        },
        "5593bb6df18e454ba8a09b6d2b525566": {
          "model_module": "@jupyter-widgets/controls",
          "model_module_version": "1.5.0",
          "model_name": "DescriptionStyleModel",
          "state": {
            "_model_module": "@jupyter-widgets/controls",
            "_model_module_version": "1.5.0",
            "_model_name": "DescriptionStyleModel",
            "_view_count": null,
            "_view_module": "@jupyter-widgets/base",
            "_view_module_version": "1.2.0",
            "_view_name": "StyleView",
            "description_width": ""
          }
        },
        "55bcb0d5108546f0afcf87a080c1936b": {
          "model_module": "@jupyter-widgets/base",
          "model_module_version": "1.2.0",
          "model_name": "LayoutModel",
          "state": {
            "_model_module": "@jupyter-widgets/base",
            "_model_module_version": "1.2.0",
            "_model_name": "LayoutModel",
            "_view_count": null,
            "_view_module": "@jupyter-widgets/base",
            "_view_module_version": "1.2.0",
            "_view_name": "LayoutView",
            "align_content": null,
            "align_items": null,
            "align_self": null,
            "border": null,
            "bottom": null,
            "display": null,
            "flex": null,
            "flex_flow": null,
            "grid_area": null,
            "grid_auto_columns": null,
            "grid_auto_flow": null,
            "grid_auto_rows": null,
            "grid_column": null,
            "grid_gap": null,
            "grid_row": null,
            "grid_template_areas": null,
            "grid_template_columns": null,
            "grid_template_rows": null,
            "height": null,
            "justify_content": null,
            "justify_items": null,
            "left": null,
            "margin": null,
            "max_height": null,
            "max_width": null,
            "min_height": null,
            "min_width": null,
            "object_fit": null,
            "object_position": null,
            "order": null,
            "overflow": null,
            "overflow_x": null,
            "overflow_y": null,
            "padding": null,
            "right": null,
            "top": null,
            "visibility": null,
            "width": null
          }
        },
        "55ca36c4fbb6468ca3ea898a4bdba630": {
          "model_module": "@jupyter-widgets/base",
          "model_module_version": "1.2.0",
          "model_name": "LayoutModel",
          "state": {
            "_model_module": "@jupyter-widgets/base",
            "_model_module_version": "1.2.0",
            "_model_name": "LayoutModel",
            "_view_count": null,
            "_view_module": "@jupyter-widgets/base",
            "_view_module_version": "1.2.0",
            "_view_name": "LayoutView",
            "align_content": null,
            "align_items": null,
            "align_self": null,
            "border": null,
            "bottom": null,
            "display": null,
            "flex": null,
            "flex_flow": null,
            "grid_area": null,
            "grid_auto_columns": null,
            "grid_auto_flow": null,
            "grid_auto_rows": null,
            "grid_column": null,
            "grid_gap": null,
            "grid_row": null,
            "grid_template_areas": null,
            "grid_template_columns": null,
            "grid_template_rows": null,
            "height": null,
            "justify_content": null,
            "justify_items": null,
            "left": null,
            "margin": null,
            "max_height": null,
            "max_width": null,
            "min_height": null,
            "min_width": null,
            "object_fit": null,
            "object_position": null,
            "order": null,
            "overflow": null,
            "overflow_x": null,
            "overflow_y": null,
            "padding": null,
            "right": null,
            "top": null,
            "visibility": null,
            "width": null
          }
        },
        "560533067bcd4652889a20f5bc80c6b0": {
          "model_module": "@jupyter-widgets/controls",
          "model_module_version": "1.5.0",
          "model_name": "HTMLModel",
          "state": {
            "_dom_classes": [],
            "_model_module": "@jupyter-widgets/controls",
            "_model_module_version": "1.5.0",
            "_model_name": "HTMLModel",
            "_view_count": null,
            "_view_module": "@jupyter-widgets/controls",
            "_view_module_version": "1.5.0",
            "_view_name": "HTMLView",
            "description": "",
            "description_tooltip": null,
            "layout": "IPY_MODEL_ae8366af912e41c3bd1013b9d637a273",
            "placeholder": "​",
            "style": "IPY_MODEL_6c817043340a4fdc9d80483472f2d9e5",
            "value": "Filtering recommendations: 100%"
          }
        },
        "5ab162da0cd94a78b9c4fcd9b2df9e39": {
          "model_module": "@jupyter-widgets/controls",
          "model_module_version": "1.5.0",
          "model_name": "HTMLModel",
          "state": {
            "_dom_classes": [],
            "_model_module": "@jupyter-widgets/controls",
            "_model_module_version": "1.5.0",
            "_model_name": "HTMLModel",
            "_view_count": null,
            "_view_module": "@jupyter-widgets/controls",
            "_view_module_version": "1.5.0",
            "_view_name": "HTMLView",
            "description": "",
            "description_tooltip": null,
            "layout": "IPY_MODEL_6910e94d9bb94bdd8361584409a8f4a2",
            "placeholder": "​",
            "style": "IPY_MODEL_407c7a10ca3a406ebbdab5492f2e27cd",
            "value": " 16384/16384 [00:10&lt;00:00, 1025.48it/s]"
          }
        },
        "5ae3030c35c64ff9914018686d243018": {
          "model_module": "@jupyter-widgets/base",
          "model_module_version": "1.2.0",
          "model_name": "LayoutModel",
          "state": {
            "_model_module": "@jupyter-widgets/base",
            "_model_module_version": "1.2.0",
            "_model_name": "LayoutModel",
            "_view_count": null,
            "_view_module": "@jupyter-widgets/base",
            "_view_module_version": "1.2.0",
            "_view_name": "LayoutView",
            "align_content": null,
            "align_items": null,
            "align_self": null,
            "border": null,
            "bottom": null,
            "display": null,
            "flex": null,
            "flex_flow": null,
            "grid_area": null,
            "grid_auto_columns": null,
            "grid_auto_flow": null,
            "grid_auto_rows": null,
            "grid_column": null,
            "grid_gap": null,
            "grid_row": null,
            "grid_template_areas": null,
            "grid_template_columns": null,
            "grid_template_rows": null,
            "height": null,
            "justify_content": null,
            "justify_items": null,
            "left": null,
            "margin": null,
            "max_height": null,
            "max_width": null,
            "min_height": null,
            "min_width": null,
            "object_fit": null,
            "object_position": null,
            "order": null,
            "overflow": null,
            "overflow_x": null,
            "overflow_y": null,
            "padding": null,
            "right": null,
            "top": null,
            "visibility": null,
            "width": null
          }
        },
        "602e47c675a54559b0a86eae9ee391b6": {
          "model_module": "@jupyter-widgets/base",
          "model_module_version": "1.2.0",
          "model_name": "LayoutModel",
          "state": {
            "_model_module": "@jupyter-widgets/base",
            "_model_module_version": "1.2.0",
            "_model_name": "LayoutModel",
            "_view_count": null,
            "_view_module": "@jupyter-widgets/base",
            "_view_module_version": "1.2.0",
            "_view_name": "LayoutView",
            "align_content": null,
            "align_items": null,
            "align_self": null,
            "border": null,
            "bottom": null,
            "display": null,
            "flex": null,
            "flex_flow": null,
            "grid_area": null,
            "grid_auto_columns": null,
            "grid_auto_flow": null,
            "grid_auto_rows": null,
            "grid_column": null,
            "grid_gap": null,
            "grid_row": null,
            "grid_template_areas": null,
            "grid_template_columns": null,
            "grid_template_rows": null,
            "height": null,
            "justify_content": null,
            "justify_items": null,
            "left": null,
            "margin": null,
            "max_height": null,
            "max_width": null,
            "min_height": null,
            "min_width": null,
            "object_fit": null,
            "object_position": null,
            "order": null,
            "overflow": null,
            "overflow_x": null,
            "overflow_y": null,
            "padding": null,
            "right": null,
            "top": null,
            "visibility": null,
            "width": null
          }
        },
        "6100eae6b7ea49adbacef940df5de8df": {
          "model_module": "@jupyter-widgets/controls",
          "model_module_version": "1.5.0",
          "model_name": "DescriptionStyleModel",
          "state": {
            "_model_module": "@jupyter-widgets/controls",
            "_model_module_version": "1.5.0",
            "_model_name": "DescriptionStyleModel",
            "_view_count": null,
            "_view_module": "@jupyter-widgets/base",
            "_view_module_version": "1.2.0",
            "_view_name": "StyleView",
            "description_width": ""
          }
        },
        "64b901466ab04fb39ea6550fb1fed5dd": {
          "model_module": "@jupyter-widgets/controls",
          "model_module_version": "1.5.0",
          "model_name": "DescriptionStyleModel",
          "state": {
            "_model_module": "@jupyter-widgets/controls",
            "_model_module_version": "1.5.0",
            "_model_name": "DescriptionStyleModel",
            "_view_count": null,
            "_view_module": "@jupyter-widgets/base",
            "_view_module_version": "1.2.0",
            "_view_name": "StyleView",
            "description_width": ""
          }
        },
        "65133ee08a6a453ab49d672fc5a9d15a": {
          "model_module": "@jupyter-widgets/controls",
          "model_module_version": "1.5.0",
          "model_name": "DescriptionStyleModel",
          "state": {
            "_model_module": "@jupyter-widgets/controls",
            "_model_module_version": "1.5.0",
            "_model_name": "DescriptionStyleModel",
            "_view_count": null,
            "_view_module": "@jupyter-widgets/base",
            "_view_module_version": "1.2.0",
            "_view_name": "StyleView",
            "description_width": ""
          }
        },
        "6910e94d9bb94bdd8361584409a8f4a2": {
          "model_module": "@jupyter-widgets/base",
          "model_module_version": "1.2.0",
          "model_name": "LayoutModel",
          "state": {
            "_model_module": "@jupyter-widgets/base",
            "_model_module_version": "1.2.0",
            "_model_name": "LayoutModel",
            "_view_count": null,
            "_view_module": "@jupyter-widgets/base",
            "_view_module_version": "1.2.0",
            "_view_name": "LayoutView",
            "align_content": null,
            "align_items": null,
            "align_self": null,
            "border": null,
            "bottom": null,
            "display": null,
            "flex": null,
            "flex_flow": null,
            "grid_area": null,
            "grid_auto_columns": null,
            "grid_auto_flow": null,
            "grid_auto_rows": null,
            "grid_column": null,
            "grid_gap": null,
            "grid_row": null,
            "grid_template_areas": null,
            "grid_template_columns": null,
            "grid_template_rows": null,
            "height": null,
            "justify_content": null,
            "justify_items": null,
            "left": null,
            "margin": null,
            "max_height": null,
            "max_width": null,
            "min_height": null,
            "min_width": null,
            "object_fit": null,
            "object_position": null,
            "order": null,
            "overflow": null,
            "overflow_x": null,
            "overflow_y": null,
            "padding": null,
            "right": null,
            "top": null,
            "visibility": null,
            "width": null
          }
        },
        "6a51fec6a06d476192d9af93c331addf": {
          "model_module": "@jupyter-widgets/base",
          "model_module_version": "1.2.0",
          "model_name": "LayoutModel",
          "state": {
            "_model_module": "@jupyter-widgets/base",
            "_model_module_version": "1.2.0",
            "_model_name": "LayoutModel",
            "_view_count": null,
            "_view_module": "@jupyter-widgets/base",
            "_view_module_version": "1.2.0",
            "_view_name": "LayoutView",
            "align_content": null,
            "align_items": null,
            "align_self": null,
            "border": null,
            "bottom": null,
            "display": null,
            "flex": null,
            "flex_flow": null,
            "grid_area": null,
            "grid_auto_columns": null,
            "grid_auto_flow": null,
            "grid_auto_rows": null,
            "grid_column": null,
            "grid_gap": null,
            "grid_row": null,
            "grid_template_areas": null,
            "grid_template_columns": null,
            "grid_template_rows": null,
            "height": null,
            "justify_content": null,
            "justify_items": null,
            "left": null,
            "margin": null,
            "max_height": null,
            "max_width": null,
            "min_height": null,
            "min_width": null,
            "object_fit": null,
            "object_position": null,
            "order": null,
            "overflow": null,
            "overflow_x": null,
            "overflow_y": null,
            "padding": null,
            "right": null,
            "top": null,
            "visibility": null,
            "width": null
          }
        },
        "6c817043340a4fdc9d80483472f2d9e5": {
          "model_module": "@jupyter-widgets/controls",
          "model_module_version": "1.5.0",
          "model_name": "DescriptionStyleModel",
          "state": {
            "_model_module": "@jupyter-widgets/controls",
            "_model_module_version": "1.5.0",
            "_model_name": "DescriptionStyleModel",
            "_view_count": null,
            "_view_module": "@jupyter-widgets/base",
            "_view_module_version": "1.2.0",
            "_view_name": "StyleView",
            "description_width": ""
          }
        },
        "72bf329d69b54abc8bdd83b2e1c1cd6b": {
          "model_module": "@jupyter-widgets/controls",
          "model_module_version": "1.5.0",
          "model_name": "HTMLModel",
          "state": {
            "_dom_classes": [],
            "_model_module": "@jupyter-widgets/controls",
            "_model_module_version": "1.5.0",
            "_model_name": "HTMLModel",
            "_view_count": null,
            "_view_module": "@jupyter-widgets/controls",
            "_view_module_version": "1.5.0",
            "_view_name": "HTMLView",
            "description": "",
            "description_tooltip": null,
            "layout": "IPY_MODEL_43203ad5e51a4d8eb1515ea135cb268a",
            "placeholder": "​",
            "style": "IPY_MODEL_faccdaa4a1b6442491dcad4602ee39fc",
            "value": " 8/8 [01:46&lt;00:00, 11.34s/batch]"
          }
        },
        "74d5275387624057a1ecfab4acbc02f2": {
          "model_module": "@jupyter-widgets/base",
          "model_module_version": "1.2.0",
          "model_name": "LayoutModel",
          "state": {
            "_model_module": "@jupyter-widgets/base",
            "_model_module_version": "1.2.0",
            "_model_name": "LayoutModel",
            "_view_count": null,
            "_view_module": "@jupyter-widgets/base",
            "_view_module_version": "1.2.0",
            "_view_name": "LayoutView",
            "align_content": null,
            "align_items": null,
            "align_self": null,
            "border": null,
            "bottom": null,
            "display": null,
            "flex": null,
            "flex_flow": null,
            "grid_area": null,
            "grid_auto_columns": null,
            "grid_auto_flow": null,
            "grid_auto_rows": null,
            "grid_column": null,
            "grid_gap": null,
            "grid_row": null,
            "grid_template_areas": null,
            "grid_template_columns": null,
            "grid_template_rows": null,
            "height": null,
            "justify_content": null,
            "justify_items": null,
            "left": null,
            "margin": null,
            "max_height": null,
            "max_width": null,
            "min_height": null,
            "min_width": null,
            "object_fit": null,
            "object_position": null,
            "order": null,
            "overflow": null,
            "overflow_x": null,
            "overflow_y": null,
            "padding": null,
            "right": null,
            "top": null,
            "visibility": null,
            "width": null
          }
        },
        "794d719cdaf046628e18a0f0846206a2": {
          "model_module": "@jupyter-widgets/controls",
          "model_module_version": "1.5.0",
          "model_name": "HTMLModel",
          "state": {
            "_dom_classes": [],
            "_model_module": "@jupyter-widgets/controls",
            "_model_module_version": "1.5.0",
            "_model_name": "HTMLModel",
            "_view_count": null,
            "_view_module": "@jupyter-widgets/controls",
            "_view_module_version": "1.5.0",
            "_view_name": "HTMLView",
            "description": "",
            "description_tooltip": null,
            "layout": "IPY_MODEL_7e42e5d4f9364512957f3222997e3fa7",
            "placeholder": "​",
            "style": "IPY_MODEL_30fc623da02d4fb7a7a6111a52ff042a",
            "value": "Filtering recommendations: 100%"
          }
        },
        "79c1a096c7324e61818a3375a3833384": {
          "model_module": "@jupyter-widgets/controls",
          "model_module_version": "1.5.0",
          "model_name": "FloatProgressModel",
          "state": {
            "_dom_classes": [],
            "_model_module": "@jupyter-widgets/controls",
            "_model_module_version": "1.5.0",
            "_model_name": "FloatProgressModel",
            "_view_count": null,
            "_view_module": "@jupyter-widgets/controls",
            "_view_module_version": "1.5.0",
            "_view_name": "ProgressView",
            "bar_style": "success",
            "description": "",
            "description_tooltip": null,
            "layout": "IPY_MODEL_74d5275387624057a1ecfab4acbc02f2",
            "max": 5266,
            "min": 0,
            "orientation": "horizontal",
            "style": "IPY_MODEL_daddb4e026ee43889ee72ae8efe82bf7",
            "value": 5266
          }
        },
        "7c5683cef43741799ba7695c34a38ff5": {
          "model_module": "@jupyter-widgets/base",
          "model_module_version": "1.2.0",
          "model_name": "LayoutModel",
          "state": {
            "_model_module": "@jupyter-widgets/base",
            "_model_module_version": "1.2.0",
            "_model_name": "LayoutModel",
            "_view_count": null,
            "_view_module": "@jupyter-widgets/base",
            "_view_module_version": "1.2.0",
            "_view_name": "LayoutView",
            "align_content": null,
            "align_items": null,
            "align_self": null,
            "border": null,
            "bottom": null,
            "display": null,
            "flex": null,
            "flex_flow": null,
            "grid_area": null,
            "grid_auto_columns": null,
            "grid_auto_flow": null,
            "grid_auto_rows": null,
            "grid_column": null,
            "grid_gap": null,
            "grid_row": null,
            "grid_template_areas": null,
            "grid_template_columns": null,
            "grid_template_rows": null,
            "height": null,
            "justify_content": null,
            "justify_items": null,
            "left": null,
            "margin": null,
            "max_height": null,
            "max_width": null,
            "min_height": null,
            "min_width": null,
            "object_fit": null,
            "object_position": null,
            "order": null,
            "overflow": null,
            "overflow_x": null,
            "overflow_y": null,
            "padding": null,
            "right": null,
            "top": null,
            "visibility": null,
            "width": null
          }
        },
        "7e42e5d4f9364512957f3222997e3fa7": {
          "model_module": "@jupyter-widgets/base",
          "model_module_version": "1.2.0",
          "model_name": "LayoutModel",
          "state": {
            "_model_module": "@jupyter-widgets/base",
            "_model_module_version": "1.2.0",
            "_model_name": "LayoutModel",
            "_view_count": null,
            "_view_module": "@jupyter-widgets/base",
            "_view_module_version": "1.2.0",
            "_view_name": "LayoutView",
            "align_content": null,
            "align_items": null,
            "align_self": null,
            "border": null,
            "bottom": null,
            "display": null,
            "flex": null,
            "flex_flow": null,
            "grid_area": null,
            "grid_auto_columns": null,
            "grid_auto_flow": null,
            "grid_auto_rows": null,
            "grid_column": null,
            "grid_gap": null,
            "grid_row": null,
            "grid_template_areas": null,
            "grid_template_columns": null,
            "grid_template_rows": null,
            "height": null,
            "justify_content": null,
            "justify_items": null,
            "left": null,
            "margin": null,
            "max_height": null,
            "max_width": null,
            "min_height": null,
            "min_width": null,
            "object_fit": null,
            "object_position": null,
            "order": null,
            "overflow": null,
            "overflow_x": null,
            "overflow_y": null,
            "padding": null,
            "right": null,
            "top": null,
            "visibility": null,
            "width": null
          }
        },
        "8541e523ca854f96b3709c069a58d149": {
          "model_module": "@jupyter-widgets/controls",
          "model_module_version": "1.5.0",
          "model_name": "FloatProgressModel",
          "state": {
            "_dom_classes": [],
            "_model_module": "@jupyter-widgets/controls",
            "_model_module_version": "1.5.0",
            "_model_name": "FloatProgressModel",
            "_view_count": null,
            "_view_module": "@jupyter-widgets/controls",
            "_view_module_version": "1.5.0",
            "_view_name": "ProgressView",
            "bar_style": "success",
            "description": "",
            "description_tooltip": null,
            "layout": "IPY_MODEL_e4eae59cc8ec4dba81cc9f138eb81a77",
            "max": 235,
            "min": 0,
            "orientation": "horizontal",
            "style": "IPY_MODEL_bcae305f58734d6db5f375961d81c006",
            "value": 235
          }
        },
        "85e32fbac2c8497883d300bf12c0c7c9": {
          "model_module": "@jupyter-widgets/controls",
          "model_module_version": "1.5.0",
          "model_name": "HTMLModel",
          "state": {
            "_dom_classes": [],
            "_model_module": "@jupyter-widgets/controls",
            "_model_module_version": "1.5.0",
            "_model_name": "HTMLModel",
            "_view_count": null,
            "_view_module": "@jupyter-widgets/controls",
            "_view_module_version": "1.5.0",
            "_view_name": "HTMLView",
            "description": "",
            "description_tooltip": null,
            "layout": "IPY_MODEL_9b6c78b6d84d4944ab293119e60cab51",
            "placeholder": "​",
            "style": "IPY_MODEL_9aeaf2dd1539412897e631a9dad627e6",
            "value": "Filtering recommendations: 100%"
          }
        },
        "87cd16dcba2949cda7b8314dbb63e7df": {
          "model_module": "@jupyter-widgets/controls",
          "model_module_version": "1.5.0",
          "model_name": "HBoxModel",
          "state": {
            "_dom_classes": [],
            "_model_module": "@jupyter-widgets/controls",
            "_model_module_version": "1.5.0",
            "_model_name": "HBoxModel",
            "_view_count": null,
            "_view_module": "@jupyter-widgets/controls",
            "_view_module_version": "1.5.0",
            "_view_name": "HBoxView",
            "box_style": "",
            "children": [
              "IPY_MODEL_9430d3edbf994ab596dc7f9e0eb47e77",
              "IPY_MODEL_87e56d27cdcb4ceeaf8d3dda2b290d36",
              "IPY_MODEL_72bf329d69b54abc8bdd83b2e1c1cd6b"
            ],
            "layout": "IPY_MODEL_3705c08120b04f97b2950df60260630d"
          }
        },
        "87e56d27cdcb4ceeaf8d3dda2b290d36": {
          "model_module": "@jupyter-widgets/controls",
          "model_module_version": "1.5.0",
          "model_name": "FloatProgressModel",
          "state": {
            "_dom_classes": [],
            "_model_module": "@jupyter-widgets/controls",
            "_model_module_version": "1.5.0",
            "_model_name": "FloatProgressModel",
            "_view_count": null,
            "_view_module": "@jupyter-widgets/controls",
            "_view_module_version": "1.5.0",
            "_view_name": "ProgressView",
            "bar_style": "success",
            "description": "",
            "description_tooltip": null,
            "layout": "IPY_MODEL_535cce583a5a430991f706eef500a016",
            "max": 8,
            "min": 0,
            "orientation": "horizontal",
            "style": "IPY_MODEL_40f8fc68fb854b8ea88712b19464ac9c",
            "value": 8
          }
        },
        "8b7fef5a76314037b1333ad9a5072251": {
          "model_module": "@jupyter-widgets/controls",
          "model_module_version": "1.5.0",
          "model_name": "FloatProgressModel",
          "state": {
            "_dom_classes": [],
            "_model_module": "@jupyter-widgets/controls",
            "_model_module_version": "1.5.0",
            "_model_name": "FloatProgressModel",
            "_view_count": null,
            "_view_module": "@jupyter-widgets/controls",
            "_view_module_version": "1.5.0",
            "_view_name": "ProgressView",
            "bar_style": "success",
            "description": "",
            "description_tooltip": null,
            "layout": "IPY_MODEL_6a51fec6a06d476192d9af93c331addf",
            "max": 16384,
            "min": 0,
            "orientation": "horizontal",
            "style": "IPY_MODEL_537538491ada4cdd968f8237f5a47726",
            "value": 16384
          }
        },
        "8c7904088100434eba5dff30919c9474": {
          "model_module": "@jupyter-widgets/base",
          "model_module_version": "1.2.0",
          "model_name": "LayoutModel",
          "state": {
            "_model_module": "@jupyter-widgets/base",
            "_model_module_version": "1.2.0",
            "_model_name": "LayoutModel",
            "_view_count": null,
            "_view_module": "@jupyter-widgets/base",
            "_view_module_version": "1.2.0",
            "_view_name": "LayoutView",
            "align_content": null,
            "align_items": null,
            "align_self": null,
            "border": null,
            "bottom": null,
            "display": null,
            "flex": null,
            "flex_flow": null,
            "grid_area": null,
            "grid_auto_columns": null,
            "grid_auto_flow": null,
            "grid_auto_rows": null,
            "grid_column": null,
            "grid_gap": null,
            "grid_row": null,
            "grid_template_areas": null,
            "grid_template_columns": null,
            "grid_template_rows": null,
            "height": null,
            "justify_content": null,
            "justify_items": null,
            "left": null,
            "margin": null,
            "max_height": null,
            "max_width": null,
            "min_height": null,
            "min_width": null,
            "object_fit": null,
            "object_position": null,
            "order": null,
            "overflow": null,
            "overflow_x": null,
            "overflow_y": null,
            "padding": null,
            "right": null,
            "top": null,
            "visibility": null,
            "width": null
          }
        },
        "92858eef61404fb9a351a3dff1a27bdf": {
          "model_module": "@jupyter-widgets/controls",
          "model_module_version": "1.5.0",
          "model_name": "HBoxModel",
          "state": {
            "_dom_classes": [],
            "_model_module": "@jupyter-widgets/controls",
            "_model_module_version": "1.5.0",
            "_model_name": "HBoxModel",
            "_view_count": null,
            "_view_module": "@jupyter-widgets/controls",
            "_view_module_version": "1.5.0",
            "_view_name": "HBoxView",
            "box_style": "",
            "children": [
              "IPY_MODEL_db7c945ad54d48f8881920874f31f53f",
              "IPY_MODEL_8b7fef5a76314037b1333ad9a5072251",
              "IPY_MODEL_190952f1b0f1458baa052335caad843f"
            ],
            "layout": "IPY_MODEL_5ae3030c35c64ff9914018686d243018"
          }
        },
        "92e81cadee6644db8edc2ac93c92bd1b": {
          "model_module": "@jupyter-widgets/controls",
          "model_module_version": "1.5.0",
          "model_name": "HTMLModel",
          "state": {
            "_dom_classes": [],
            "_model_module": "@jupyter-widgets/controls",
            "_model_module_version": "1.5.0",
            "_model_name": "HTMLModel",
            "_view_count": null,
            "_view_module": "@jupyter-widgets/controls",
            "_view_module_version": "1.5.0",
            "_view_name": "HTMLView",
            "description": "",
            "description_tooltip": null,
            "layout": "IPY_MODEL_c3f4e96339684d8aae98b144a11a59dc",
            "placeholder": "​",
            "style": "IPY_MODEL_e4e536ff33b9437b8e2b2b5e3f07a97b",
            "value": " 16384/16384 [00:11&lt;00:00, 961.72it/s]"
          }
        },
        "92f05bd975a04958a256613f1aead00c": {
          "model_module": "@jupyter-widgets/base",
          "model_module_version": "1.2.0",
          "model_name": "LayoutModel",
          "state": {
            "_model_module": "@jupyter-widgets/base",
            "_model_module_version": "1.2.0",
            "_model_name": "LayoutModel",
            "_view_count": null,
            "_view_module": "@jupyter-widgets/base",
            "_view_module_version": "1.2.0",
            "_view_name": "LayoutView",
            "align_content": null,
            "align_items": null,
            "align_self": null,
            "border": null,
            "bottom": null,
            "display": null,
            "flex": null,
            "flex_flow": null,
            "grid_area": null,
            "grid_auto_columns": null,
            "grid_auto_flow": null,
            "grid_auto_rows": null,
            "grid_column": null,
            "grid_gap": null,
            "grid_row": null,
            "grid_template_areas": null,
            "grid_template_columns": null,
            "grid_template_rows": null,
            "height": null,
            "justify_content": null,
            "justify_items": null,
            "left": null,
            "margin": null,
            "max_height": null,
            "max_width": null,
            "min_height": null,
            "min_width": null,
            "object_fit": null,
            "object_position": null,
            "order": null,
            "overflow": null,
            "overflow_x": null,
            "overflow_y": null,
            "padding": null,
            "right": null,
            "top": null,
            "visibility": null,
            "width": null
          }
        },
        "9430d3edbf994ab596dc7f9e0eb47e77": {
          "model_module": "@jupyter-widgets/controls",
          "model_module_version": "1.5.0",
          "model_name": "HTMLModel",
          "state": {
            "_dom_classes": [],
            "_model_module": "@jupyter-widgets/controls",
            "_model_module_version": "1.5.0",
            "_model_name": "HTMLModel",
            "_view_count": null,
            "_view_module": "@jupyter-widgets/controls",
            "_view_module_version": "1.5.0",
            "_view_name": "HTMLView",
            "description": "",
            "description_tooltip": null,
            "layout": "IPY_MODEL_dd7c785b889541b7a6c9a095963df3c7",
            "placeholder": "​",
            "style": "IPY_MODEL_32d4f9acb63f442eb4921fc5ffdec469",
            "value": "Validation: 100%"
          }
        },
        "97cfc540a3254a5ca030d383dceacc9d": {
          "model_module": "@jupyter-widgets/controls",
          "model_module_version": "1.5.0",
          "model_name": "HTMLModel",
          "state": {
            "_dom_classes": [],
            "_model_module": "@jupyter-widgets/controls",
            "_model_module_version": "1.5.0",
            "_model_name": "HTMLModel",
            "_view_count": null,
            "_view_module": "@jupyter-widgets/controls",
            "_view_module_version": "1.5.0",
            "_view_name": "HTMLView",
            "description": "",
            "description_tooltip": null,
            "layout": "IPY_MODEL_2add5e85afb84b579f23fd436e597671",
            "placeholder": "​",
            "style": "IPY_MODEL_37548681d1064bb795356fe614a04672",
            "value": " 16384/16384 [00:11&lt;00:00, 1749.80it/s]"
          }
        },
        "97d0ad85d8854d25bc5341bee7b426e8": {
          "model_module": "@jupyter-widgets/controls",
          "model_module_version": "1.5.0",
          "model_name": "HTMLModel",
          "state": {
            "_dom_classes": [],
            "_model_module": "@jupyter-widgets/controls",
            "_model_module_version": "1.5.0",
            "_model_name": "HTMLModel",
            "_view_count": null,
            "_view_module": "@jupyter-widgets/controls",
            "_view_module_version": "1.5.0",
            "_view_name": "HTMLView",
            "description": "",
            "description_tooltip": null,
            "layout": "IPY_MODEL_532a57eed9f94d07a78b1692d1ed9f5e",
            "placeholder": "​",
            "style": "IPY_MODEL_b35e5f8867bc4e74878e7e756258b5e8",
            "value": "Training:   0%"
          }
        },
        "99330e6b65a4448baa484e06606e043f": {
          "model_module": "@jupyter-widgets/base",
          "model_module_version": "1.2.0",
          "model_name": "LayoutModel",
          "state": {
            "_model_module": "@jupyter-widgets/base",
            "_model_module_version": "1.2.0",
            "_model_name": "LayoutModel",
            "_view_count": null,
            "_view_module": "@jupyter-widgets/base",
            "_view_module_version": "1.2.0",
            "_view_name": "LayoutView",
            "align_content": null,
            "align_items": null,
            "align_self": null,
            "border": null,
            "bottom": null,
            "display": null,
            "flex": null,
            "flex_flow": null,
            "grid_area": null,
            "grid_auto_columns": null,
            "grid_auto_flow": null,
            "grid_auto_rows": null,
            "grid_column": null,
            "grid_gap": null,
            "grid_row": null,
            "grid_template_areas": null,
            "grid_template_columns": null,
            "grid_template_rows": null,
            "height": null,
            "justify_content": null,
            "justify_items": null,
            "left": null,
            "margin": null,
            "max_height": null,
            "max_width": null,
            "min_height": null,
            "min_width": null,
            "object_fit": null,
            "object_position": null,
            "order": null,
            "overflow": null,
            "overflow_x": null,
            "overflow_y": null,
            "padding": null,
            "right": null,
            "top": null,
            "visibility": null,
            "width": null
          }
        },
        "9aeaf2dd1539412897e631a9dad627e6": {
          "model_module": "@jupyter-widgets/controls",
          "model_module_version": "1.5.0",
          "model_name": "DescriptionStyleModel",
          "state": {
            "_model_module": "@jupyter-widgets/controls",
            "_model_module_version": "1.5.0",
            "_model_name": "DescriptionStyleModel",
            "_view_count": null,
            "_view_module": "@jupyter-widgets/base",
            "_view_module_version": "1.2.0",
            "_view_name": "StyleView",
            "description_width": ""
          }
        },
        "9b6c78b6d84d4944ab293119e60cab51": {
          "model_module": "@jupyter-widgets/base",
          "model_module_version": "1.2.0",
          "model_name": "LayoutModel",
          "state": {
            "_model_module": "@jupyter-widgets/base",
            "_model_module_version": "1.2.0",
            "_model_name": "LayoutModel",
            "_view_count": null,
            "_view_module": "@jupyter-widgets/base",
            "_view_module_version": "1.2.0",
            "_view_name": "LayoutView",
            "align_content": null,
            "align_items": null,
            "align_self": null,
            "border": null,
            "bottom": null,
            "display": null,
            "flex": null,
            "flex_flow": null,
            "grid_area": null,
            "grid_auto_columns": null,
            "grid_auto_flow": null,
            "grid_auto_rows": null,
            "grid_column": null,
            "grid_gap": null,
            "grid_row": null,
            "grid_template_areas": null,
            "grid_template_columns": null,
            "grid_template_rows": null,
            "height": null,
            "justify_content": null,
            "justify_items": null,
            "left": null,
            "margin": null,
            "max_height": null,
            "max_width": null,
            "min_height": null,
            "min_width": null,
            "object_fit": null,
            "object_position": null,
            "order": null,
            "overflow": null,
            "overflow_x": null,
            "overflow_y": null,
            "padding": null,
            "right": null,
            "top": null,
            "visibility": null,
            "width": null
          }
        },
        "9bc29f24bb0b4695a26f77fb8af70a24": {
          "model_module": "@jupyter-widgets/controls",
          "model_module_version": "1.5.0",
          "model_name": "HBoxModel",
          "state": {
            "_dom_classes": [],
            "_model_module": "@jupyter-widgets/controls",
            "_model_module_version": "1.5.0",
            "_model_name": "HBoxModel",
            "_view_count": null,
            "_view_module": "@jupyter-widgets/controls",
            "_view_module_version": "1.5.0",
            "_view_name": "HBoxView",
            "box_style": "",
            "children": [
              "IPY_MODEL_97d0ad85d8854d25bc5341bee7b426e8",
              "IPY_MODEL_136186880efa4e649fa88d764a4a3eb3",
              "IPY_MODEL_43273e610c7542a695c4b4f6df005fb2"
            ],
            "layout": "IPY_MODEL_335e72ce46ab4252b7e582c6e93eeb9e"
          }
        },
        "9d32230783364b8b9a9200281ec0d6cc": {
          "model_module": "@jupyter-widgets/base",
          "model_module_version": "1.2.0",
          "model_name": "LayoutModel",
          "state": {
            "_model_module": "@jupyter-widgets/base",
            "_model_module_version": "1.2.0",
            "_model_name": "LayoutModel",
            "_view_count": null,
            "_view_module": "@jupyter-widgets/base",
            "_view_module_version": "1.2.0",
            "_view_name": "LayoutView",
            "align_content": null,
            "align_items": null,
            "align_self": null,
            "border": null,
            "bottom": null,
            "display": null,
            "flex": null,
            "flex_flow": null,
            "grid_area": null,
            "grid_auto_columns": null,
            "grid_auto_flow": null,
            "grid_auto_rows": null,
            "grid_column": null,
            "grid_gap": null,
            "grid_row": null,
            "grid_template_areas": null,
            "grid_template_columns": null,
            "grid_template_rows": null,
            "height": null,
            "justify_content": null,
            "justify_items": null,
            "left": null,
            "margin": null,
            "max_height": null,
            "max_width": null,
            "min_height": null,
            "min_width": null,
            "object_fit": null,
            "object_position": null,
            "order": null,
            "overflow": null,
            "overflow_x": null,
            "overflow_y": null,
            "padding": null,
            "right": null,
            "top": null,
            "visibility": null,
            "width": null
          }
        },
        "a10e16eb72ff4881a289482d91b968e7": {
          "model_module": "@jupyter-widgets/controls",
          "model_module_version": "1.5.0",
          "model_name": "ProgressStyleModel",
          "state": {
            "_model_module": "@jupyter-widgets/controls",
            "_model_module_version": "1.5.0",
            "_model_name": "ProgressStyleModel",
            "_view_count": null,
            "_view_module": "@jupyter-widgets/base",
            "_view_module_version": "1.2.0",
            "_view_name": "StyleView",
            "bar_color": null,
            "description_width": ""
          }
        },
        "a201254b1dd944748bf30eb936735175": {
          "model_module": "@jupyter-widgets/controls",
          "model_module_version": "1.5.0",
          "model_name": "HBoxModel",
          "state": {
            "_dom_classes": [],
            "_model_module": "@jupyter-widgets/controls",
            "_model_module_version": "1.5.0",
            "_model_name": "HBoxModel",
            "_view_count": null,
            "_view_module": "@jupyter-widgets/controls",
            "_view_module_version": "1.5.0",
            "_view_name": "HBoxView",
            "box_style": "",
            "children": [
              "IPY_MODEL_def74d36c72d4c5d86c2abe2c4e1cdca",
              "IPY_MODEL_aed2c3d4604f4afeaae1ff63523ca9eb",
              "IPY_MODEL_5ab162da0cd94a78b9c4fcd9b2df9e39"
            ],
            "layout": "IPY_MODEL_55bcb0d5108546f0afcf87a080c1936b"
          }
        },
        "aa9efc06afdf42298225d884ef8b095c": {
          "model_module": "@jupyter-widgets/controls",
          "model_module_version": "1.5.0",
          "model_name": "ProgressStyleModel",
          "state": {
            "_model_module": "@jupyter-widgets/controls",
            "_model_module_version": "1.5.0",
            "_model_name": "ProgressStyleModel",
            "_view_count": null,
            "_view_module": "@jupyter-widgets/base",
            "_view_module_version": "1.2.0",
            "_view_name": "StyleView",
            "bar_color": null,
            "description_width": ""
          }
        },
        "ae8366af912e41c3bd1013b9d637a273": {
          "model_module": "@jupyter-widgets/base",
          "model_module_version": "1.2.0",
          "model_name": "LayoutModel",
          "state": {
            "_model_module": "@jupyter-widgets/base",
            "_model_module_version": "1.2.0",
            "_model_name": "LayoutModel",
            "_view_count": null,
            "_view_module": "@jupyter-widgets/base",
            "_view_module_version": "1.2.0",
            "_view_name": "LayoutView",
            "align_content": null,
            "align_items": null,
            "align_self": null,
            "border": null,
            "bottom": null,
            "display": null,
            "flex": null,
            "flex_flow": null,
            "grid_area": null,
            "grid_auto_columns": null,
            "grid_auto_flow": null,
            "grid_auto_rows": null,
            "grid_column": null,
            "grid_gap": null,
            "grid_row": null,
            "grid_template_areas": null,
            "grid_template_columns": null,
            "grid_template_rows": null,
            "height": null,
            "justify_content": null,
            "justify_items": null,
            "left": null,
            "margin": null,
            "max_height": null,
            "max_width": null,
            "min_height": null,
            "min_width": null,
            "object_fit": null,
            "object_position": null,
            "order": null,
            "overflow": null,
            "overflow_x": null,
            "overflow_y": null,
            "padding": null,
            "right": null,
            "top": null,
            "visibility": null,
            "width": null
          }
        },
        "aed2c3d4604f4afeaae1ff63523ca9eb": {
          "model_module": "@jupyter-widgets/controls",
          "model_module_version": "1.5.0",
          "model_name": "FloatProgressModel",
          "state": {
            "_dom_classes": [],
            "_model_module": "@jupyter-widgets/controls",
            "_model_module_version": "1.5.0",
            "_model_name": "FloatProgressModel",
            "_view_count": null,
            "_view_module": "@jupyter-widgets/controls",
            "_view_module_version": "1.5.0",
            "_view_name": "ProgressView",
            "bar_style": "success",
            "description": "",
            "description_tooltip": null,
            "layout": "IPY_MODEL_1281ade729f14942b46c6a97637723ec",
            "max": 16384,
            "min": 0,
            "orientation": "horizontal",
            "style": "IPY_MODEL_a10e16eb72ff4881a289482d91b968e7",
            "value": 16384
          }
        },
        "b3135242ce234e14874c5e002f8e3909": {
          "model_module": "@jupyter-widgets/controls",
          "model_module_version": "1.5.0",
          "model_name": "HTMLModel",
          "state": {
            "_dom_classes": [],
            "_model_module": "@jupyter-widgets/controls",
            "_model_module_version": "1.5.0",
            "_model_name": "HTMLModel",
            "_view_count": null,
            "_view_module": "@jupyter-widgets/controls",
            "_view_module_version": "1.5.0",
            "_view_name": "HTMLView",
            "description": "",
            "description_tooltip": null,
            "layout": "IPY_MODEL_3b8603eb78b04837a8c1a2d1450da78d",
            "placeholder": "​",
            "style": "IPY_MODEL_6100eae6b7ea49adbacef940df5de8df",
            "value": " 16384/16384 [00:10&lt;00:00, 1026.11it/s]"
          }
        },
        "b35e5f8867bc4e74878e7e756258b5e8": {
          "model_module": "@jupyter-widgets/controls",
          "model_module_version": "1.5.0",
          "model_name": "DescriptionStyleModel",
          "state": {
            "_model_module": "@jupyter-widgets/controls",
            "_model_module_version": "1.5.0",
            "_model_name": "DescriptionStyleModel",
            "_view_count": null,
            "_view_module": "@jupyter-widgets/base",
            "_view_module_version": "1.2.0",
            "_view_name": "StyleView",
            "description_width": ""
          }
        },
        "b72a9db83aaf476580df4640460721ce": {
          "model_module": "@jupyter-widgets/controls",
          "model_module_version": "1.5.0",
          "model_name": "ProgressStyleModel",
          "state": {
            "_model_module": "@jupyter-widgets/controls",
            "_model_module_version": "1.5.0",
            "_model_name": "ProgressStyleModel",
            "_view_count": null,
            "_view_module": "@jupyter-widgets/base",
            "_view_module_version": "1.2.0",
            "_view_name": "StyleView",
            "bar_color": null,
            "description_width": ""
          }
        },
        "bcae305f58734d6db5f375961d81c006": {
          "model_module": "@jupyter-widgets/controls",
          "model_module_version": "1.5.0",
          "model_name": "ProgressStyleModel",
          "state": {
            "_model_module": "@jupyter-widgets/controls",
            "_model_module_version": "1.5.0",
            "_model_name": "ProgressStyleModel",
            "_view_count": null,
            "_view_module": "@jupyter-widgets/base",
            "_view_module_version": "1.2.0",
            "_view_name": "StyleView",
            "bar_color": null,
            "description_width": ""
          }
        },
        "bcb80fb17e0b433c8294871c5a8adca9": {
          "model_module": "@jupyter-widgets/base",
          "model_module_version": "1.2.0",
          "model_name": "LayoutModel",
          "state": {
            "_model_module": "@jupyter-widgets/base",
            "_model_module_version": "1.2.0",
            "_model_name": "LayoutModel",
            "_view_count": null,
            "_view_module": "@jupyter-widgets/base",
            "_view_module_version": "1.2.0",
            "_view_name": "LayoutView",
            "align_content": null,
            "align_items": null,
            "align_self": null,
            "border": null,
            "bottom": null,
            "display": null,
            "flex": null,
            "flex_flow": null,
            "grid_area": null,
            "grid_auto_columns": null,
            "grid_auto_flow": null,
            "grid_auto_rows": null,
            "grid_column": null,
            "grid_gap": null,
            "grid_row": null,
            "grid_template_areas": null,
            "grid_template_columns": null,
            "grid_template_rows": null,
            "height": null,
            "justify_content": null,
            "justify_items": null,
            "left": null,
            "margin": null,
            "max_height": null,
            "max_width": null,
            "min_height": null,
            "min_width": null,
            "object_fit": null,
            "object_position": null,
            "order": null,
            "overflow": null,
            "overflow_x": null,
            "overflow_y": null,
            "padding": null,
            "right": null,
            "top": null,
            "visibility": null,
            "width": null
          }
        },
        "bdeadaf1b5d44385972405288537d2d6": {
          "model_module": "@jupyter-widgets/controls",
          "model_module_version": "1.5.0",
          "model_name": "HTMLModel",
          "state": {
            "_dom_classes": [],
            "_model_module": "@jupyter-widgets/controls",
            "_model_module_version": "1.5.0",
            "_model_name": "HTMLModel",
            "_view_count": null,
            "_view_module": "@jupyter-widgets/controls",
            "_view_module_version": "1.5.0",
            "_view_name": "HTMLView",
            "description": "",
            "description_tooltip": null,
            "layout": "IPY_MODEL_92f05bd975a04958a256613f1aead00c",
            "placeholder": "​",
            "style": "IPY_MODEL_d2f9664608d24211aff65907c31d044d",
            "value": " 235/235 [01:06&lt;00:00,  8.56batch/s]"
          }
        },
        "c3f4e96339684d8aae98b144a11a59dc": {
          "model_module": "@jupyter-widgets/base",
          "model_module_version": "1.2.0",
          "model_name": "LayoutModel",
          "state": {
            "_model_module": "@jupyter-widgets/base",
            "_model_module_version": "1.2.0",
            "_model_name": "LayoutModel",
            "_view_count": null,
            "_view_module": "@jupyter-widgets/base",
            "_view_module_version": "1.2.0",
            "_view_name": "LayoutView",
            "align_content": null,
            "align_items": null,
            "align_self": null,
            "border": null,
            "bottom": null,
            "display": null,
            "flex": null,
            "flex_flow": null,
            "grid_area": null,
            "grid_auto_columns": null,
            "grid_auto_flow": null,
            "grid_auto_rows": null,
            "grid_column": null,
            "grid_gap": null,
            "grid_row": null,
            "grid_template_areas": null,
            "grid_template_columns": null,
            "grid_template_rows": null,
            "height": null,
            "justify_content": null,
            "justify_items": null,
            "left": null,
            "margin": null,
            "max_height": null,
            "max_width": null,
            "min_height": null,
            "min_width": null,
            "object_fit": null,
            "object_position": null,
            "order": null,
            "overflow": null,
            "overflow_x": null,
            "overflow_y": null,
            "padding": null,
            "right": null,
            "top": null,
            "visibility": null,
            "width": null
          }
        },
        "c6b68c2a5d5143dd975fdb82ff24b21c": {
          "model_module": "@jupyter-widgets/controls",
          "model_module_version": "1.5.0",
          "model_name": "HBoxModel",
          "state": {
            "_dom_classes": [],
            "_model_module": "@jupyter-widgets/controls",
            "_model_module_version": "1.5.0",
            "_model_name": "HBoxModel",
            "_view_count": null,
            "_view_module": "@jupyter-widgets/controls",
            "_view_module_version": "1.5.0",
            "_view_name": "HBoxView",
            "box_style": "",
            "children": [
              "IPY_MODEL_794d719cdaf046628e18a0f0846206a2",
              "IPY_MODEL_3dd627fc3a024bb3ab4c93c7b76f86d7",
              "IPY_MODEL_97cfc540a3254a5ca030d383dceacc9d"
            ],
            "layout": "IPY_MODEL_0c322ad659d741338d4450bd8338b2d4"
          }
        },
        "caefd08c21524c70b506fddaf280a6b6": {
          "model_module": "@jupyter-widgets/controls",
          "model_module_version": "1.5.0",
          "model_name": "HBoxModel",
          "state": {
            "_dom_classes": [],
            "_model_module": "@jupyter-widgets/controls",
            "_model_module_version": "1.5.0",
            "_model_name": "HBoxModel",
            "_view_count": null,
            "_view_module": "@jupyter-widgets/controls",
            "_view_module_version": "1.5.0",
            "_view_name": "HBoxView",
            "box_style": "",
            "children": [
              "IPY_MODEL_560533067bcd4652889a20f5bc80c6b0",
              "IPY_MODEL_79c1a096c7324e61818a3375a3833384",
              "IPY_MODEL_f3ac6f26250141fab0ffc712a3b6396c"
            ],
            "layout": "IPY_MODEL_9d32230783364b8b9a9200281ec0d6cc"
          }
        },
        "cb72a1e27527402bb4de7e18ed2d6abc": {
          "model_module": "@jupyter-widgets/base",
          "model_module_version": "1.2.0",
          "model_name": "LayoutModel",
          "state": {
            "_model_module": "@jupyter-widgets/base",
            "_model_module_version": "1.2.0",
            "_model_name": "LayoutModel",
            "_view_count": null,
            "_view_module": "@jupyter-widgets/base",
            "_view_module_version": "1.2.0",
            "_view_name": "LayoutView",
            "align_content": null,
            "align_items": null,
            "align_self": null,
            "border": null,
            "bottom": null,
            "display": null,
            "flex": null,
            "flex_flow": null,
            "grid_area": null,
            "grid_auto_columns": null,
            "grid_auto_flow": null,
            "grid_auto_rows": null,
            "grid_column": null,
            "grid_gap": null,
            "grid_row": null,
            "grid_template_areas": null,
            "grid_template_columns": null,
            "grid_template_rows": null,
            "height": null,
            "justify_content": null,
            "justify_items": null,
            "left": null,
            "margin": null,
            "max_height": null,
            "max_width": null,
            "min_height": null,
            "min_width": null,
            "object_fit": null,
            "object_position": null,
            "order": null,
            "overflow": null,
            "overflow_x": null,
            "overflow_y": null,
            "padding": null,
            "right": null,
            "top": null,
            "visibility": null,
            "width": null
          }
        },
        "cb8d2b20fdcd4025ba82b9019428b88f": {
          "model_module": "@jupyter-widgets/base",
          "model_module_version": "1.2.0",
          "model_name": "LayoutModel",
          "state": {
            "_model_module": "@jupyter-widgets/base",
            "_model_module_version": "1.2.0",
            "_model_name": "LayoutModel",
            "_view_count": null,
            "_view_module": "@jupyter-widgets/base",
            "_view_module_version": "1.2.0",
            "_view_name": "LayoutView",
            "align_content": null,
            "align_items": null,
            "align_self": null,
            "border": null,
            "bottom": null,
            "display": null,
            "flex": null,
            "flex_flow": null,
            "grid_area": null,
            "grid_auto_columns": null,
            "grid_auto_flow": null,
            "grid_auto_rows": null,
            "grid_column": null,
            "grid_gap": null,
            "grid_row": null,
            "grid_template_areas": null,
            "grid_template_columns": null,
            "grid_template_rows": null,
            "height": null,
            "justify_content": null,
            "justify_items": null,
            "left": null,
            "margin": null,
            "max_height": null,
            "max_width": null,
            "min_height": null,
            "min_width": null,
            "object_fit": null,
            "object_position": null,
            "order": null,
            "overflow": null,
            "overflow_x": null,
            "overflow_y": null,
            "padding": null,
            "right": null,
            "top": null,
            "visibility": null,
            "width": null
          }
        },
        "cc86a3ca51fe4ce49057d146c9cce81d": {
          "model_module": "@jupyter-widgets/base",
          "model_module_version": "1.2.0",
          "model_name": "LayoutModel",
          "state": {
            "_model_module": "@jupyter-widgets/base",
            "_model_module_version": "1.2.0",
            "_model_name": "LayoutModel",
            "_view_count": null,
            "_view_module": "@jupyter-widgets/base",
            "_view_module_version": "1.2.0",
            "_view_name": "LayoutView",
            "align_content": null,
            "align_items": null,
            "align_self": null,
            "border": null,
            "bottom": null,
            "display": null,
            "flex": null,
            "flex_flow": null,
            "grid_area": null,
            "grid_auto_columns": null,
            "grid_auto_flow": null,
            "grid_auto_rows": null,
            "grid_column": null,
            "grid_gap": null,
            "grid_row": null,
            "grid_template_areas": null,
            "grid_template_columns": null,
            "grid_template_rows": null,
            "height": null,
            "justify_content": null,
            "justify_items": null,
            "left": null,
            "margin": null,
            "max_height": null,
            "max_width": null,
            "min_height": null,
            "min_width": null,
            "object_fit": null,
            "object_position": null,
            "order": null,
            "overflow": null,
            "overflow_x": null,
            "overflow_y": null,
            "padding": null,
            "right": null,
            "top": null,
            "visibility": null,
            "width": null
          }
        },
        "cfed3d54cfcc4576a87ab80eab4522bc": {
          "model_module": "@jupyter-widgets/controls",
          "model_module_version": "1.5.0",
          "model_name": "HBoxModel",
          "state": {
            "_dom_classes": [],
            "_model_module": "@jupyter-widgets/controls",
            "_model_module_version": "1.5.0",
            "_model_name": "HBoxModel",
            "_view_count": null,
            "_view_module": "@jupyter-widgets/controls",
            "_view_module_version": "1.5.0",
            "_view_name": "HBoxView",
            "box_style": "",
            "children": [
              "IPY_MODEL_16bbfdf5b3a1474ca4982afaebb2417e",
              "IPY_MODEL_fda8a1f70981404bbf6f4ca7d972eabf",
              "IPY_MODEL_92e81cadee6644db8edc2ac93c92bd1b"
            ],
            "layout": "IPY_MODEL_8c7904088100434eba5dff30919c9474"
          }
        },
        "d215f0abcc3a49de8a6956680fc1dc4d": {
          "model_module": "@jupyter-widgets/base",
          "model_module_version": "1.2.0",
          "model_name": "LayoutModel",
          "state": {
            "_model_module": "@jupyter-widgets/base",
            "_model_module_version": "1.2.0",
            "_model_name": "LayoutModel",
            "_view_count": null,
            "_view_module": "@jupyter-widgets/base",
            "_view_module_version": "1.2.0",
            "_view_name": "LayoutView",
            "align_content": null,
            "align_items": null,
            "align_self": null,
            "border": null,
            "bottom": null,
            "display": null,
            "flex": null,
            "flex_flow": null,
            "grid_area": null,
            "grid_auto_columns": null,
            "grid_auto_flow": null,
            "grid_auto_rows": null,
            "grid_column": null,
            "grid_gap": null,
            "grid_row": null,
            "grid_template_areas": null,
            "grid_template_columns": null,
            "grid_template_rows": null,
            "height": null,
            "justify_content": null,
            "justify_items": null,
            "left": null,
            "margin": null,
            "max_height": null,
            "max_width": null,
            "min_height": null,
            "min_width": null,
            "object_fit": null,
            "object_position": null,
            "order": null,
            "overflow": null,
            "overflow_x": null,
            "overflow_y": null,
            "padding": null,
            "right": null,
            "top": null,
            "visibility": null,
            "width": null
          }
        },
        "d2f9664608d24211aff65907c31d044d": {
          "model_module": "@jupyter-widgets/controls",
          "model_module_version": "1.5.0",
          "model_name": "DescriptionStyleModel",
          "state": {
            "_model_module": "@jupyter-widgets/controls",
            "_model_module_version": "1.5.0",
            "_model_name": "DescriptionStyleModel",
            "_view_count": null,
            "_view_module": "@jupyter-widgets/base",
            "_view_module_version": "1.2.0",
            "_view_name": "StyleView",
            "description_width": ""
          }
        },
        "d4efa94313f345f5998d10d9a194a38b": {
          "model_module": "@jupyter-widgets/controls",
          "model_module_version": "1.5.0",
          "model_name": "HTMLModel",
          "state": {
            "_dom_classes": [],
            "_model_module": "@jupyter-widgets/controls",
            "_model_module_version": "1.5.0",
            "_model_name": "HTMLModel",
            "_view_count": null,
            "_view_module": "@jupyter-widgets/controls",
            "_view_module_version": "1.5.0",
            "_view_name": "HTMLView",
            "description": "",
            "description_tooltip": null,
            "layout": "IPY_MODEL_fed9f97f8fdd4587aa6f29ff584f2bc8",
            "placeholder": "​",
            "style": "IPY_MODEL_fd7a7795356f4b16bf8dfe8484217688",
            "value": "Epoch 1/50: 100%"
          }
        },
        "d93d97e6eac5413d9498e5b06eab31ac": {
          "model_module": "@jupyter-widgets/controls",
          "model_module_version": "1.5.0",
          "model_name": "HBoxModel",
          "state": {
            "_dom_classes": [],
            "_model_module": "@jupyter-widgets/controls",
            "_model_module_version": "1.5.0",
            "_model_name": "HBoxModel",
            "_view_count": null,
            "_view_module": "@jupyter-widgets/controls",
            "_view_module_version": "1.5.0",
            "_view_name": "HBoxView",
            "box_style": "",
            "children": [
              "IPY_MODEL_d4efa94313f345f5998d10d9a194a38b",
              "IPY_MODEL_8541e523ca854f96b3709c069a58d149",
              "IPY_MODEL_bdeadaf1b5d44385972405288537d2d6"
            ],
            "layout": "IPY_MODEL_fe81b9b7c212463188891f61eee2d1d3"
          }
        },
        "d98f64f33afd4a5ea2841ad8a5b1d963": {
          "model_module": "@jupyter-widgets/controls",
          "model_module_version": "1.5.0",
          "model_name": "HBoxModel",
          "state": {
            "_dom_classes": [],
            "_model_module": "@jupyter-widgets/controls",
            "_model_module_version": "1.5.0",
            "_model_name": "HBoxModel",
            "_view_count": null,
            "_view_module": "@jupyter-widgets/controls",
            "_view_module_version": "1.5.0",
            "_view_name": "HBoxView",
            "box_style": "",
            "children": [
              "IPY_MODEL_19fdadec9c9f423c83ac49da9e02a733",
              "IPY_MODEL_dfe72a7e5c0b4fb7a95178d6348b0fc0",
              "IPY_MODEL_eeecddad25b84c098a0094f9d0ee4006"
            ],
            "layout": "IPY_MODEL_1ce8ea196b0448eca66ba77d9cc968fd"
          }
        },
        "daddb4e026ee43889ee72ae8efe82bf7": {
          "model_module": "@jupyter-widgets/controls",
          "model_module_version": "1.5.0",
          "model_name": "ProgressStyleModel",
          "state": {
            "_model_module": "@jupyter-widgets/controls",
            "_model_module_version": "1.5.0",
            "_model_name": "ProgressStyleModel",
            "_view_count": null,
            "_view_module": "@jupyter-widgets/base",
            "_view_module_version": "1.2.0",
            "_view_name": "StyleView",
            "bar_color": null,
            "description_width": ""
          }
        },
        "db7a214d35ca49a2933464f8459a77e1": {
          "model_module": "@jupyter-widgets/controls",
          "model_module_version": "1.5.0",
          "model_name": "ProgressStyleModel",
          "state": {
            "_model_module": "@jupyter-widgets/controls",
            "_model_module_version": "1.5.0",
            "_model_name": "ProgressStyleModel",
            "_view_count": null,
            "_view_module": "@jupyter-widgets/base",
            "_view_module_version": "1.2.0",
            "_view_name": "StyleView",
            "bar_color": null,
            "description_width": ""
          }
        },
        "db7c945ad54d48f8881920874f31f53f": {
          "model_module": "@jupyter-widgets/controls",
          "model_module_version": "1.5.0",
          "model_name": "HTMLModel",
          "state": {
            "_dom_classes": [],
            "_model_module": "@jupyter-widgets/controls",
            "_model_module_version": "1.5.0",
            "_model_name": "HTMLModel",
            "_view_count": null,
            "_view_module": "@jupyter-widgets/controls",
            "_view_module_version": "1.5.0",
            "_view_name": "HTMLView",
            "description": "",
            "description_tooltip": null,
            "layout": "IPY_MODEL_99330e6b65a4448baa484e06606e043f",
            "placeholder": "​",
            "style": "IPY_MODEL_64b901466ab04fb39ea6550fb1fed5dd",
            "value": "Filtering recommendations: 100%"
          }
        },
        "db8912519094426ea0aa91fde455af70": {
          "model_module": "@jupyter-widgets/base",
          "model_module_version": "1.2.0",
          "model_name": "LayoutModel",
          "state": {
            "_model_module": "@jupyter-widgets/base",
            "_model_module_version": "1.2.0",
            "_model_name": "LayoutModel",
            "_view_count": null,
            "_view_module": "@jupyter-widgets/base",
            "_view_module_version": "1.2.0",
            "_view_name": "LayoutView",
            "align_content": null,
            "align_items": null,
            "align_self": null,
            "border": null,
            "bottom": null,
            "display": null,
            "flex": null,
            "flex_flow": null,
            "grid_area": null,
            "grid_auto_columns": null,
            "grid_auto_flow": null,
            "grid_auto_rows": null,
            "grid_column": null,
            "grid_gap": null,
            "grid_row": null,
            "grid_template_areas": null,
            "grid_template_columns": null,
            "grid_template_rows": null,
            "height": null,
            "justify_content": null,
            "justify_items": null,
            "left": null,
            "margin": null,
            "max_height": null,
            "max_width": null,
            "min_height": null,
            "min_width": null,
            "object_fit": null,
            "object_position": null,
            "order": null,
            "overflow": null,
            "overflow_x": null,
            "overflow_y": null,
            "padding": null,
            "right": null,
            "top": null,
            "visibility": null,
            "width": null
          }
        },
        "dd7c785b889541b7a6c9a095963df3c7": {
          "model_module": "@jupyter-widgets/base",
          "model_module_version": "1.2.0",
          "model_name": "LayoutModel",
          "state": {
            "_model_module": "@jupyter-widgets/base",
            "_model_module_version": "1.2.0",
            "_model_name": "LayoutModel",
            "_view_count": null,
            "_view_module": "@jupyter-widgets/base",
            "_view_module_version": "1.2.0",
            "_view_name": "LayoutView",
            "align_content": null,
            "align_items": null,
            "align_self": null,
            "border": null,
            "bottom": null,
            "display": null,
            "flex": null,
            "flex_flow": null,
            "grid_area": null,
            "grid_auto_columns": null,
            "grid_auto_flow": null,
            "grid_auto_rows": null,
            "grid_column": null,
            "grid_gap": null,
            "grid_row": null,
            "grid_template_areas": null,
            "grid_template_columns": null,
            "grid_template_rows": null,
            "height": null,
            "justify_content": null,
            "justify_items": null,
            "left": null,
            "margin": null,
            "max_height": null,
            "max_width": null,
            "min_height": null,
            "min_width": null,
            "object_fit": null,
            "object_position": null,
            "order": null,
            "overflow": null,
            "overflow_x": null,
            "overflow_y": null,
            "padding": null,
            "right": null,
            "top": null,
            "visibility": null,
            "width": null
          }
        },
        "dd84b2b2a62f446b876d393ef9168bd0": {
          "model_module": "@jupyter-widgets/base",
          "model_module_version": "1.2.0",
          "model_name": "LayoutModel",
          "state": {
            "_model_module": "@jupyter-widgets/base",
            "_model_module_version": "1.2.0",
            "_model_name": "LayoutModel",
            "_view_count": null,
            "_view_module": "@jupyter-widgets/base",
            "_view_module_version": "1.2.0",
            "_view_name": "LayoutView",
            "align_content": null,
            "align_items": null,
            "align_self": null,
            "border": null,
            "bottom": null,
            "display": null,
            "flex": null,
            "flex_flow": null,
            "grid_area": null,
            "grid_auto_columns": null,
            "grid_auto_flow": null,
            "grid_auto_rows": null,
            "grid_column": null,
            "grid_gap": null,
            "grid_row": null,
            "grid_template_areas": null,
            "grid_template_columns": null,
            "grid_template_rows": null,
            "height": null,
            "justify_content": null,
            "justify_items": null,
            "left": null,
            "margin": null,
            "max_height": null,
            "max_width": null,
            "min_height": null,
            "min_width": null,
            "object_fit": null,
            "object_position": null,
            "order": null,
            "overflow": null,
            "overflow_x": null,
            "overflow_y": null,
            "padding": null,
            "right": null,
            "top": null,
            "visibility": null,
            "width": null
          }
        },
        "ddc60551783d42edb83be1b7125657c0": {
          "model_module": "@jupyter-widgets/controls",
          "model_module_version": "1.5.0",
          "model_name": "HBoxModel",
          "state": {
            "_dom_classes": [],
            "_model_module": "@jupyter-widgets/controls",
            "_model_module_version": "1.5.0",
            "_model_name": "HBoxModel",
            "_view_count": null,
            "_view_module": "@jupyter-widgets/controls",
            "_view_module_version": "1.5.0",
            "_view_name": "HBoxView",
            "box_style": "",
            "children": [
              "IPY_MODEL_4f706679ea72421b964c6aa2aabbd4c4",
              "IPY_MODEL_2e54409f1ba5490f93b1eaaf1f567e46",
              "IPY_MODEL_b3135242ce234e14874c5e002f8e3909"
            ],
            "layout": "IPY_MODEL_bcb80fb17e0b433c8294871c5a8adca9"
          }
        },
        "def74d36c72d4c5d86c2abe2c4e1cdca": {
          "model_module": "@jupyter-widgets/controls",
          "model_module_version": "1.5.0",
          "model_name": "HTMLModel",
          "state": {
            "_dom_classes": [],
            "_model_module": "@jupyter-widgets/controls",
            "_model_module_version": "1.5.0",
            "_model_name": "HTMLModel",
            "_view_count": null,
            "_view_module": "@jupyter-widgets/controls",
            "_view_module_version": "1.5.0",
            "_view_name": "HTMLView",
            "description": "",
            "description_tooltip": null,
            "layout": "IPY_MODEL_24fe7a119ade4cd6a30723c4178b20a5",
            "placeholder": "​",
            "style": "IPY_MODEL_198f4af595a8497d9f0b81a2d846b80e",
            "value": "Filtering recommendations: 100%"
          }
        },
        "df14a248e86e463c8474d19e96ad82c1": {
          "model_module": "@jupyter-widgets/base",
          "model_module_version": "1.2.0",
          "model_name": "LayoutModel",
          "state": {
            "_model_module": "@jupyter-widgets/base",
            "_model_module_version": "1.2.0",
            "_model_name": "LayoutModel",
            "_view_count": null,
            "_view_module": "@jupyter-widgets/base",
            "_view_module_version": "1.2.0",
            "_view_name": "LayoutView",
            "align_content": null,
            "align_items": null,
            "align_self": null,
            "border": null,
            "bottom": null,
            "display": null,
            "flex": null,
            "flex_flow": null,
            "grid_area": null,
            "grid_auto_columns": null,
            "grid_auto_flow": null,
            "grid_auto_rows": null,
            "grid_column": null,
            "grid_gap": null,
            "grid_row": null,
            "grid_template_areas": null,
            "grid_template_columns": null,
            "grid_template_rows": null,
            "height": null,
            "justify_content": null,
            "justify_items": null,
            "left": null,
            "margin": null,
            "max_height": null,
            "max_width": null,
            "min_height": null,
            "min_width": null,
            "object_fit": null,
            "object_position": null,
            "order": null,
            "overflow": null,
            "overflow_x": null,
            "overflow_y": null,
            "padding": null,
            "right": null,
            "top": null,
            "visibility": null,
            "width": null
          }
        },
        "dfe72a7e5c0b4fb7a95178d6348b0fc0": {
          "model_module": "@jupyter-widgets/controls",
          "model_module_version": "1.5.0",
          "model_name": "FloatProgressModel",
          "state": {
            "_dom_classes": [],
            "_model_module": "@jupyter-widgets/controls",
            "_model_module_version": "1.5.0",
            "_model_name": "FloatProgressModel",
            "_view_count": null,
            "_view_module": "@jupyter-widgets/controls",
            "_view_module_version": "1.5.0",
            "_view_name": "ProgressView",
            "bar_style": "success",
            "description": "",
            "description_tooltip": null,
            "layout": "IPY_MODEL_db8912519094426ea0aa91fde455af70",
            "max": 16384,
            "min": 0,
            "orientation": "horizontal",
            "style": "IPY_MODEL_1e2bb88c2e7a43baaa31427b3da48089",
            "value": 16384
          }
        },
        "e3107c9fe82d4a6cbe8c60b2ebf44ae7": {
          "model_module": "@jupyter-widgets/base",
          "model_module_version": "1.2.0",
          "model_name": "LayoutModel",
          "state": {
            "_model_module": "@jupyter-widgets/base",
            "_model_module_version": "1.2.0",
            "_model_name": "LayoutModel",
            "_view_count": null,
            "_view_module": "@jupyter-widgets/base",
            "_view_module_version": "1.2.0",
            "_view_name": "LayoutView",
            "align_content": null,
            "align_items": null,
            "align_self": null,
            "border": null,
            "bottom": null,
            "display": null,
            "flex": null,
            "flex_flow": null,
            "grid_area": null,
            "grid_auto_columns": null,
            "grid_auto_flow": null,
            "grid_auto_rows": null,
            "grid_column": null,
            "grid_gap": null,
            "grid_row": null,
            "grid_template_areas": null,
            "grid_template_columns": null,
            "grid_template_rows": null,
            "height": null,
            "justify_content": null,
            "justify_items": null,
            "left": null,
            "margin": null,
            "max_height": null,
            "max_width": null,
            "min_height": null,
            "min_width": null,
            "object_fit": null,
            "object_position": null,
            "order": null,
            "overflow": null,
            "overflow_x": null,
            "overflow_y": null,
            "padding": null,
            "right": null,
            "top": null,
            "visibility": null,
            "width": null
          }
        },
        "e4e536ff33b9437b8e2b2b5e3f07a97b": {
          "model_module": "@jupyter-widgets/controls",
          "model_module_version": "1.5.0",
          "model_name": "DescriptionStyleModel",
          "state": {
            "_model_module": "@jupyter-widgets/controls",
            "_model_module_version": "1.5.0",
            "_model_name": "DescriptionStyleModel",
            "_view_count": null,
            "_view_module": "@jupyter-widgets/base",
            "_view_module_version": "1.2.0",
            "_view_name": "StyleView",
            "description_width": ""
          }
        },
        "e4eae59cc8ec4dba81cc9f138eb81a77": {
          "model_module": "@jupyter-widgets/base",
          "model_module_version": "1.2.0",
          "model_name": "LayoutModel",
          "state": {
            "_model_module": "@jupyter-widgets/base",
            "_model_module_version": "1.2.0",
            "_model_name": "LayoutModel",
            "_view_count": null,
            "_view_module": "@jupyter-widgets/base",
            "_view_module_version": "1.2.0",
            "_view_name": "LayoutView",
            "align_content": null,
            "align_items": null,
            "align_self": null,
            "border": null,
            "bottom": null,
            "display": null,
            "flex": null,
            "flex_flow": null,
            "grid_area": null,
            "grid_auto_columns": null,
            "grid_auto_flow": null,
            "grid_auto_rows": null,
            "grid_column": null,
            "grid_gap": null,
            "grid_row": null,
            "grid_template_areas": null,
            "grid_template_columns": null,
            "grid_template_rows": null,
            "height": null,
            "justify_content": null,
            "justify_items": null,
            "left": null,
            "margin": null,
            "max_height": null,
            "max_width": null,
            "min_height": null,
            "min_width": null,
            "object_fit": null,
            "object_position": null,
            "order": null,
            "overflow": null,
            "overflow_x": null,
            "overflow_y": null,
            "padding": null,
            "right": null,
            "top": null,
            "visibility": null,
            "width": null
          }
        },
        "e60553a94bc64c49959521520e47f916": {
          "model_module": "@jupyter-widgets/controls",
          "model_module_version": "1.5.0",
          "model_name": "HTMLModel",
          "state": {
            "_dom_classes": [],
            "_model_module": "@jupyter-widgets/controls",
            "_model_module_version": "1.5.0",
            "_model_name": "HTMLModel",
            "_view_count": null,
            "_view_module": "@jupyter-widgets/controls",
            "_view_module_version": "1.5.0",
            "_view_name": "HTMLView",
            "description": "",
            "description_tooltip": null,
            "layout": "IPY_MODEL_cb8d2b20fdcd4025ba82b9019428b88f",
            "placeholder": "​",
            "style": "IPY_MODEL_13a53cecdf5a4b9a83db861648b23c21",
            "value": " 16384/16384 [00:10&lt;00:00, 1598.30it/s]"
          }
        },
        "eb9de8d6d0ea415face90421dc9e02b2": {
          "model_module": "@jupyter-widgets/controls",
          "model_module_version": "1.5.0",
          "model_name": "FloatProgressModel",
          "state": {
            "_dom_classes": [],
            "_model_module": "@jupyter-widgets/controls",
            "_model_module_version": "1.5.0",
            "_model_name": "FloatProgressModel",
            "_view_count": null,
            "_view_module": "@jupyter-widgets/controls",
            "_view_module_version": "1.5.0",
            "_view_name": "ProgressView",
            "bar_style": "success",
            "description": "",
            "description_tooltip": null,
            "layout": "IPY_MODEL_602e47c675a54559b0a86eae9ee391b6",
            "max": 16384,
            "min": 0,
            "orientation": "horizontal",
            "style": "IPY_MODEL_175cde7d594c4eb7a56b2a117c1af576",
            "value": 16384
          }
        },
        "eeecddad25b84c098a0094f9d0ee4006": {
          "model_module": "@jupyter-widgets/controls",
          "model_module_version": "1.5.0",
          "model_name": "HTMLModel",
          "state": {
            "_dom_classes": [],
            "_model_module": "@jupyter-widgets/controls",
            "_model_module_version": "1.5.0",
            "_model_name": "HTMLModel",
            "_view_count": null,
            "_view_module": "@jupyter-widgets/controls",
            "_view_module_version": "1.5.0",
            "_view_name": "HTMLView",
            "description": "",
            "description_tooltip": null,
            "layout": "IPY_MODEL_df14a248e86e463c8474d19e96ad82c1",
            "placeholder": "​",
            "style": "IPY_MODEL_fe25627b579040bd9cfc19b2d9e995be",
            "value": " 16384/16384 [00:09&lt;00:00, 1663.93it/s]"
          }
        },
        "f1cf077115644a718468e99b264ab0e0": {
          "model_module": "@jupyter-widgets/controls",
          "model_module_version": "1.5.0",
          "model_name": "HBoxModel",
          "state": {
            "_dom_classes": [],
            "_model_module": "@jupyter-widgets/controls",
            "_model_module_version": "1.5.0",
            "_model_name": "HBoxModel",
            "_view_count": null,
            "_view_module": "@jupyter-widgets/controls",
            "_view_module_version": "1.5.0",
            "_view_name": "HBoxView",
            "box_style": "",
            "children": [
              "IPY_MODEL_85e32fbac2c8497883d300bf12c0c7c9",
              "IPY_MODEL_eb9de8d6d0ea415face90421dc9e02b2",
              "IPY_MODEL_e60553a94bc64c49959521520e47f916"
            ],
            "layout": "IPY_MODEL_7c5683cef43741799ba7695c34a38ff5"
          }
        },
        "f3ac6f26250141fab0ffc712a3b6396c": {
          "model_module": "@jupyter-widgets/controls",
          "model_module_version": "1.5.0",
          "model_name": "HTMLModel",
          "state": {
            "_dom_classes": [],
            "_model_module": "@jupyter-widgets/controls",
            "_model_module_version": "1.5.0",
            "_model_name": "HTMLModel",
            "_view_count": null,
            "_view_module": "@jupyter-widgets/controls",
            "_view_module_version": "1.5.0",
            "_view_name": "HTMLView",
            "description": "",
            "description_tooltip": null,
            "layout": "IPY_MODEL_cb72a1e27527402bb4de7e18ed2d6abc",
            "placeholder": "​",
            "style": "IPY_MODEL_49bcb840ba1647aeb5be8aca5b8aea3f",
            "value": " 5266/5266 [00:03&lt;00:00, 1600.66it/s]"
          }
        },
        "faccdaa4a1b6442491dcad4602ee39fc": {
          "model_module": "@jupyter-widgets/controls",
          "model_module_version": "1.5.0",
          "model_name": "DescriptionStyleModel",
          "state": {
            "_model_module": "@jupyter-widgets/controls",
            "_model_module_version": "1.5.0",
            "_model_name": "DescriptionStyleModel",
            "_view_count": null,
            "_view_module": "@jupyter-widgets/base",
            "_view_module_version": "1.2.0",
            "_view_name": "StyleView",
            "description_width": ""
          }
        },
        "fd7a7795356f4b16bf8dfe8484217688": {
          "model_module": "@jupyter-widgets/controls",
          "model_module_version": "1.5.0",
          "model_name": "DescriptionStyleModel",
          "state": {
            "_model_module": "@jupyter-widgets/controls",
            "_model_module_version": "1.5.0",
            "_model_name": "DescriptionStyleModel",
            "_view_count": null,
            "_view_module": "@jupyter-widgets/base",
            "_view_module_version": "1.2.0",
            "_view_name": "StyleView",
            "description_width": ""
          }
        },
        "fda8a1f70981404bbf6f4ca7d972eabf": {
          "model_module": "@jupyter-widgets/controls",
          "model_module_version": "1.5.0",
          "model_name": "FloatProgressModel",
          "state": {
            "_dom_classes": [],
            "_model_module": "@jupyter-widgets/controls",
            "_model_module_version": "1.5.0",
            "_model_name": "FloatProgressModel",
            "_view_count": null,
            "_view_module": "@jupyter-widgets/controls",
            "_view_module_version": "1.5.0",
            "_view_name": "ProgressView",
            "bar_style": "success",
            "description": "",
            "description_tooltip": null,
            "layout": "IPY_MODEL_dd84b2b2a62f446b876d393ef9168bd0",
            "max": 16384,
            "min": 0,
            "orientation": "horizontal",
            "style": "IPY_MODEL_db7a214d35ca49a2933464f8459a77e1",
            "value": 16384
          }
        },
        "fe25627b579040bd9cfc19b2d9e995be": {
          "model_module": "@jupyter-widgets/controls",
          "model_module_version": "1.5.0",
          "model_name": "DescriptionStyleModel",
          "state": {
            "_model_module": "@jupyter-widgets/controls",
            "_model_module_version": "1.5.0",
            "_model_name": "DescriptionStyleModel",
            "_view_count": null,
            "_view_module": "@jupyter-widgets/base",
            "_view_module_version": "1.2.0",
            "_view_name": "StyleView",
            "description_width": ""
          }
        },
        "fe81b9b7c212463188891f61eee2d1d3": {
          "model_module": "@jupyter-widgets/base",
          "model_module_version": "1.2.0",
          "model_name": "LayoutModel",
          "state": {
            "_model_module": "@jupyter-widgets/base",
            "_model_module_version": "1.2.0",
            "_model_name": "LayoutModel",
            "_view_count": null,
            "_view_module": "@jupyter-widgets/base",
            "_view_module_version": "1.2.0",
            "_view_name": "LayoutView",
            "align_content": null,
            "align_items": null,
            "align_self": null,
            "border": null,
            "bottom": null,
            "display": null,
            "flex": null,
            "flex_flow": null,
            "grid_area": null,
            "grid_auto_columns": null,
            "grid_auto_flow": null,
            "grid_auto_rows": null,
            "grid_column": null,
            "grid_gap": null,
            "grid_row": null,
            "grid_template_areas": null,
            "grid_template_columns": null,
            "grid_template_rows": null,
            "height": null,
            "justify_content": null,
            "justify_items": null,
            "left": null,
            "margin": null,
            "max_height": null,
            "max_width": null,
            "min_height": null,
            "min_width": null,
            "object_fit": null,
            "object_position": null,
            "order": null,
            "overflow": null,
            "overflow_x": null,
            "overflow_y": null,
            "padding": null,
            "right": null,
            "top": null,
            "visibility": null,
            "width": null
          }
        },
        "fed9f97f8fdd4587aa6f29ff584f2bc8": {
          "model_module": "@jupyter-widgets/base",
          "model_module_version": "1.2.0",
          "model_name": "LayoutModel",
          "state": {
            "_model_module": "@jupyter-widgets/base",
            "_model_module_version": "1.2.0",
            "_model_name": "LayoutModel",
            "_view_count": null,
            "_view_module": "@jupyter-widgets/base",
            "_view_module_version": "1.2.0",
            "_view_name": "LayoutView",
            "align_content": null,
            "align_items": null,
            "align_self": null,
            "border": null,
            "bottom": null,
            "display": null,
            "flex": null,
            "flex_flow": null,
            "grid_area": null,
            "grid_auto_columns": null,
            "grid_auto_flow": null,
            "grid_auto_rows": null,
            "grid_column": null,
            "grid_gap": null,
            "grid_row": null,
            "grid_template_areas": null,
            "grid_template_columns": null,
            "grid_template_rows": null,
            "height": null,
            "justify_content": null,
            "justify_items": null,
            "left": null,
            "margin": null,
            "max_height": null,
            "max_width": null,
            "min_height": null,
            "min_width": null,
            "object_fit": null,
            "object_position": null,
            "order": null,
            "overflow": null,
            "overflow_x": null,
            "overflow_y": null,
            "padding": null,
            "right": null,
            "top": null,
            "visibility": null,
            "width": null
          }
        }
      }
    }
  },
  "nbformat": 4,
  "nbformat_minor": 5
}
